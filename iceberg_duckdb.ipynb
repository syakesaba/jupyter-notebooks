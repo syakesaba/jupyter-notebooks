{
  "nbformat": 4,
  "nbformat_minor": 0,
  "metadata": {
    "colab": {
      "provenance": [],
      "toc_visible": true,
      "authorship_tag": "ABX9TyO8BsgxmVZ3uuZsBjLxan+k",
      "include_colab_link": true
    },
    "kernelspec": {
      "name": "python3",
      "display_name": "Python 3"
    },
    "language_info": {
      "name": "python"
    },
    "widgets": {
      "application/vnd.jupyter.widget-state+json": {
        "c7fba1ee4bdb4589801989d9452876b7": {
          "model_module": "@jupyter-widgets/controls",
          "model_name": "FloatProgressModel",
          "model_module_version": "1.5.0",
          "state": {
            "_dom_classes": [],
            "_model_module": "@jupyter-widgets/controls",
            "_model_module_version": "1.5.0",
            "_model_name": "FloatProgressModel",
            "_view_count": null,
            "_view_module": "@jupyter-widgets/controls",
            "_view_module_version": "1.5.0",
            "_view_name": "ProgressView",
            "bar_style": "",
            "description": "",
            "description_tooltip": null,
            "layout": "IPY_MODEL_b5148150e790401ebeaf902b5847cdb6",
            "max": 100,
            "min": 0,
            "orientation": "horizontal",
            "style": "IPY_MODEL_0e8fe05c69794a74a0014a3b09a5c1be",
            "value": 100
          }
        },
        "b5148150e790401ebeaf902b5847cdb6": {
          "model_module": "@jupyter-widgets/base",
          "model_name": "LayoutModel",
          "model_module_version": "1.2.0",
          "state": {
            "_model_module": "@jupyter-widgets/base",
            "_model_module_version": "1.2.0",
            "_model_name": "LayoutModel",
            "_view_count": null,
            "_view_module": "@jupyter-widgets/base",
            "_view_module_version": "1.2.0",
            "_view_name": "LayoutView",
            "align_content": null,
            "align_items": null,
            "align_self": null,
            "border": null,
            "bottom": null,
            "display": null,
            "flex": null,
            "flex_flow": null,
            "grid_area": null,
            "grid_auto_columns": null,
            "grid_auto_flow": null,
            "grid_auto_rows": null,
            "grid_column": null,
            "grid_gap": null,
            "grid_row": null,
            "grid_template_areas": null,
            "grid_template_columns": null,
            "grid_template_rows": null,
            "height": null,
            "justify_content": null,
            "justify_items": null,
            "left": null,
            "margin": null,
            "max_height": null,
            "max_width": null,
            "min_height": null,
            "min_width": null,
            "object_fit": null,
            "object_position": null,
            "order": null,
            "overflow": null,
            "overflow_x": null,
            "overflow_y": null,
            "padding": null,
            "right": null,
            "top": null,
            "visibility": null,
            "width": "auto"
          }
        },
        "0e8fe05c69794a74a0014a3b09a5c1be": {
          "model_module": "@jupyter-widgets/controls",
          "model_name": "ProgressStyleModel",
          "model_module_version": "1.5.0",
          "state": {
            "_model_module": "@jupyter-widgets/controls",
            "_model_module_version": "1.5.0",
            "_model_name": "ProgressStyleModel",
            "_view_count": null,
            "_view_module": "@jupyter-widgets/base",
            "_view_module_version": "1.2.0",
            "_view_name": "StyleView",
            "bar_color": "black",
            "description_width": ""
          }
        },
        "cb08a5189c3845c98d280a69873fe252": {
          "model_module": "@jupyter-widgets/controls",
          "model_name": "FloatProgressModel",
          "model_module_version": "1.5.0",
          "state": {
            "_dom_classes": [],
            "_model_module": "@jupyter-widgets/controls",
            "_model_module_version": "1.5.0",
            "_model_name": "FloatProgressModel",
            "_view_count": null,
            "_view_module": "@jupyter-widgets/controls",
            "_view_module_version": "1.5.0",
            "_view_name": "ProgressView",
            "bar_style": "",
            "description": "",
            "description_tooltip": null,
            "layout": "IPY_MODEL_09f5ae94be0b4876bed2cfefbc339e61",
            "max": 100,
            "min": 0,
            "orientation": "horizontal",
            "style": "IPY_MODEL_c54dc3eff52c41b5ab0490ffd3446961",
            "value": 100
          }
        },
        "09f5ae94be0b4876bed2cfefbc339e61": {
          "model_module": "@jupyter-widgets/base",
          "model_name": "LayoutModel",
          "model_module_version": "1.2.0",
          "state": {
            "_model_module": "@jupyter-widgets/base",
            "_model_module_version": "1.2.0",
            "_model_name": "LayoutModel",
            "_view_count": null,
            "_view_module": "@jupyter-widgets/base",
            "_view_module_version": "1.2.0",
            "_view_name": "LayoutView",
            "align_content": null,
            "align_items": null,
            "align_self": null,
            "border": null,
            "bottom": null,
            "display": null,
            "flex": null,
            "flex_flow": null,
            "grid_area": null,
            "grid_auto_columns": null,
            "grid_auto_flow": null,
            "grid_auto_rows": null,
            "grid_column": null,
            "grid_gap": null,
            "grid_row": null,
            "grid_template_areas": null,
            "grid_template_columns": null,
            "grid_template_rows": null,
            "height": null,
            "justify_content": null,
            "justify_items": null,
            "left": null,
            "margin": null,
            "max_height": null,
            "max_width": null,
            "min_height": null,
            "min_width": null,
            "object_fit": null,
            "object_position": null,
            "order": null,
            "overflow": null,
            "overflow_x": null,
            "overflow_y": null,
            "padding": null,
            "right": null,
            "top": null,
            "visibility": null,
            "width": "auto"
          }
        },
        "c54dc3eff52c41b5ab0490ffd3446961": {
          "model_module": "@jupyter-widgets/controls",
          "model_name": "ProgressStyleModel",
          "model_module_version": "1.5.0",
          "state": {
            "_model_module": "@jupyter-widgets/controls",
            "_model_module_version": "1.5.0",
            "_model_name": "ProgressStyleModel",
            "_view_count": null,
            "_view_module": "@jupyter-widgets/base",
            "_view_module_version": "1.2.0",
            "_view_name": "StyleView",
            "bar_color": "black",
            "description_width": ""
          }
        },
        "99f842f70f0743b2993117fd83e42cd8": {
          "model_module": "@jupyter-widgets/controls",
          "model_name": "FloatProgressModel",
          "model_module_version": "1.5.0",
          "state": {
            "_dom_classes": [],
            "_model_module": "@jupyter-widgets/controls",
            "_model_module_version": "1.5.0",
            "_model_name": "FloatProgressModel",
            "_view_count": null,
            "_view_module": "@jupyter-widgets/controls",
            "_view_module_version": "1.5.0",
            "_view_name": "ProgressView",
            "bar_style": "",
            "description": "",
            "description_tooltip": null,
            "layout": "IPY_MODEL_e8a788ffd4f94c71b0cf2244a57a1ebd",
            "max": 100,
            "min": 0,
            "orientation": "horizontal",
            "style": "IPY_MODEL_4a6c002a69644a2d9fad8260579aa8fd",
            "value": 100
          }
        },
        "e8a788ffd4f94c71b0cf2244a57a1ebd": {
          "model_module": "@jupyter-widgets/base",
          "model_name": "LayoutModel",
          "model_module_version": "1.2.0",
          "state": {
            "_model_module": "@jupyter-widgets/base",
            "_model_module_version": "1.2.0",
            "_model_name": "LayoutModel",
            "_view_count": null,
            "_view_module": "@jupyter-widgets/base",
            "_view_module_version": "1.2.0",
            "_view_name": "LayoutView",
            "align_content": null,
            "align_items": null,
            "align_self": null,
            "border": null,
            "bottom": null,
            "display": null,
            "flex": null,
            "flex_flow": null,
            "grid_area": null,
            "grid_auto_columns": null,
            "grid_auto_flow": null,
            "grid_auto_rows": null,
            "grid_column": null,
            "grid_gap": null,
            "grid_row": null,
            "grid_template_areas": null,
            "grid_template_columns": null,
            "grid_template_rows": null,
            "height": null,
            "justify_content": null,
            "justify_items": null,
            "left": null,
            "margin": null,
            "max_height": null,
            "max_width": null,
            "min_height": null,
            "min_width": null,
            "object_fit": null,
            "object_position": null,
            "order": null,
            "overflow": null,
            "overflow_x": null,
            "overflow_y": null,
            "padding": null,
            "right": null,
            "top": null,
            "visibility": null,
            "width": "auto"
          }
        },
        "4a6c002a69644a2d9fad8260579aa8fd": {
          "model_module": "@jupyter-widgets/controls",
          "model_name": "ProgressStyleModel",
          "model_module_version": "1.5.0",
          "state": {
            "_model_module": "@jupyter-widgets/controls",
            "_model_module_version": "1.5.0",
            "_model_name": "ProgressStyleModel",
            "_view_count": null,
            "_view_module": "@jupyter-widgets/base",
            "_view_module_version": "1.2.0",
            "_view_name": "StyleView",
            "bar_color": "black",
            "description_width": ""
          }
        },
        "75a1cc340cd24d64a5f51951f1f2f200": {
          "model_module": "@jupyter-widgets/controls",
          "model_name": "FloatProgressModel",
          "model_module_version": "1.5.0",
          "state": {
            "_dom_classes": [],
            "_model_module": "@jupyter-widgets/controls",
            "_model_module_version": "1.5.0",
            "_model_name": "FloatProgressModel",
            "_view_count": null,
            "_view_module": "@jupyter-widgets/controls",
            "_view_module_version": "1.5.0",
            "_view_name": "ProgressView",
            "bar_style": "",
            "description": "",
            "description_tooltip": null,
            "layout": "IPY_MODEL_03b0232a87de428795f2b936103f9ece",
            "max": 100,
            "min": 0,
            "orientation": "horizontal",
            "style": "IPY_MODEL_121b40091e094f87b9b43e9791b29b54",
            "value": 100
          }
        },
        "03b0232a87de428795f2b936103f9ece": {
          "model_module": "@jupyter-widgets/base",
          "model_name": "LayoutModel",
          "model_module_version": "1.2.0",
          "state": {
            "_model_module": "@jupyter-widgets/base",
            "_model_module_version": "1.2.0",
            "_model_name": "LayoutModel",
            "_view_count": null,
            "_view_module": "@jupyter-widgets/base",
            "_view_module_version": "1.2.0",
            "_view_name": "LayoutView",
            "align_content": null,
            "align_items": null,
            "align_self": null,
            "border": null,
            "bottom": null,
            "display": null,
            "flex": null,
            "flex_flow": null,
            "grid_area": null,
            "grid_auto_columns": null,
            "grid_auto_flow": null,
            "grid_auto_rows": null,
            "grid_column": null,
            "grid_gap": null,
            "grid_row": null,
            "grid_template_areas": null,
            "grid_template_columns": null,
            "grid_template_rows": null,
            "height": null,
            "justify_content": null,
            "justify_items": null,
            "left": null,
            "margin": null,
            "max_height": null,
            "max_width": null,
            "min_height": null,
            "min_width": null,
            "object_fit": null,
            "object_position": null,
            "order": null,
            "overflow": null,
            "overflow_x": null,
            "overflow_y": null,
            "padding": null,
            "right": null,
            "top": null,
            "visibility": null,
            "width": "auto"
          }
        },
        "121b40091e094f87b9b43e9791b29b54": {
          "model_module": "@jupyter-widgets/controls",
          "model_name": "ProgressStyleModel",
          "model_module_version": "1.5.0",
          "state": {
            "_model_module": "@jupyter-widgets/controls",
            "_model_module_version": "1.5.0",
            "_model_name": "ProgressStyleModel",
            "_view_count": null,
            "_view_module": "@jupyter-widgets/base",
            "_view_module_version": "1.2.0",
            "_view_name": "StyleView",
            "bar_color": "black",
            "description_width": ""
          }
        },
        "1ea1462570f04ba885e49537716b7342": {
          "model_module": "@jupyter-widgets/controls",
          "model_name": "FloatProgressModel",
          "model_module_version": "1.5.0",
          "state": {
            "_dom_classes": [],
            "_model_module": "@jupyter-widgets/controls",
            "_model_module_version": "1.5.0",
            "_model_name": "FloatProgressModel",
            "_view_count": null,
            "_view_module": "@jupyter-widgets/controls",
            "_view_module_version": "1.5.0",
            "_view_name": "ProgressView",
            "bar_style": "",
            "description": "",
            "description_tooltip": null,
            "layout": "IPY_MODEL_c96293d8895d4d45b714ae1072655565",
            "max": 100,
            "min": 0,
            "orientation": "horizontal",
            "style": "IPY_MODEL_d74c274d66104927a2c828c088c6bdad",
            "value": 100
          }
        },
        "c96293d8895d4d45b714ae1072655565": {
          "model_module": "@jupyter-widgets/base",
          "model_name": "LayoutModel",
          "model_module_version": "1.2.0",
          "state": {
            "_model_module": "@jupyter-widgets/base",
            "_model_module_version": "1.2.0",
            "_model_name": "LayoutModel",
            "_view_count": null,
            "_view_module": "@jupyter-widgets/base",
            "_view_module_version": "1.2.0",
            "_view_name": "LayoutView",
            "align_content": null,
            "align_items": null,
            "align_self": null,
            "border": null,
            "bottom": null,
            "display": null,
            "flex": null,
            "flex_flow": null,
            "grid_area": null,
            "grid_auto_columns": null,
            "grid_auto_flow": null,
            "grid_auto_rows": null,
            "grid_column": null,
            "grid_gap": null,
            "grid_row": null,
            "grid_template_areas": null,
            "grid_template_columns": null,
            "grid_template_rows": null,
            "height": null,
            "justify_content": null,
            "justify_items": null,
            "left": null,
            "margin": null,
            "max_height": null,
            "max_width": null,
            "min_height": null,
            "min_width": null,
            "object_fit": null,
            "object_position": null,
            "order": null,
            "overflow": null,
            "overflow_x": null,
            "overflow_y": null,
            "padding": null,
            "right": null,
            "top": null,
            "visibility": null,
            "width": "auto"
          }
        },
        "d74c274d66104927a2c828c088c6bdad": {
          "model_module": "@jupyter-widgets/controls",
          "model_name": "ProgressStyleModel",
          "model_module_version": "1.5.0",
          "state": {
            "_model_module": "@jupyter-widgets/controls",
            "_model_module_version": "1.5.0",
            "_model_name": "ProgressStyleModel",
            "_view_count": null,
            "_view_module": "@jupyter-widgets/base",
            "_view_module_version": "1.2.0",
            "_view_name": "StyleView",
            "bar_color": "black",
            "description_width": ""
          }
        }
      }
    }
  },
  "cells": [
    {
      "cell_type": "markdown",
      "metadata": {
        "id": "view-in-github",
        "colab_type": "text"
      },
      "source": [
        "<a href=\"https://colab.research.google.com/github/syakesaba/jupyter-notebooks/blob/main/iceberg_duckdb.ipynb\" target=\"_parent\"><img src=\"https://colab.research.google.com/assets/colab-badge.svg\" alt=\"Open In Colab\"/></a>"
      ]
    },
    {
      "cell_type": "markdown",
      "source": [
        "# Secretの読み込み"
      ],
      "metadata": {
        "id": "fLwEnpueCOm5"
      }
    },
    {
      "cell_type": "code",
      "source": [
        "from google.colab import userdata\n",
        "\n",
        "S3A_ENDPOINT = userdata.get('S3A_ENDPOINT') # xxxxxxx.compat.objectstorage.{S3A_REGION}.oraclecloud.com\n",
        "S3A_ACCESS_KEY = userdata.get('S3A_ACCESS_KEY') # xxxxxxxxxxxx\n",
        "S3A_SECRET_KEY = userdata.get('S3A_SECRET_KEY') # xxxxxxxxxxxx\n",
        "S3A_REGION = userdata.get('S3A_REGION') # ap-northeast-1"
      ],
      "metadata": {
        "id": "5N8EmOKTCN_U"
      },
      "execution_count": 170,
      "outputs": []
    },
    {
      "cell_type": "markdown",
      "source": [
        "# NSRLJPデータセットの取得"
      ],
      "metadata": {
        "id": "KDJk9N8Qu0t3"
      }
    },
    {
      "cell_type": "code",
      "source": [
        "!wget https://www.kazamiya.net/files/projects/NSRLJP_202408.7z\n",
        "!7z x NSRLJP_202408.7z\n",
        "!mv ./NSRLJP_202408/NSRLFile{.txt,.csv}\n",
        "!mv ./NSRLJP_202408/NSRLMfg{.txt,.csv}\n",
        "!mv ./NSRLJP_202408/NSRLOS{.txt,.csv}\n",
        "!mv ./NSRLJP_202408/NSRLProd{.txt,.csv}"
      ],
      "metadata": {
        "colab": {
          "base_uri": "https://localhost:8080/"
        },
        "id": "9rNkSm88teVG",
        "outputId": "53e0ab2d-2277-4a7a-dac1-eac299002536"
      },
      "execution_count": 171,
      "outputs": [
        {
          "output_type": "stream",
          "name": "stdout",
          "text": [
            "--2025-03-20 13:30:20--  https://www.kazamiya.net/files/projects/NSRLJP_202408.7z\n",
            "Resolving www.kazamiya.net (www.kazamiya.net)... 203.143.110.17\n",
            "Connecting to www.kazamiya.net (www.kazamiya.net)|203.143.110.17|:443... connected.\n",
            "HTTP request sent, awaiting response... 200 OK\n",
            "Length: 319470599 (305M) [application/x-7z-compressed]\n",
            "Saving to: ‘NSRLJP_202408.7z.1’\n",
            "\n",
            "NSRLJP_202408.7z.1  100%[===================>] 304.67M  11.1MB/s    in 28s     \n",
            "\n",
            "2025-03-20 13:30:48 (10.8 MB/s) - ‘NSRLJP_202408.7z.1’ saved [319470599/319470599]\n",
            "\n",
            "\n",
            "7-Zip [64] 16.02 : Copyright (c) 1999-2016 Igor Pavlov : 2016-05-21\n",
            "p7zip Version 16.02 (locale=en_US.UTF-8,Utf16=on,HugeFiles=on,64 bits,2 CPUs Intel(R) Xeon(R) CPU @ 2.20GHz (406F0),ASM,AES-NI)\n",
            "\n",
            "Scanning the drive for archives:\n",
            "  0M Scan\b\b\b\b\b\b\b\b\b         \b\b\b\b\b\b\b\b\b1 file, 319470599 bytes (305 MiB)\n",
            "\n",
            "Extracting archive: NSRLJP_202408.7z\n",
            "--\n",
            "Path = NSRLJP_202408.7z\n",
            "Type = 7z\n",
            "Physical Size = 319470599\n",
            "Headers Size = 275\n",
            "Method = LZMA2:24\n",
            "Solid = +\n",
            "Blocks = 1\n",
            "\n",
            "  0%\b\b\b\b    \b\b\b\b  0% 1 - NSRLJP_202408/NSRLFile.txt\b\b\b\b\b\b\b\b\b\b\b\b\b\b\b\b\b\b\b\b\b\b\b\b\b\b\b\b\b\b\b\b\b\b\b                                   \b\b\b\b\b\b\b\b\b\b\b\b\b\b\b\b\b\b\b\b\b\b\b\b\b\b\b\b\b\b\b\b\b\b\b  1% 1 - NSRLJP_202408/NSRLFile.txt\b\b\b\b\b\b\b\b\b\b\b\b\b\b\b\b\b\b\b\b\b\b\b\b\b\b\b\b\b\b\b\b\b\b\b                                   \b\b\b\b\b\b\b\b\b\b\b\b\b\b\b\b\b\b\b\b\b\b\b\b\b\b\b\b\b\b\b\b\b\b\b  2% 1 - NSRLJP_202408/NSRLFile.txt\b\b\b\b\b\b\b\b\b\b\b\b\b\b\b\b\b\b\b\b\b\b\b\b\b\b\b\b\b\b\b\b\b\b\b                                   \b\b\b\b\b\b\b\b\b\b\b\b\b\b\b\b\b\b\b\b\b\b\b\b\b\b\b\b\b\b\b\b\b\b\b  3% 1 - NSRLJP_202408/NSRLFile.txt\b\b\b\b\b\b\b\b\b\b\b\b\b\b\b\b\b\b\b\b\b\b\b\b\b\b\b\b\b\b\b\b\b\b\b                                   \b\b\b\b\b\b\b\b\b\b\b\b\b\b\b\b\b\b\b\b\b\b\b\b\b\b\b\b\b\b\b\b\b\b\b  4% 1 - NSRLJP_202408/NSRLFile.txt\b\b\b\b\b\b\b\b\b\b\b\b\b\b\b\b\b\b\b\b\b\b\b\b\b\b\b\b\b\b\b\b\b\b\b                                   \b\b\b\b\b\b\b\b\b\b\b\b\b\b\b\b\b\b\b\b\b\b\b\b\b\b\b\b\b\b\b\b\b\b\b  5% 1 - NSRLJP_202408/NSRLFile.txt\b\b\b\b\b\b\b\b\b\b\b\b\b\b\b\b\b\b\b\b\b\b\b\b\b\b\b\b\b\b\b\b\b\b\b                                   \b\b\b\b\b\b\b\b\b\b\b\b\b\b\b\b\b\b\b\b\b\b\b\b\b\b\b\b\b\b\b\b\b\b\b  6% 1 - NSRLJP_202408/NSRLFile.txt\b\b\b\b\b\b\b\b\b\b\b\b\b\b\b\b\b\b\b\b\b\b\b\b\b\b\b\b\b\b\b\b\b\b\b                                   \b\b\b\b\b\b\b\b\b\b\b\b\b\b\b\b\b\b\b\b\b\b\b\b\b\b\b\b\b\b\b\b\b\b\b  7% 1 - NSRLJP_202408/NSRLFile.txt\b\b\b\b\b\b\b\b\b\b\b\b\b\b\b\b\b\b\b\b\b\b\b\b\b\b\b\b\b\b\b\b\b\b\b                                   \b\b\b\b\b\b\b\b\b\b\b\b\b\b\b\b\b\b\b\b\b\b\b\b\b\b\b\b\b\b\b\b\b\b\b  8% 1 - NSRLJP_202408/NSRLFile.txt\b\b\b\b\b\b\b\b\b\b\b\b\b\b\b\b\b\b\b\b\b\b\b\b\b\b\b\b\b\b\b\b\b\b\b                                   \b\b\b\b\b\b\b\b\b\b\b\b\b\b\b\b\b\b\b\b\b\b\b\b\b\b\b\b\b\b\b\b\b\b\b  9% 1 - NSRLJP_202408/NSRLFile.txt\b\b\b\b\b\b\b\b\b\b\b\b\b\b\b\b\b\b\b\b\b\b\b\b\b\b\b\b\b\b\b\b\b\b\b                                   \b\b\b\b\b\b\b\b\b\b\b\b\b\b\b\b\b\b\b\b\b\b\b\b\b\b\b\b\b\b\b\b\b\b\b 10% 1 - NSRLJP_202408/NSRLFile.txt\b\b\b\b\b\b\b\b\b\b\b\b\b\b\b\b\b\b\b\b\b\b\b\b\b\b\b\b\b\b\b\b\b\b\b                                   \b\b\b\b\b\b\b\b\b\b\b\b\b\b\b\b\b\b\b\b\b\b\b\b\b\b\b\b\b\b\b\b\b\b\b 11% 1 - NSRLJP_202408/NSRLFile.txt\b\b\b\b\b\b\b\b\b\b\b\b\b\b\b\b\b\b\b\b\b\b\b\b\b\b\b\b\b\b\b\b\b\b\b                                   \b\b\b\b\b\b\b\b\b\b\b\b\b\b\b\b\b\b\b\b\b\b\b\b\b\b\b\b\b\b\b\b\b\b\b 12% 1 - NSRLJP_202408/NSRLFile.txt\b\b\b\b\b\b\b\b\b\b\b\b\b\b\b\b\b\b\b\b\b\b\b\b\b\b\b\b\b\b\b\b\b\b\b                                   \b\b\b\b\b\b\b\b\b\b\b\b\b\b\b\b\b\b\b\b\b\b\b\b\b\b\b\b\b\b\b\b\b\b\b 13% 1 - NSRLJP_202408/NSRLFile.txt\b\b\b\b\b\b\b\b\b\b\b\b\b\b\b\b\b\b\b\b\b\b\b\b\b\b\b\b\b\b\b\b\b\b\b                                   \b\b\b\b\b\b\b\b\b\b\b\b\b\b\b\b\b\b\b\b\b\b\b\b\b\b\b\b\b\b\b\b\b\b\b 14% 1 - NSRLJP_202408/NSRLFile.txt\b\b\b\b\b\b\b\b\b\b\b\b\b\b\b\b\b\b\b\b\b\b\b\b\b\b\b\b\b\b\b\b\b\b\b                                   \b\b\b\b\b\b\b\b\b\b\b\b\b\b\b\b\b\b\b\b\b\b\b\b\b\b\b\b\b\b\b\b\b\b\b 15% 1 - NSRLJP_202408/NSRLFile.txt\b\b\b\b\b\b\b\b\b\b\b\b\b\b\b\b\b\b\b\b\b\b\b\b\b\b\b\b\b\b\b\b\b\b\b                                   \b\b\b\b\b\b\b\b\b\b\b\b\b\b\b\b\b\b\b\b\b\b\b\b\b\b\b\b\b\b\b\b\b\b\b 16% 1 - NSRLJP_202408/NSRLFile.txt\b\b\b\b\b\b\b\b\b\b\b\b\b\b\b\b\b\b\b\b\b\b\b\b\b\b\b\b\b\b\b\b\b\b\b                                   \b\b\b\b\b\b\b\b\b\b\b\b\b\b\b\b\b\b\b\b\b\b\b\b\b\b\b\b\b\b\b\b\b\b\b 17% 1 - NSRLJP_202408/NSRLFile.txt\b\b\b\b\b\b\b\b\b\b\b\b\b\b\b\b\b\b\b\b\b\b\b\b\b\b\b\b\b\b\b\b\b\b\b                                   \b\b\b\b\b\b\b\b\b\b\b\b\b\b\b\b\b\b\b\b\b\b\b\b\b\b\b\b\b\b\b\b\b\b\b 18% 1 - NSRLJP_202408/NSRLFile.txt\b\b\b\b\b\b\b\b\b\b\b\b\b\b\b\b\b\b\b\b\b\b\b\b\b\b\b\b\b\b\b\b\b\b\b                                   \b\b\b\b\b\b\b\b\b\b\b\b\b\b\b\b\b\b\b\b\b\b\b\b\b\b\b\b\b\b\b\b\b\b\b 19% 1 - NSRLJP_202408/NSRLFile.txt\b\b\b\b\b\b\b\b\b\b\b\b\b\b\b\b\b\b\b\b\b\b\b\b\b\b\b\b\b\b\b\b\b\b\b                                   \b\b\b\b\b\b\b\b\b\b\b\b\b\b\b\b\b\b\b\b\b\b\b\b\b\b\b\b\b\b\b\b\b\b\b 20% 1 - NSRLJP_202408/NSRLFile.txt\b\b\b\b\b\b\b\b\b\b\b\b\b\b\b\b\b\b\b\b\b\b\b\b\b\b\b\b\b\b\b\b\b\b\b                                   \b\b\b\b\b\b\b\b\b\b\b\b\b\b\b\b\b\b\b\b\b\b\b\b\b\b\b\b\b\b\b\b\b\b\b 21% 1 - NSRLJP_202408/NSRLFile.txt\b\b\b\b\b\b\b\b\b\b\b\b\b\b\b\b\b\b\b\b\b\b\b\b\b\b\b\b\b\b\b\b\b\b\b                                   \b\b\b\b\b\b\b\b\b\b\b\b\b\b\b\b\b\b\b\b\b\b\b\b\b\b\b\b\b\b\b\b\b\b\b 22% 1 - NSRLJP_202408/NSRLFile.txt\b\b\b\b\b\b\b\b\b\b\b\b\b\b\b\b\b\b\b\b\b\b\b\b\b\b\b\b\b\b\b\b\b\b\b                                   \b\b\b\b\b\b\b\b\b\b\b\b\b\b\b\b\b\b\b\b\b\b\b\b\b\b\b\b\b\b\b\b\b\b\b 23% 1 - NSRLJP_202408/NSRLFile.txt\b\b\b\b\b\b\b\b\b\b\b\b\b\b\b\b\b\b\b\b\b\b\b\b\b\b\b\b\b\b\b\b\b\b\b                                   \b\b\b\b\b\b\b\b\b\b\b\b\b\b\b\b\b\b\b\b\b\b\b\b\b\b\b\b\b\b\b\b\b\b\b 24% 1 - NSRLJP_202408/NSRLFile.txt\b\b\b\b\b\b\b\b\b\b\b\b\b\b\b\b\b\b\b\b\b\b\b\b\b\b\b\b\b\b\b\b\b\b\b                                   \b\b\b\b\b\b\b\b\b\b\b\b\b\b\b\b\b\b\b\b\b\b\b\b\b\b\b\b\b\b\b\b\b\b\b 25% 1 - NSRLJP_202408/NSRLFile.txt\b\b\b\b\b\b\b\b\b\b\b\b\b\b\b\b\b\b\b\b\b\b\b\b\b\b\b\b\b\b\b\b\b\b\b                                   \b\b\b\b\b\b\b\b\b\b\b\b\b\b\b\b\b\b\b\b\b\b\b\b\b\b\b\b\b\b\b\b\b\b\b 26% 1 - NSRLJP_202408/NSRLFile.txt\b\b\b\b\b\b\b\b\b\b\b\b\b\b\b\b\b\b\b\b\b\b\b\b\b\b\b\b\b\b\b\b\b\b\b                                   \b\b\b\b\b\b\b\b\b\b\b\b\b\b\b\b\b\b\b\b\b\b\b\b\b\b\b\b\b\b\b\b\b\b\b 27% 1 - NSRLJP_202408/NSRLFile.txt\b\b\b\b\b\b\b\b\b\b\b\b\b\b\b\b\b\b\b\b\b\b\b\b\b\b\b\b\b\b\b\b\b\b\b                                   \b\b\b\b\b\b\b\b\b\b\b\b\b\b\b\b\b\b\b\b\b\b\b\b\b\b\b\b\b\b\b\b\b\b\b 28% 1 - NSRLJP_202408/NSRLFile.txt\b\b\b\b\b\b\b\b\b\b\b\b\b\b\b\b\b\b\b\b\b\b\b\b\b\b\b\b\b\b\b\b\b\b\b                                   \b\b\b\b\b\b\b\b\b\b\b\b\b\b\b\b\b\b\b\b\b\b\b\b\b\b\b\b\b\b\b\b\b\b\b 29% 1 - NSRLJP_202408/NSRLFile.txt\b\b\b\b\b\b\b\b\b\b\b\b\b\b\b\b\b\b\b\b\b\b\b\b\b\b\b\b\b\b\b\b\b\b\b                                   \b\b\b\b\b\b\b\b\b\b\b\b\b\b\b\b\b\b\b\b\b\b\b\b\b\b\b\b\b\b\b\b\b\b\b 30% 1 - NSRLJP_202408/NSRLFile.txt\b\b\b\b\b\b\b\b\b\b\b\b\b\b\b\b\b\b\b\b\b\b\b\b\b\b\b\b\b\b\b\b\b\b\b                                   \b\b\b\b\b\b\b\b\b\b\b\b\b\b\b\b\b\b\b\b\b\b\b\b\b\b\b\b\b\b\b\b\b\b\b 31% 1 - NSRLJP_202408/NSRLFile.txt\b\b\b\b\b\b\b\b\b\b\b\b\b\b\b\b\b\b\b\b\b\b\b\b\b\b\b\b\b\b\b\b\b\b\b                                   \b\b\b\b\b\b\b\b\b\b\b\b\b\b\b\b\b\b\b\b\b\b\b\b\b\b\b\b\b\b\b\b\b\b\b 32% 1 - NSRLJP_202408/NSRLFile.txt\b\b\b\b\b\b\b\b\b\b\b\b\b\b\b\b\b\b\b\b\b\b\b\b\b\b\b\b\b\b\b\b\b\b\b                                   \b\b\b\b\b\b\b\b\b\b\b\b\b\b\b\b\b\b\b\b\b\b\b\b\b\b\b\b\b\b\b\b\b\b\b 33% 1 - NSRLJP_202408/NSRLFile.txt\b\b\b\b\b\b\b\b\b\b\b\b\b\b\b\b\b\b\b\b\b\b\b\b\b\b\b\b\b\b\b\b\b\b\b                                   \b\b\b\b\b\b\b\b\b\b\b\b\b\b\b\b\b\b\b\b\b\b\b\b\b\b\b\b\b\b\b\b\b\b\b 34% 1 - NSRLJP_202408/NSRLFile.txt\b\b\b\b\b\b\b\b\b\b\b\b\b\b\b\b\b\b\b\b\b\b\b\b\b\b\b\b\b\b\b\b\b\b\b                                   \b\b\b\b\b\b\b\b\b\b\b\b\b\b\b\b\b\b\b\b\b\b\b\b\b\b\b\b\b\b\b\b\b\b\b 35% 1 - NSRLJP_202408/NSRLFile.txt\b\b\b\b\b\b\b\b\b\b\b\b\b\b\b\b\b\b\b\b\b\b\b\b\b\b\b\b\b\b\b\b\b\b\b                                   \b\b\b\b\b\b\b\b\b\b\b\b\b\b\b\b\b\b\b\b\b\b\b\b\b\b\b\b\b\b\b\b\b\b\b 36% 1 - NSRLJP_202408/NSRLFile.txt\b\b\b\b\b\b\b\b\b\b\b\b\b\b\b\b\b\b\b\b\b\b\b\b\b\b\b\b\b\b\b\b\b\b\b                                   \b\b\b\b\b\b\b\b\b\b\b\b\b\b\b\b\b\b\b\b\b\b\b\b\b\b\b\b\b\b\b\b\b\b\b 37% 1 - NSRLJP_202408/NSRLFile.txt\b\b\b\b\b\b\b\b\b\b\b\b\b\b\b\b\b\b\b\b\b\b\b\b\b\b\b\b\b\b\b\b\b\b\b                                   \b\b\b\b\b\b\b\b\b\b\b\b\b\b\b\b\b\b\b\b\b\b\b\b\b\b\b\b\b\b\b\b\b\b\b 38% 1 - NSRLJP_202408/NSRLFile.txt\b\b\b\b\b\b\b\b\b\b\b\b\b\b\b\b\b\b\b\b\b\b\b\b\b\b\b\b\b\b\b\b\b\b\b                                   \b\b\b\b\b\b\b\b\b\b\b\b\b\b\b\b\b\b\b\b\b\b\b\b\b\b\b\b\b\b\b\b\b\b\b 39% 1 - NSRLJP_202408/NSRLFile.txt\b\b\b\b\b\b\b\b\b\b\b\b\b\b\b\b\b\b\b\b\b\b\b\b\b\b\b\b\b\b\b\b\b\b\b                                   \b\b\b\b\b\b\b\b\b\b\b\b\b\b\b\b\b\b\b\b\b\b\b\b\b\b\b\b\b\b\b\b\b\b\b 40% 1 - NSRLJP_202408/NSRLFile.txt\b\b\b\b\b\b\b\b\b\b\b\b\b\b\b\b\b\b\b\b\b\b\b\b\b\b\b\b\b\b\b\b\b\b\b                                   \b\b\b\b\b\b\b\b\b\b\b\b\b\b\b\b\b\b\b\b\b\b\b\b\b\b\b\b\b\b\b\b\b\b\b 41% 1 - NSRLJP_202408/NSRLFile.txt\b\b\b\b\b\b\b\b\b\b\b\b\b\b\b\b\b\b\b\b\b\b\b\b\b\b\b\b\b\b\b\b\b\b\b                                   \b\b\b\b\b\b\b\b\b\b\b\b\b\b\b\b\b\b\b\b\b\b\b\b\b\b\b\b\b\b\b\b\b\b\b 42% 1 - NSRLJP_202408/NSRLFile.txt\b\b\b\b\b\b\b\b\b\b\b\b\b\b\b\b\b\b\b\b\b\b\b\b\b\b\b\b\b\b\b\b\b\b\b                                   \b\b\b\b\b\b\b\b\b\b\b\b\b\b\b\b\b\b\b\b\b\b\b\b\b\b\b\b\b\b\b\b\b\b\b 43% 1 - NSRLJP_202408/NSRLFile.txt\b\b\b\b\b\b\b\b\b\b\b\b\b\b\b\b\b\b\b\b\b\b\b\b\b\b\b\b\b\b\b\b\b\b\b                                   \b\b\b\b\b\b\b\b\b\b\b\b\b\b\b\b\b\b\b\b\b\b\b\b\b\b\b\b\b\b\b\b\b\b\b 44% 1 - NSRLJP_202408/NSRLFile.txt\b\b\b\b\b\b\b\b\b\b\b\b\b\b\b\b\b\b\b\b\b\b\b\b\b\b\b\b\b\b\b\b\b\b\b                                   \b\b\b\b\b\b\b\b\b\b\b\b\b\b\b\b\b\b\b\b\b\b\b\b\b\b\b\b\b\b\b\b\b\b\b 45% 1 - NSRLJP_202408/NSRLFile.txt\b\b\b\b\b\b\b\b\b\b\b\b\b\b\b\b\b\b\b\b\b\b\b\b\b\b\b\b\b\b\b\b\b\b\b                                   \b\b\b\b\b\b\b\b\b\b\b\b\b\b\b\b\b\b\b\b\b\b\b\b\b\b\b\b\b\b\b\b\b\b\b 46% 1 - NSRLJP_202408/NSRLFile.txt\b\b\b\b\b\b\b\b\b\b\b\b\b\b\b\b\b\b\b\b\b\b\b\b\b\b\b\b\b\b\b\b\b\b\b                                   \b\b\b\b\b\b\b\b\b\b\b\b\b\b\b\b\b\b\b\b\b\b\b\b\b\b\b\b\b\b\b\b\b\b\b 47% 1 - NSRLJP_202408/NSRLFile.txt\b\b\b\b\b\b\b\b\b\b\b\b\b\b\b\b\b\b\b\b\b\b\b\b\b\b\b\b\b\b\b\b\b\b\b                                   \b\b\b\b\b\b\b\b\b\b\b\b\b\b\b\b\b\b\b\b\b\b\b\b\b\b\b\b\b\b\b\b\b\b\b 48% 1 - NSRLJP_202408/NSRLFile.txt\b\b\b\b\b\b\b\b\b\b\b\b\b\b\b\b\b\b\b\b\b\b\b\b\b\b\b\b\b\b\b\b\b\b\b                                   \b\b\b\b\b\b\b\b\b\b\b\b\b\b\b\b\b\b\b\b\b\b\b\b\b\b\b\b\b\b\b\b\b\b\b 49% 1 - NSRLJP_202408/NSRLFile.txt\b\b\b\b\b\b\b\b\b\b\b\b\b\b\b\b\b\b\b\b\b\b\b\b\b\b\b\b\b\b\b\b\b\b\b                                   \b\b\b\b\b\b\b\b\b\b\b\b\b\b\b\b\b\b\b\b\b\b\b\b\b\b\b\b\b\b\b\b\b\b\b 50% 1 - NSRLJP_202408/NSRLFile.txt\b\b\b\b\b\b\b\b\b\b\b\b\b\b\b\b\b\b\b\b\b\b\b\b\b\b\b\b\b\b\b\b\b\b\b                                   \b\b\b\b\b\b\b\b\b\b\b\b\b\b\b\b\b\b\b\b\b\b\b\b\b\b\b\b\b\b\b\b\b\b\b 51% 1 - NSRLJP_202408/NSRLFile.txt\b\b\b\b\b\b\b\b\b\b\b\b\b\b\b\b\b\b\b\b\b\b\b\b\b\b\b\b\b\b\b\b\b\b\b                                   \b\b\b\b\b\b\b\b\b\b\b\b\b\b\b\b\b\b\b\b\b\b\b\b\b\b\b\b\b\b\b\b\b\b\b 52% 1 - NSRLJP_202408/NSRLFile.txt\b\b\b\b\b\b\b\b\b\b\b\b\b\b\b\b\b\b\b\b\b\b\b\b\b\b\b\b\b\b\b\b\b\b\b                                   \b\b\b\b\b\b\b\b\b\b\b\b\b\b\b\b\b\b\b\b\b\b\b\b\b\b\b\b\b\b\b\b\b\b\b 53% 1 - NSRLJP_202408/NSRLFile.txt\b\b\b\b\b\b\b\b\b\b\b\b\b\b\b\b\b\b\b\b\b\b\b\b\b\b\b\b\b\b\b\b\b\b\b                                   \b\b\b\b\b\b\b\b\b\b\b\b\b\b\b\b\b\b\b\b\b\b\b\b\b\b\b\b\b\b\b\b\b\b\b 54% 1 - NSRLJP_202408/NSRLFile.txt\b\b\b\b\b\b\b\b\b\b\b\b\b\b\b\b\b\b\b\b\b\b\b\b\b\b\b\b\b\b\b\b\b\b\b                                   \b\b\b\b\b\b\b\b\b\b\b\b\b\b\b\b\b\b\b\b\b\b\b\b\b\b\b\b\b\b\b\b\b\b\b 55% 1 - NSRLJP_202408/NSRLFile.txt\b\b\b\b\b\b\b\b\b\b\b\b\b\b\b\b\b\b\b\b\b\b\b\b\b\b\b\b\b\b\b\b\b\b\b                                   \b\b\b\b\b\b\b\b\b\b\b\b\b\b\b\b\b\b\b\b\b\b\b\b\b\b\b\b\b\b\b\b\b\b\b 56% 1 - NSRLJP_202408/NSRLFile.txt\b\b\b\b\b\b\b\b\b\b\b\b\b\b\b\b\b\b\b\b\b\b\b\b\b\b\b\b\b\b\b\b\b\b\b                                   \b\b\b\b\b\b\b\b\b\b\b\b\b\b\b\b\b\b\b\b\b\b\b\b\b\b\b\b\b\b\b\b\b\b\b 57% 1 - NSRLJP_202408/NSRLFile.txt\b\b\b\b\b\b\b\b\b\b\b\b\b\b\b\b\b\b\b\b\b\b\b\b\b\b\b\b\b\b\b\b\b\b\b                                   \b\b\b\b\b\b\b\b\b\b\b\b\b\b\b\b\b\b\b\b\b\b\b\b\b\b\b\b\b\b\b\b\b\b\b 58% 1 - NSRLJP_202408/NSRLFile.txt\b\b\b\b\b\b\b\b\b\b\b\b\b\b\b\b\b\b\b\b\b\b\b\b\b\b\b\b\b\b\b\b\b\b\b                                   \b\b\b\b\b\b\b\b\b\b\b\b\b\b\b\b\b\b\b\b\b\b\b\b\b\b\b\b\b\b\b\b\b\b\b 59% 1 - NSRLJP_202408/NSRLFile.txt\b\b\b\b\b\b\b\b\b\b\b\b\b\b\b\b\b\b\b\b\b\b\b\b\b\b\b\b\b\b\b\b\b\b\b                                   \b\b\b\b\b\b\b\b\b\b\b\b\b\b\b\b\b\b\b\b\b\b\b\b\b\b\b\b\b\b\b\b\b\b\b 60% 1 - NSRLJP_202408/NSRLFile.txt\b\b\b\b\b\b\b\b\b\b\b\b\b\b\b\b\b\b\b\b\b\b\b\b\b\b\b\b\b\b\b\b\b\b\b                                   \b\b\b\b\b\b\b\b\b\b\b\b\b\b\b\b\b\b\b\b\b\b\b\b\b\b\b\b\b\b\b\b\b\b\b 61% 1 - NSRLJP_202408/NSRLFile.txt\b\b\b\b\b\b\b\b\b\b\b\b\b\b\b\b\b\b\b\b\b\b\b\b\b\b\b\b\b\b\b\b\b\b\b                                   \b\b\b\b\b\b\b\b\b\b\b\b\b\b\b\b\b\b\b\b\b\b\b\b\b\b\b\b\b\b\b\b\b\b\b 62% 1 - NSRLJP_202408/NSRLFile.txt\b\b\b\b\b\b\b\b\b\b\b\b\b\b\b\b\b\b\b\b\b\b\b\b\b\b\b\b\b\b\b\b\b\b\b                                   \b\b\b\b\b\b\b\b\b\b\b\b\b\b\b\b\b\b\b\b\b\b\b\b\b\b\b\b\b\b\b\b\b\b\b 63% 1 - NSRLJP_202408/NSRLFile.txt\b\b\b\b\b\b\b\b\b\b\b\b\b\b\b\b\b\b\b\b\b\b\b\b\b\b\b\b\b\b\b\b\b\b\b                                   \b\b\b\b\b\b\b\b\b\b\b\b\b\b\b\b\b\b\b\b\b\b\b\b\b\b\b\b\b\b\b\b\b\b\b 64% 1 - NSRLJP_202408/NSRLFile.txt\b\b\b\b\b\b\b\b\b\b\b\b\b\b\b\b\b\b\b\b\b\b\b\b\b\b\b\b\b\b\b\b\b\b\b                                   \b\b\b\b\b\b\b\b\b\b\b\b\b\b\b\b\b\b\b\b\b\b\b\b\b\b\b\b\b\b\b\b\b\b\b 65% 1 - NSRLJP_202408/NSRLFile.txt\b\b\b\b\b\b\b\b\b\b\b\b\b\b\b\b\b\b\b\b\b\b\b\b\b\b\b\b\b\b\b\b\b\b\b                                   \b\b\b\b\b\b\b\b\b\b\b\b\b\b\b\b\b\b\b\b\b\b\b\b\b\b\b\b\b\b\b\b\b\b\b 66% 1 - NSRLJP_202408/NSRLFile.txt\b\b\b\b\b\b\b\b\b\b\b\b\b\b\b\b\b\b\b\b\b\b\b\b\b\b\b\b\b\b\b\b\b\b\b                                   \b\b\b\b\b\b\b\b\b\b\b\b\b\b\b\b\b\b\b\b\b\b\b\b\b\b\b\b\b\b\b\b\b\b\b 67% 1 - NSRLJP_202408/NSRLFile.txt\b\b\b\b\b\b\b\b\b\b\b\b\b\b\b\b\b\b\b\b\b\b\b\b\b\b\b\b\b\b\b\b\b\b\b                                   \b\b\b\b\b\b\b\b\b\b\b\b\b\b\b\b\b\b\b\b\b\b\b\b\b\b\b\b\b\b\b\b\b\b\b 68% 1 - NSRLJP_202408/NSRLFile.txt\b\b\b\b\b\b\b\b\b\b\b\b\b\b\b\b\b\b\b\b\b\b\b\b\b\b\b\b\b\b\b\b\b\b\b                                   \b\b\b\b\b\b\b\b\b\b\b\b\b\b\b\b\b\b\b\b\b\b\b\b\b\b\b\b\b\b\b\b\b\b\b 69% 1 - NSRLJP_202408/NSRLFile.txt\b\b\b\b\b\b\b\b\b\b\b\b\b\b\b\b\b\b\b\b\b\b\b\b\b\b\b\b\b\b\b\b\b\b\b                                   \b\b\b\b\b\b\b\b\b\b\b\b\b\b\b\b\b\b\b\b\b\b\b\b\b\b\b\b\b\b\b\b\b\b\b 70% 1 - NSRLJP_202408/NSRLFile.txt\b\b\b\b\b\b\b\b\b\b\b\b\b\b\b\b\b\b\b\b\b\b\b\b\b\b\b\b\b\b\b\b\b\b\b                                   \b\b\b\b\b\b\b\b\b\b\b\b\b\b\b\b\b\b\b\b\b\b\b\b\b\b\b\b\b\b\b\b\b\b\b 71% 1 - NSRLJP_202408/NSRLFile.txt\b\b\b\b\b\b\b\b\b\b\b\b\b\b\b\b\b\b\b\b\b\b\b\b\b\b\b\b\b\b\b\b\b\b\b                                   \b\b\b\b\b\b\b\b\b\b\b\b\b\b\b\b\b\b\b\b\b\b\b\b\b\b\b\b\b\b\b\b\b\b\b 72% 1 - NSRLJP_202408/NSRLFile.txt\b\b\b\b\b\b\b\b\b\b\b\b\b\b\b\b\b\b\b\b\b\b\b\b\b\b\b\b\b\b\b\b\b\b\b                                   \b\b\b\b\b\b\b\b\b\b\b\b\b\b\b\b\b\b\b\b\b\b\b\b\b\b\b\b\b\b\b\b\b\b\b 73% 1 - NSRLJP_202408/NSRLFile.txt\b\b\b\b\b\b\b\b\b\b\b\b\b\b\b\b\b\b\b\b\b\b\b\b\b\b\b\b\b\b\b\b\b\b\b                                   \b\b\b\b\b\b\b\b\b\b\b\b\b\b\b\b\b\b\b\b\b\b\b\b\b\b\b\b\b\b\b\b\b\b\b 74% 1 - NSRLJP_202408/NSRLFile.txt\b\b\b\b\b\b\b\b\b\b\b\b\b\b\b\b\b\b\b\b\b\b\b\b\b\b\b\b\b\b\b\b\b\b\b                                   \b\b\b\b\b\b\b\b\b\b\b\b\b\b\b\b\b\b\b\b\b\b\b\b\b\b\b\b\b\b\b\b\b\b\b 75% 1 - NSRLJP_202408/NSRLFile.txt\b\b\b\b\b\b\b\b\b\b\b\b\b\b\b\b\b\b\b\b\b\b\b\b\b\b\b\b\b\b\b\b\b\b\b                                   \b\b\b\b\b\b\b\b\b\b\b\b\b\b\b\b\b\b\b\b\b\b\b\b\b\b\b\b\b\b\b\b\b\b\b 76% 1 - NSRLJP_202408/NSRLFile.txt\b\b\b\b\b\b\b\b\b\b\b\b\b\b\b\b\b\b\b\b\b\b\b\b\b\b\b\b\b\b\b\b\b\b\b                                   \b\b\b\b\b\b\b\b\b\b\b\b\b\b\b\b\b\b\b\b\b\b\b\b\b\b\b\b\b\b\b\b\b\b\b 77% 1 - NSRLJP_202408/NSRLFile.txt\b\b\b\b\b\b\b\b\b\b\b\b\b\b\b\b\b\b\b\b\b\b\b\b\b\b\b\b\b\b\b\b\b\b\b                                   \b\b\b\b\b\b\b\b\b\b\b\b\b\b\b\b\b\b\b\b\b\b\b\b\b\b\b\b\b\b\b\b\b\b\b 78% 1 - NSRLJP_202408/NSRLFile.txt\b\b\b\b\b\b\b\b\b\b\b\b\b\b\b\b\b\b\b\b\b\b\b\b\b\b\b\b\b\b\b\b\b\b\b                                   \b\b\b\b\b\b\b\b\b\b\b\b\b\b\b\b\b\b\b\b\b\b\b\b\b\b\b\b\b\b\b\b\b\b\b 79% 1 - NSRLJP_202408/NSRLFile.txt\b\b\b\b\b\b\b\b\b\b\b\b\b\b\b\b\b\b\b\b\b\b\b\b\b\b\b\b\b\b\b\b\b\b\b                                   \b\b\b\b\b\b\b\b\b\b\b\b\b\b\b\b\b\b\b\b\b\b\b\b\b\b\b\b\b\b\b\b\b\b\b 80% 1 - NSRLJP_202408/NSRLFile.txt\b\b\b\b\b\b\b\b\b\b\b\b\b\b\b\b\b\b\b\b\b\b\b\b\b\b\b\b\b\b\b\b\b\b\b                                   \b\b\b\b\b\b\b\b\b\b\b\b\b\b\b\b\b\b\b\b\b\b\b\b\b\b\b\b\b\b\b\b\b\b\b 81% 1 - NSRLJP_202408/NSRLFile.txt\b\b\b\b\b\b\b\b\b\b\b\b\b\b\b\b\b\b\b\b\b\b\b\b\b\b\b\b\b\b\b\b\b\b\b                                   \b\b\b\b\b\b\b\b\b\b\b\b\b\b\b\b\b\b\b\b\b\b\b\b\b\b\b\b\b\b\b\b\b\b\b 82% 1 - NSRLJP_202408/NSRLFile.txt\b\b\b\b\b\b\b\b\b\b\b\b\b\b\b\b\b\b\b\b\b\b\b\b\b\b\b\b\b\b\b\b\b\b\b                                   \b\b\b\b\b\b\b\b\b\b\b\b\b\b\b\b\b\b\b\b\b\b\b\b\b\b\b\b\b\b\b\b\b\b\b 83% 1 - NSRLJP_202408/NSRLFile.txt\b\b\b\b\b\b\b\b\b\b\b\b\b\b\b\b\b\b\b\b\b\b\b\b\b\b\b\b\b\b\b\b\b\b\b                                   \b\b\b\b\b\b\b\b\b\b\b\b\b\b\b\b\b\b\b\b\b\b\b\b\b\b\b\b\b\b\b\b\b\b\b 84% 1 - NSRLJP_202408/NSRLFile.txt\b\b\b\b\b\b\b\b\b\b\b\b\b\b\b\b\b\b\b\b\b\b\b\b\b\b\b\b\b\b\b\b\b\b\b                                   \b\b\b\b\b\b\b\b\b\b\b\b\b\b\b\b\b\b\b\b\b\b\b\b\b\b\b\b\b\b\b\b\b\b\b 85% 1 - NSRLJP_202408/NSRLFile.txt\b\b\b\b\b\b\b\b\b\b\b\b\b\b\b\b\b\b\b\b\b\b\b\b\b\b\b\b\b\b\b\b\b\b\b                                   \b\b\b\b\b\b\b\b\b\b\b\b\b\b\b\b\b\b\b\b\b\b\b\b\b\b\b\b\b\b\b\b\b\b\b 86% 1 - NSRLJP_202408/NSRLFile.txt\b\b\b\b\b\b\b\b\b\b\b\b\b\b\b\b\b\b\b\b\b\b\b\b\b\b\b\b\b\b\b\b\b\b\b                                   \b\b\b\b\b\b\b\b\b\b\b\b\b\b\b\b\b\b\b\b\b\b\b\b\b\b\b\b\b\b\b\b\b\b\b 87% 1 - NSRLJP_202408/NSRLFile.txt\b\b\b\b\b\b\b\b\b\b\b\b\b\b\b\b\b\b\b\b\b\b\b\b\b\b\b\b\b\b\b\b\b\b\b                                   \b\b\b\b\b\b\b\b\b\b\b\b\b\b\b\b\b\b\b\b\b\b\b\b\b\b\b\b\b\b\b\b\b\b\b 88% 1 - NSRLJP_202408/NSRLFile.txt\b\b\b\b\b\b\b\b\b\b\b\b\b\b\b\b\b\b\b\b\b\b\b\b\b\b\b\b\b\b\b\b\b\b\b                                   \b\b\b\b\b\b\b\b\b\b\b\b\b\b\b\b\b\b\b\b\b\b\b\b\b\b\b\b\b\b\b\b\b\b\b 89% 1 - NSRLJP_202408/NSRLFile.txt\b\b\b\b\b\b\b\b\b\b\b\b\b\b\b\b\b\b\b\b\b\b\b\b\b\b\b\b\b\b\b\b\b\b\b                                   \b\b\b\b\b\b\b\b\b\b\b\b\b\b\b\b\b\b\b\b\b\b\b\b\b\b\b\b\b\b\b\b\b\b\b 90% 1 - NSRLJP_202408/NSRLFile.txt\b\b\b\b\b\b\b\b\b\b\b\b\b\b\b\b\b\b\b\b\b\b\b\b\b\b\b\b\b\b\b\b\b\b\b                                   \b\b\b\b\b\b\b\b\b\b\b\b\b\b\b\b\b\b\b\b\b\b\b\b\b\b\b\b\b\b\b\b\b\b\b 91% 1 - NSRLJP_202408/NSRLFile.txt\b\b\b\b\b\b\b\b\b\b\b\b\b\b\b\b\b\b\b\b\b\b\b\b\b\b\b\b\b\b\b\b\b\b\b                                   \b\b\b\b\b\b\b\b\b\b\b\b\b\b\b\b\b\b\b\b\b\b\b\b\b\b\b\b\b\b\b\b\b\b\b 92% 1 - NSRLJP_202408/NSRLFile.txt\b\b\b\b\b\b\b\b\b\b\b\b\b\b\b\b\b\b\b\b\b\b\b\b\b\b\b\b\b\b\b\b\b\b\b                                   \b\b\b\b\b\b\b\b\b\b\b\b\b\b\b\b\b\b\b\b\b\b\b\b\b\b\b\b\b\b\b\b\b\b\b 93% 1 - NSRLJP_202408/NSRLFile.txt\b\b\b\b\b\b\b\b\b\b\b\b\b\b\b\b\b\b\b\b\b\b\b\b\b\b\b\b\b\b\b\b\b\b\b                                   \b\b\b\b\b\b\b\b\b\b\b\b\b\b\b\b\b\b\b\b\b\b\b\b\b\b\b\b\b\b\b\b\b\b\b 94% 1 - NSRLJP_202408/NSRLFile.txt\b\b\b\b\b\b\b\b\b\b\b\b\b\b\b\b\b\b\b\b\b\b\b\b\b\b\b\b\b\b\b\b\b\b\b                                   \b\b\b\b\b\b\b\b\b\b\b\b\b\b\b\b\b\b\b\b\b\b\b\b\b\b\b\b\b\b\b\b\b\b\b 95% 1 - NSRLJP_202408/NSRLFile.txt\b\b\b\b\b\b\b\b\b\b\b\b\b\b\b\b\b\b\b\b\b\b\b\b\b\b\b\b\b\b\b\b\b\b\b                                   \b\b\b\b\b\b\b\b\b\b\b\b\b\b\b\b\b\b\b\b\b\b\b\b\b\b\b\b\b\b\b\b\b\b\b 96% 1 - NSRLJP_202408/NSRLFile.txt\b\b\b\b\b\b\b\b\b\b\b\b\b\b\b\b\b\b\b\b\b\b\b\b\b\b\b\b\b\b\b\b\b\b\b                                   \b\b\b\b\b\b\b\b\b\b\b\b\b\b\b\b\b\b\b\b\b\b\b\b\b\b\b\b\b\b\b\b\b\b\b 97% 1 - NSRLJP_202408/NSRLFile.txt\b\b\b\b\b\b\b\b\b\b\b\b\b\b\b\b\b\b\b\b\b\b\b\b\b\b\b\b\b\b\b\b\b\b\b                                   \b\b\b\b\b\b\b\b\b\b\b\b\b\b\b\b\b\b\b\b\b\b\b\b\b\b\b\b\b\b\b\b\b\b\b 98% 1 - NSRLJP_202408/NSRLFile.txt\b\b\b\b\b\b\b\b\b\b\b\b\b\b\b\b\b\b\b\b\b\b\b\b\b\b\b\b\b\b\b\b\b\b\b                                   \b\b\b\b\b\b\b\b\b\b\b\b\b\b\b\b\b\b\b\b\b\b\b\b\b\b\b\b\b\b\b\b\b\b\b 99% 1 - NSRLJP_202408/NSRLFile.txt\b\b\b\b\b\b\b\b\b\b\b\b\b\b\b\b\b\b\b\b\b\b\b\b\b\b\b\b\b\b\b\b\b\b\b                                   \b\b\b\b\b\b\b\b\b\b\b\b\b\b\b\b\b\b\b\b\b\b\b\b\b\b\b\b\b\b\b\b\b\b\b 99% 2 - NSRLJP_202408/NSRLMfg.txt\b\b\b\b\b\b\b\b\b\b\b\b\b\b\b\b\b\b\b\b\b\b\b\b\b\b\b\b\b\b\b\b\b\b                                  \b\b\b\b\b\b\b\b\b\b\b\b\b\b\b\b\b\b\b\b\b\b\b\b\b\b\b\b\b\b\b\b\b\bEverything is Ok\n",
            "\n",
            "Folders: 1\n",
            "Files: 4\n",
            "Size:       886062202\n",
            "Compressed: 319470599\n"
          ]
        }
      ]
    },
    {
      "cell_type": "markdown",
      "source": [
        "## データセットをduckdbにimport"
      ],
      "metadata": {
        "id": "wKdfBjAJv5Pd"
      }
    },
    {
      "cell_type": "code",
      "source": [
        "!pip install -qq duckdb"
      ],
      "metadata": {
        "id": "gqhsOvSJAQGd"
      },
      "execution_count": 172,
      "outputs": []
    },
    {
      "cell_type": "code",
      "source": [
        "#!/usr/bin/env python\n",
        "# encoding: utf-8\n",
        "\n",
        "import duckdb\n",
        "db = duckdb.connect(\"duck.db\")\n",
        "db.sql(\"\"\"\n",
        "-- 1. メーカーマスタテーブルの作成\n",
        "DROP TABLE IF EXISTS NSRLMfg;\n",
        "CREATE TABLE IF NOT EXISTS NSRLMfg (\n",
        "    MfgCode TEXT PRIMARY KEY,\n",
        "    MfgName TEXT NOT NULL\n",
        ");\n",
        "\n",
        "-- 2. OSマスタテーブルの作成\n",
        "DROP TABLE IF EXISTS NSRLOS;\n",
        "CREATE TABLE IF NOT EXISTS NSRLOS (\n",
        "    OpSystemCode TEXT PRIMARY KEY,\n",
        "    OpSystemName TEXT NOT NULL,\n",
        "    OpSystemVersion TEXT,\n",
        "    MfgCode TEXT,\n",
        ");\n",
        "\n",
        "-- 3. 製品マスタテーブルの作成\n",
        "DROP TABLE IF EXISTS NSRLProd;\n",
        "CREATE TABLE IF NOT EXISTS NSRLProd (\n",
        "    ProductCode TEXT PRIMARY KEY,\n",
        "    ProductName TEXT NOT NULL,\n",
        "    ProductVersion TEXT,\n",
        "    OpSystemCode TEXT,\n",
        "    MfgCode TEXT,\n",
        "    Language TEXT,\n",
        "    ApplicationType TEXT,\n",
        ");\n",
        "\n",
        "-- 4. NSRLファイル情報テーブルの作成\n",
        "DROP TABLE IF EXISTS NSRLFile;\n",
        "CREATE TABLE IF NOT EXISTS NSRLFile (\n",
        "    SHA1 TEXT PRIMARY KEY,\n",
        "    MD5 TEXT NOT NULL,\n",
        "    CRC32 TEXT NOT NULL,\n",
        "    FileName TEXT NOT NULL,\n",
        "    FileSize TEXT NOT NULL,\n",
        "    ProductCode TEXT,\n",
        "    OpSystemCode TEXT,\n",
        "    SpecialCode TEXT,\n",
        ");\n",
        "\n",
        "-- 5. インデックスの作成\n",
        "CREATE INDEX IF NOT EXISTS idx_md5 ON NSRLFile (MD5);\n",
        "\n",
        "-- 6. データのインポート\n",
        "COPY NSRLMfg FROM './NSRLJP_202408/NSRLMfg.csv';\n",
        "COPY NSRLProd FROM './NSRLJP_202408/NSRLProd.csv';\n",
        "COPY NSRLOS FROM './NSRLJP_202408/NSRLOS.csv';\n",
        "COPY NSRLFile FROM './NSRLJP_202408/NSRLFile.csv';\n",
        "\"\"\")"
      ],
      "metadata": {
        "colab": {
          "base_uri": "https://localhost:8080/",
          "height": 49,
          "referenced_widgets": [
            "c7fba1ee4bdb4589801989d9452876b7",
            "b5148150e790401ebeaf902b5847cdb6",
            "0e8fe05c69794a74a0014a3b09a5c1be"
          ]
        },
        "id": "ZeESE44-t0UA",
        "outputId": "f55b2a50-5b95-4b74-ef36-7c037ff02084"
      },
      "execution_count": 173,
      "outputs": [
        {
          "output_type": "display_data",
          "data": {
            "text/plain": [
              "FloatProgress(value=0.0, layout=Layout(width='auto'), style=ProgressStyle(bar_color='black'))"
            ],
            "application/vnd.jupyter.widget-view+json": {
              "version_major": 2,
              "version_minor": 0,
              "model_id": "c7fba1ee4bdb4589801989d9452876b7"
            }
          },
          "metadata": {}
        }
      ]
    },
    {
      "cell_type": "markdown",
      "source": [
        "## データが入っているか確認"
      ],
      "metadata": {
        "id": "DuupqlHUACZz"
      }
    },
    {
      "cell_type": "code",
      "source": [
        "db.sql(\"\"\"\n",
        "SELECT\n",
        "    *\n",
        "FROM\n",
        "    NSRLFile\n",
        "LEFT JOIN\n",
        "    NSRLProd ON NSRLFile.ProductCode = NSRLProd.ProductCode\n",
        "LEFT JOIN\n",
        "    NSRLOS ON NSRLFile.OpSystemCode = NSRLOS.OpSystemCode\n",
        "LEFT JOIN\n",
        "    NSRLMfg ON NSRLOS.MfgCode = NSRLMfg.MfgCode\n",
        "WHERE\n",
        "    SHA1 = '003f1b9a60927b2c429412cb4698907e0a0c68ce'\n",
        "AND\n",
        "    NSRLFile.OpSystemCode = '1010'\n",
        "\"\"\")"
      ],
      "metadata": {
        "colab": {
          "base_uri": "https://localhost:8080/"
        },
        "id": "B1r-waY90iv0",
        "outputId": "fa4bbed2-a0fa-4b07-b51f-6743a85cbe08"
      },
      "execution_count": 174,
      "outputs": [
        {
          "output_type": "execute_result",
          "data": {
            "text/plain": [
              "┌──────────────────────────────────────────┬──────────────────────────────────┬──────────┬─────────────┬──────────┬─────────────┬──────────────┬─────────────┬─────────────┬──────────────────┬────────────────┬──────────────┬─────────┬────────────┬────────────────────┬──────────────┬──────────────┬─────────────────┬─────────┬─────────┬───────────┐\n",
              "│                   SHA1                   │               MD5                │  CRC32   │  FileName   │ FileSize │ ProductCode │ OpSystemCode │ SpecialCode │ ProductCode │   ProductName    │ ProductVersion │ OpSystemCode │ MfgCode │  Language  │  ApplicationType   │ OpSystemCode │ OpSystemName │ OpSystemVersion │ MfgCode │ MfgCode │  MfgName  │\n",
              "│                 varchar                  │             varchar              │ varchar  │   varchar   │ varchar  │   varchar   │   varchar    │   varchar   │   varchar   │     varchar      │    varchar     │   varchar    │ varchar │  varchar   │      varchar       │   varchar    │   varchar    │     varchar     │ varchar │ varchar │  varchar  │\n",
              "├──────────────────────────────────────────┼──────────────────────────────────┼──────────┼─────────────┼──────────┼─────────────┼──────────────┼─────────────┼─────────────┼──────────────────┼────────────────┼──────────────┼─────────┼────────────┼────────────────────┼──────────────┼──────────────┼─────────────────┼─────────┼─────────┼───────────┤\n",
              "│ 003f1b9a60927b2c429412cb4698907e0a0c68ce │ 220a7215a63faa737f49f2d5e6a6f8ca │ 5E9769BF │ Desktop.ini │ 798      │ 50047       │ 1010         │ NULL        │ 50047       │ \"Windows 10 x86\" │ \"2015-\"        │ \"1010\"       │ \"5001\"  │ \"Japanese\" │ \"Operating System\" │ 1010         │ Windows 10   │ 10              │ 5001    │ 5001    │ Microsoft │\n",
              "└──────────────────────────────────────────┴──────────────────────────────────┴──────────┴─────────────┴──────────┴─────────────┴──────────────┴─────────────┴─────────────┴──────────────────┴────────────────┴──────────────┴─────────┴────────────┴────────────────────┴──────────────┴──────────────┴─────────────────┴─────────┴─────────┴───────────┘"
            ]
          },
          "metadata": {},
          "execution_count": 174
        }
      ]
    },
    {
      "cell_type": "markdown",
      "source": [
        "# ApacheSpark3.5.5, Iceberg 1.8.1の利用"
      ],
      "metadata": {
        "id": "zwrWbiGtAmx3"
      }
    },
    {
      "cell_type": "markdown",
      "source": [
        "## OpenJDK 17 (Java7)のインストール"
      ],
      "metadata": {
        "id": "dY9aDPm7CVh5"
      }
    },
    {
      "cell_type": "code",
      "source": [
        "# Java https://jdk.java.net/archive/\n",
        "!wget https://download.java.net/java/GA/jdk17/0d483333a00540d886896bac774ff48b/35/GPL/openjdk-17_linux-x64_bin.tar.gz\n",
        "!tar xzf openjdk-17_linux-x64_bin.tar.gz\n",
        "%env JAVA_HOME=/content/jdk-17"
      ],
      "metadata": {
        "colab": {
          "base_uri": "https://localhost:8080/"
        },
        "id": "SpVhRqevuoZt",
        "outputId": "dd2b70a2-86e1-4843-caba-ccf20225b5ab"
      },
      "execution_count": 175,
      "outputs": [
        {
          "output_type": "stream",
          "name": "stdout",
          "text": [
            "--2025-03-20 13:33:01--  https://download.java.net/java/GA/jdk17/0d483333a00540d886896bac774ff48b/35/GPL/openjdk-17_linux-x64_bin.tar.gz\n",
            "Resolving download.java.net (download.java.net)... 23.193.24.98\n",
            "Connecting to download.java.net (download.java.net)|23.193.24.98|:443... connected.\n",
            "HTTP request sent, awaiting response... 200 OK\n",
            "Length: 186661523 (178M) [application/x-gzip]\n",
            "Saving to: ‘openjdk-17_linux-x64_bin.tar.gz.1’\n",
            "\n",
            "openjdk-17_linux-x6 100%[===================>] 178.01M   105MB/s    in 1.7s    \n",
            "\n",
            "2025-03-20 13:33:03 (105 MB/s) - ‘openjdk-17_linux-x64_bin.tar.gz.1’ saved [186661523/186661523]\n",
            "\n",
            "env: JAVA_HOME=/content/jdk-17\n"
          ]
        }
      ]
    },
    {
      "cell_type": "markdown",
      "source": [
        "## PySpark3.5.5のインストール"
      ],
      "metadata": {
        "id": "xTldIJaWFFln"
      }
    },
    {
      "cell_type": "code",
      "source": [
        "!pip install -qq pyspark==3.5.5"
      ],
      "metadata": {
        "id": "3xXdg2S7B4vb"
      },
      "execution_count": 176,
      "outputs": []
    },
    {
      "cell_type": "markdown",
      "source": [
        "## SparkSessionの作成、icebergテーブルの作成とデータのアップロード"
      ],
      "metadata": {
        "id": "jbHUUz3dH9Kv"
      }
    },
    {
      "cell_type": "code",
      "execution_count": 177,
      "metadata": {
        "id": "6ROFmITotcAq"
      },
      "outputs": [],
      "source": [
        "#!/usr/bin/env python\n",
        "# encoding: utf-8\n",
        "\n",
        "import os\n",
        "from pyspark.sql import SparkSession\n",
        "\n",
        "CATALOG_NAME = \"catalog_iceberg\"\n",
        "WAREHOUSE_URL = \"s3a://datalakehouse/iceberg\"\n",
        "\n",
        "spark: SparkSession = (\n",
        "    SparkSession.builder.master(\"local[*,3]\")\n",
        "    .appName(\"app_nsrljp\")\n",
        "    # .config(\"spark.driver.memory\", \"2g\")\n",
        "    # .config(\"spark.executor.memory\", \"2g\")\n",
        "    # .config(\"spark.log.level\", \"DEBUG\")\n",
        "    .config(\n",
        "        \"spark.jars.packages\",\n",
        "        f\"org.apache.iceberg:iceberg-spark-runtime-3.5_2.12:1.8.1\"\n",
        "        f\",org.apache.hadoop:hadoop-aws:3.3.4\",\n",
        "    )\n",
        "    .config(\n",
        "        \"spark.sql.extensions\",\n",
        "        \"org.apache.iceberg.spark.extensions.IcebergSparkSessionExtensions\",\n",
        "    )\n",
        "    .config(\n",
        "        f\"spark.sql.catalog.{CATALOG_NAME}\", \"org.apache.iceberg.spark.SparkCatalog\"\n",
        "    )\n",
        "    .config(\n",
        "        f\"spark.sql.catalog.{CATALOG_NAME}.type\", \"hadoop\"\n",
        "    )  # https://iceberg.apache.org/docs/1.5.0/spark-configuration/\n",
        "    .config(f\"spark.sql.catalog.{CATALOG_NAME}.warehouse\", f\"{WAREHOUSE_URL}\")\n",
        "    .config(f\"spark.sql.defaultCatalog\", f\"{CATALOG_NAME}\")\n",
        "    .config(\"spark.hadoop.fs.s3a.endpoint.region\", S3A_REGION or \"\")\n",
        "    .config(\"spark.hadoop.fs.s3a.endpoint\", S3A_ENDPOINT or \"\")\n",
        "    .config(\"spark.hadoop.fs.s3a.access.key\", S3A_ACCESS_KEY or \"\")\n",
        "    .config(\"spark.hadoop.fs.s3a.secret.key\", S3A_SECRET_KEY or \"\")\n",
        "    .config(\"spark.hadoop.fs.s3a.impl\", \"org.apache.hadoop.fs.s3a.S3AFileSystem\")\n",
        "    .config(\"spark.hadoop.fs.s3a.path.style.access\", True)\n",
        "    .getOrCreate()\n",
        ")\n",
        "\n",
        "DATABASE_NAME = \"NSRLJP\"\n",
        "\n",
        "spark.sql(f\"\"\"DROP TABLE IF EXISTS {CATALOG_NAME}.{DATABASE_NAME}.NSRLMfg PURGE\"\"\")\n",
        "\n",
        "spark.sql(\n",
        "    f\"\"\"\n",
        "CREATE TABLE IF NOT EXISTS {CATALOG_NAME}.{DATABASE_NAME}.NSRLMfg (\n",
        "    MfgCode STRING,\n",
        "    MfgName STRING\n",
        ") USING ICEBERG\n",
        "LOCATION '{WAREHOUSE_URL}/{DATABASE_NAME}/NSRLMfg/'\n",
        "\"\"\"\n",
        ")\n",
        "\n",
        "spark.sql(f\"\"\"DROP TABLE IF EXISTS {CATALOG_NAME}.{DATABASE_NAME}.NSRLOS PURGE\"\"\")\n",
        "\n",
        "spark.sql(\n",
        "    f\"\"\"\n",
        "CREATE TABLE IF NOT EXISTS {CATALOG_NAME}.{DATABASE_NAME}.NSRLOS (\n",
        "    OpSystemCode STRING,\n",
        "    OpSystemName STRING,\n",
        "    OpSystemVersion STRING,\n",
        "    MfgCode STRING\n",
        ") USING ICEBERG\n",
        "LOCATION '{WAREHOUSE_URL}/{DATABASE_NAME}/NSRLOS/'\n",
        "\"\"\"\n",
        ")\n",
        "\n",
        "spark.sql(f\"\"\"DROP TABLE IF EXISTS {CATALOG_NAME}.{DATABASE_NAME}.NSRLProd PURGE\"\"\")\n",
        "\n",
        "spark.sql(\n",
        "    f\"\"\"\n",
        "CREATE TABLE IF NOT EXISTS {CATALOG_NAME}.{DATABASE_NAME}.NSRLProd (\n",
        "    ProductCode STRING,\n",
        "    ProductName STRING,\n",
        "    ProductVersion STRING,\n",
        "    OpSystemCode STRING,\n",
        "    MfgCode STRING,\n",
        "    Language STRING,\n",
        "    ApplicationType STRING\n",
        ") USING ICEBERG\n",
        "LOCATION '{WAREHOUSE_URL}/{DATABASE_NAME}/NSRLProd/'\n",
        "\"\"\"\n",
        ")\n",
        "\n",
        "spark.sql(f\"\"\"DROP TABLE IF EXISTS {CATALOG_NAME}.{DATABASE_NAME}.NSRLFile PURGE\"\"\")\n",
        "\n",
        "spark.sql(\n",
        "    f\"\"\"\n",
        "CREATE TABLE IF NOT EXISTS {CATALOG_NAME}.{DATABASE_NAME}.NSRLFile (\n",
        "    `SHA-1` STRING,\n",
        "    MD5 STRING,\n",
        "    CRC32 STRING,\n",
        "    FileName STRING,\n",
        "    FileSize STRING,\n",
        "    ProductCode STRING,\n",
        "    OpSystemCode STRING,\n",
        "    SpecialCode STRING\n",
        ") USING ICEBERG\n",
        "PARTITIONED BY (OpSystemCode)\n",
        "LOCATION '{WAREHOUSE_URL}/{DATABASE_NAME}/NSRLFile/'\n",
        "\"\"\"\n",
        ")\n",
        "\n",
        "spark.read.option(\"inferSchema\", True).option(\"header\", True).csv(\n",
        "    \"./NSRLJP_202408/NSRLMfg.csv\"\n",
        ").writeTo(f\"{CATALOG_NAME}.{DATABASE_NAME}.NSRLMfg\").overwritePartitions()\n",
        "\n",
        "spark.read.option(\"inferSchema\", True).option(\"header\", True).csv(\n",
        "    \"./NSRLJP_202408/NSRLOS.csv\"\n",
        ").writeTo(f\"{CATALOG_NAME}.{DATABASE_NAME}.NSRLOS\").overwritePartitions()\n",
        "\n",
        "spark.read.option(\"inferSchema\", True).option(\"header\", True).csv(\n",
        "    \"./NSRLJP_202408/NSRLProd.csv\"\n",
        ").writeTo(f\"{CATALOG_NAME}.{DATABASE_NAME}.NSRLProd\").overwritePartitions()\n",
        "\n",
        "spark.read.option(\"inferSchema\", True).option(\"header\", True).csv(\n",
        "    \"./NSRLJP_202408/NSRLFile.csv\"\n",
        ").writeTo(f\"{CATALOG_NAME}.{DATABASE_NAME}.NSRLFile\").overwritePartitions()"
      ]
    },
    {
      "cell_type": "markdown",
      "source": [
        "`You are using approximately 326.79 MiB of the 20 GiB limit of free combined Object Storage and Archive Storage. Upgrade to use unlimited storage.`"
      ],
      "metadata": {
        "id": "YjyDzqlsntVO"
      }
    },
    {
      "cell_type": "markdown",
      "source": [
        "## SQLの試験的な実行"
      ],
      "metadata": {
        "id": "Ho7-vENLMaSQ"
      }
    },
    {
      "cell_type": "markdown",
      "source": [
        "### PySparkによるクエリ"
      ],
      "metadata": {
        "id": "fk3SWgbdy2Cb"
      }
    },
    {
      "cell_type": "code",
      "source": [
        "# 通常のクエリ\n",
        "spark.sql(\n",
        "    f\"\"\"\n",
        "SELECT\n",
        "    *\n",
        "FROM\n",
        "    {CATALOG_NAME}.{DATABASE_NAME}.NSRLFile\n",
        "LEFT JOIN\n",
        "    {CATALOG_NAME}.{DATABASE_NAME}.NSRLProd ON {CATALOG_NAME}.{DATABASE_NAME}.NSRLFile.ProductCode = {CATALOG_NAME}.{DATABASE_NAME}.NSRLProd.ProductCode\n",
        "LEFT JOIN\n",
        "    {CATALOG_NAME}.{DATABASE_NAME}.NSRLOS ON {CATALOG_NAME}.{DATABASE_NAME}.NSRLFile.OpSystemCode = {CATALOG_NAME}.{DATABASE_NAME}.NSRLOS.OpSystemCode\n",
        "LEFT JOIN\n",
        "    {CATALOG_NAME}.{DATABASE_NAME}.NSRLMfg ON {CATALOG_NAME}.{DATABASE_NAME}.NSRLOS.MfgCode = {CATALOG_NAME}.{DATABASE_NAME}.NSRLMfg.MfgCode\n",
        "WHERE\n",
        "    `SHA-1` = '003f1b9a60927b2c429412cb4698907e0a0c68ce'\n",
        "\"\"\"\n",
        ").show()"
      ],
      "metadata": {
        "colab": {
          "base_uri": "https://localhost:8080/"
        },
        "id": "5gGIjzjEM9T9",
        "outputId": "418f0308-1625-49dc-b342-361a1c8c202d"
      },
      "execution_count": 178,
      "outputs": [
        {
          "output_type": "stream",
          "name": "stdout",
          "text": [
            "+--------------------+--------------------+--------+-----------+--------+-----------+------------+-----------+-----------+--------------+--------------+------------+-------+--------+----------------+------------+------------+---------------+-------+-------+---------+\n",
            "|               SHA-1|                 MD5|   CRC32|   FileName|FileSize|ProductCode|OpSystemCode|SpecialCode|ProductCode|   ProductName|ProductVersion|OpSystemCode|MfgCode|Language| ApplicationType|OpSystemCode|OpSystemName|OpSystemVersion|MfgCode|MfgCode|  MfgName|\n",
            "+--------------------+--------------------+--------+-----------+--------+-----------+------------+-----------+-----------+--------------+--------------+------------+-------+--------+----------------+------------+------------+---------------+-------+-------+---------+\n",
            "|003f1b9a60927b2c4...|220a7215a63faa737...|5E9769BF|Desktop.ini|     798|      50047|        1010|       NULL|      50047|Windows 10 x86|         2015-|        1010|   5001|Japanese|Operating System|        1010|  Windows 10|             10|   5001|   5001|Microsoft|\n",
            "+--------------------+--------------------+--------+-----------+--------+-----------+------------+-----------+-----------+--------------+--------------+------------+-------+--------+----------------+------------+------------+---------------+-------+-------+---------+\n",
            "\n"
          ]
        }
      ]
    },
    {
      "cell_type": "code",
      "source": [
        "# パーティション（フォルダ）による最適化が走るクエリ\n",
        "spark.sql(\n",
        "    f\"\"\"\n",
        "SELECT\n",
        "    *\n",
        "FROM\n",
        "    {CATALOG_NAME}.{DATABASE_NAME}.NSRLFile\n",
        "LEFT JOIN\n",
        "    {CATALOG_NAME}.{DATABASE_NAME}.NSRLProd ON {CATALOG_NAME}.{DATABASE_NAME}.NSRLFile.ProductCode = {CATALOG_NAME}.{DATABASE_NAME}.NSRLProd.ProductCode\n",
        "LEFT JOIN\n",
        "    {CATALOG_NAME}.{DATABASE_NAME}.NSRLOS ON {CATALOG_NAME}.{DATABASE_NAME}.NSRLFile.OpSystemCode = {CATALOG_NAME}.{DATABASE_NAME}.NSRLOS.OpSystemCode\n",
        "LEFT JOIN\n",
        "    {CATALOG_NAME}.{DATABASE_NAME}.NSRLMfg ON {CATALOG_NAME}.{DATABASE_NAME}.NSRLOS.MfgCode = {CATALOG_NAME}.{DATABASE_NAME}.NSRLMfg.MfgCode\n",
        "WHERE\n",
        "    {CATALOG_NAME}.{DATABASE_NAME}.NSRLFile.`SHA-1` = '003f1b9a60927b2c429412cb4698907e0a0c68ce'\n",
        "AND\n",
        "    {CATALOG_NAME}.{DATABASE_NAME}.NSRLFile.OpSystemCode = '1010'\n",
        "\"\"\"\n",
        ").show()"
      ],
      "metadata": {
        "colab": {
          "base_uri": "https://localhost:8080/"
        },
        "id": "tUAn9thlpy-e",
        "outputId": "4547f246-2bb4-4caf-bea4-e46d01e31ae1"
      },
      "execution_count": 179,
      "outputs": [
        {
          "output_type": "stream",
          "name": "stdout",
          "text": [
            "+--------------------+--------------------+--------+-----------+--------+-----------+------------+-----------+-----------+--------------+--------------+------------+-------+--------+----------------+------------+------------+---------------+-------+-------+---------+\n",
            "|               SHA-1|                 MD5|   CRC32|   FileName|FileSize|ProductCode|OpSystemCode|SpecialCode|ProductCode|   ProductName|ProductVersion|OpSystemCode|MfgCode|Language| ApplicationType|OpSystemCode|OpSystemName|OpSystemVersion|MfgCode|MfgCode|  MfgName|\n",
            "+--------------------+--------------------+--------+-----------+--------+-----------+------------+-----------+-----------+--------------+--------------+------------+-------+--------+----------------+------------+------------+---------------+-------+-------+---------+\n",
            "|003f1b9a60927b2c4...|220a7215a63faa737...|5E9769BF|Desktop.ini|     798|      50047|        1010|       NULL|      50047|Windows 10 x86|         2015-|        1010|   5001|Japanese|Operating System|        1010|  Windows 10|             10|   5001|   5001|Microsoft|\n",
            "+--------------------+--------------------+--------+-----------+--------+-----------+------------+-----------+-----------+--------------+--------------+------------+-------+--------+----------------+------------+------------+---------------+-------+-------+---------+\n",
            "\n"
          ]
        }
      ]
    },
    {
      "cell_type": "markdown",
      "source": [
        "### DuckDBによるクエリ"
      ],
      "metadata": {
        "id": "TwXdczvmy5hA"
      }
    },
    {
      "cell_type": "code",
      "source": [
        "# Extensionsをロード\n",
        "import duckdb\n",
        "duckdb.sql(\"\"\"\n",
        "INSTALL httpfs;\n",
        "INSTALL iceberg;\n",
        "LOAD iceberg;\n",
        "LOAD httpfs;\n",
        "\"\"\")\n",
        "\n",
        "# S3用クレデンシャルを作成\n",
        "\n",
        "duckdb.sql(f\"\"\"\n",
        "DROP SECRET IF EXISTS oci_storage;\n",
        "CREATE SECRET IF NOT EXISTS  oci_storage (\n",
        "    TYPE s3,\n",
        "    REGION '{S3A_REGION}',\n",
        "    ENDPOINT '{S3A_ENDPOINT}',\n",
        "    KEY_ID '{S3A_ACCESS_KEY}',\n",
        "    SECRET '{S3A_SECRET_KEY}',\n",
        "    URL_STYLE 'path'\n",
        ");\n",
        "\"\"\")"
      ],
      "metadata": {
        "colab": {
          "base_uri": "https://localhost:8080/"
        },
        "id": "S7SNsTQVrHDB",
        "outputId": "9eb908cc-5783-44c4-8352-4221d383f448"
      },
      "execution_count": 180,
      "outputs": [
        {
          "output_type": "execute_result",
          "data": {
            "text/plain": [
              "┌─────────┐\n",
              "│ Success │\n",
              "│ boolean │\n",
              "├─────────┤\n",
              "│ true    │\n",
              "└─────────┘"
            ]
          },
          "metadata": {},
          "execution_count": 180
        }
      ]
    },
    {
      "cell_type": "code",
      "source": [
        "# 通常のクエリ\n",
        "duckdb.sql(\"\"\"\n",
        "WITH NSRLFile AS (\n",
        "    SELECT\n",
        "        *\n",
        "    FROM\n",
        "        iceberg_scan(\n",
        "            's3://datalakehouse/iceberg/NSRLJP/NSRLFile',\n",
        "            allow_moved_paths = true\n",
        "        )\n",
        "), NSRLProd AS (\n",
        "    SELECT\n",
        "        *\n",
        "    FROM\n",
        "        iceberg_scan(\n",
        "            's3://datalakehouse/iceberg/NSRLJP/NSRLProd',\n",
        "            allow_moved_paths = true\n",
        "        )\n",
        "), NSRLOS AS (\n",
        "    SELECT\n",
        "        *\n",
        "    FROM\n",
        "        iceberg_scan(\n",
        "            's3://datalakehouse/iceberg/NSRLJP/NSRLOS',\n",
        "            allow_moved_paths = true\n",
        "        )\n",
        "), NSRLMfg AS (\n",
        "    SELECT\n",
        "        *\n",
        "    FROM\n",
        "        iceberg_scan(\n",
        "            's3://datalakehouse/iceberg/NSRLJP/NSRLMfg',\n",
        "            allow_moved_paths = true\n",
        "        )\n",
        ")\n",
        "SELECT\n",
        "    *\n",
        "FROM\n",
        "    NSRLFile\n",
        "LEFT JOIN\n",
        "    NSRLProd ON NSRLFile.ProductCode = NSRLProd.ProductCode\n",
        "LEFT JOIN\n",
        "    NSRLOS ON NSRLFile.OpSystemCode = NSRLOS.OpSystemCode\n",
        "LEFT JOIN\n",
        "    NSRLMfg ON NSRLOS.MfgCode = NSRLMfg.MfgCode\n",
        "WHERE\n",
        "    NSRLFile.\"SHA-1\" = '003f1b9a60927b2c429412cb4698907e0a0c68ce'\n",
        "\"\"\")"
      ],
      "metadata": {
        "colab": {
          "base_uri": "https://localhost:8080/",
          "height": 283,
          "referenced_widgets": [
            "cb08a5189c3845c98d280a69873fe252",
            "09f5ae94be0b4876bed2cfefbc339e61",
            "c54dc3eff52c41b5ab0490ffd3446961"
          ]
        },
        "id": "h9fCs_mT4rg7",
        "outputId": "d8881218-62ba-4410-dd4b-89c2b9b50b69"
      },
      "execution_count": 181,
      "outputs": [
        {
          "output_type": "display_data",
          "data": {
            "text/plain": [
              "FloatProgress(value=0.0, layout=Layout(width='auto'), style=ProgressStyle(bar_color='black'))"
            ],
            "application/vnd.jupyter.widget-view+json": {
              "version_major": 2,
              "version_minor": 0,
              "model_id": "cb08a5189c3845c98d280a69873fe252"
            }
          },
          "metadata": {}
        },
        {
          "output_type": "execute_result",
          "data": {
            "text/plain": [
              "┌──────────────────────────────────────────┬──────────────────────────────────┬──────────┬─────────────┬──────────┬─────────────┬──────────────┬─────────────┬─────────────┬────────────────┬────────────────┬──────────────┬─────────┬──────────┬──────────────────┬──────────────┬──────────────┬─────────────────┬─────────┬─────────┬───────────┐\n",
              "│                  SHA-1                   │               MD5                │  CRC32   │  FileName   │ FileSize │ ProductCode │ OpSystemCode │ SpecialCode │ ProductCode │  ProductName   │ ProductVersion │ OpSystemCode │ MfgCode │ Language │ ApplicationType  │ OpSystemCode │ OpSystemName │ OpSystemVersion │ MfgCode │ MfgCode │  MfgName  │\n",
              "│                 varchar                  │             varchar              │ varchar  │   varchar   │ varchar  │   varchar   │   varchar    │   varchar   │   varchar   │    varchar     │    varchar     │   varchar    │ varchar │ varchar  │     varchar      │   varchar    │   varchar    │     varchar     │ varchar │ varchar │  varchar  │\n",
              "├──────────────────────────────────────────┼──────────────────────────────────┼──────────┼─────────────┼──────────┼─────────────┼──────────────┼─────────────┼─────────────┼────────────────┼────────────────┼──────────────┼─────────┼──────────┼──────────────────┼──────────────┼──────────────┼─────────────────┼─────────┼─────────┼───────────┤\n",
              "│ 003f1b9a60927b2c429412cb4698907e0a0c68ce │ 220a7215a63faa737f49f2d5e6a6f8ca │ 5E9769BF │ Desktop.ini │ 798      │ 50047       │ 1010         │ NULL        │ 50047       │ Windows 10 x86 │ 2015-          │ 1010         │ 5001    │ Japanese │ Operating System │ 1010         │ Windows 10   │ 10              │ 5001    │ 5001    │ Microsoft │\n",
              "└──────────────────────────────────────────┴──────────────────────────────────┴──────────┴─────────────┴──────────┴─────────────┴──────────────┴─────────────┴─────────────┴────────────────┴────────────────┴──────────────┴─────────┴──────────┴──────────────────┴──────────────┴──────────────┴─────────────────┴─────────┴─────────┴───────────┘"
            ]
          },
          "metadata": {},
          "execution_count": 181
        }
      ]
    },
    {
      "cell_type": "code",
      "source": [
        "# パーティション（フォルダ）による最適化が走るクエリ\n",
        "duckdb.sql(\"\"\"\n",
        "WITH NSRLFile AS (\n",
        "    SELECT\n",
        "        *\n",
        "    FROM\n",
        "        iceberg_scan(\n",
        "            's3://datalakehouse/iceberg/NSRLJP/NSRLFile',\n",
        "            allow_moved_paths = true\n",
        "        )\n",
        "), NSRLProd AS (\n",
        "    SELECT\n",
        "        *\n",
        "    FROM\n",
        "        iceberg_scan(\n",
        "            's3://datalakehouse/iceberg/NSRLJP/NSRLProd',\n",
        "            allow_moved_paths = true\n",
        "        )\n",
        "), NSRLOS AS (\n",
        "    SELECT\n",
        "        *\n",
        "    FROM\n",
        "        iceberg_scan(\n",
        "            's3://datalakehouse/iceberg/NSRLJP/NSRLOS',\n",
        "            allow_moved_paths = true\n",
        "        )\n",
        "), NSRLMfg AS (\n",
        "    SELECT\n",
        "        *\n",
        "    FROM\n",
        "        iceberg_scan(\n",
        "            's3://datalakehouse/iceberg/NSRLJP/NSRLMfg',\n",
        "            allow_moved_paths = true\n",
        "        )\n",
        ")\n",
        "SELECT\n",
        "    *\n",
        "FROM\n",
        "    NSRLFile\n",
        "LEFT JOIN\n",
        "    NSRLProd ON NSRLFile.ProductCode = NSRLProd.ProductCode\n",
        "LEFT JOIN\n",
        "    NSRLOS ON NSRLFile.OpSystemCode = NSRLOS.OpSystemCode\n",
        "LEFT JOIN\n",
        "    NSRLMfg ON NSRLOS.MfgCode = NSRLMfg.MfgCode\n",
        "WHERE\n",
        "    NSRLFile.\"SHA-1\" = '003f1b9a60927b2c429412cb4698907e0a0c68ce'\n",
        "AND\n",
        "    NSRLFile.OpSystemCode = '1010'\n",
        "\"\"\")"
      ],
      "metadata": {
        "colab": {
          "base_uri": "https://localhost:8080/",
          "height": 283,
          "referenced_widgets": [
            "99f842f70f0743b2993117fd83e42cd8",
            "e8a788ffd4f94c71b0cf2244a57a1ebd",
            "4a6c002a69644a2d9fad8260579aa8fd"
          ]
        },
        "id": "9i0S4Ds_zE3N",
        "outputId": "48bfb65b-8ca8-4685-d118-93940208e65c"
      },
      "execution_count": 182,
      "outputs": [
        {
          "output_type": "display_data",
          "data": {
            "text/plain": [
              "FloatProgress(value=0.0, layout=Layout(width='auto'), style=ProgressStyle(bar_color='black'))"
            ],
            "application/vnd.jupyter.widget-view+json": {
              "version_major": 2,
              "version_minor": 0,
              "model_id": "99f842f70f0743b2993117fd83e42cd8"
            }
          },
          "metadata": {}
        },
        {
          "output_type": "execute_result",
          "data": {
            "text/plain": [
              "┌──────────────────────────────────────────┬──────────────────────────────────┬──────────┬─────────────┬──────────┬─────────────┬──────────────┬─────────────┬─────────────┬────────────────┬────────────────┬──────────────┬─────────┬──────────┬──────────────────┬──────────────┬──────────────┬─────────────────┬─────────┬─────────┬───────────┐\n",
              "│                  SHA-1                   │               MD5                │  CRC32   │  FileName   │ FileSize │ ProductCode │ OpSystemCode │ SpecialCode │ ProductCode │  ProductName   │ ProductVersion │ OpSystemCode │ MfgCode │ Language │ ApplicationType  │ OpSystemCode │ OpSystemName │ OpSystemVersion │ MfgCode │ MfgCode │  MfgName  │\n",
              "│                 varchar                  │             varchar              │ varchar  │   varchar   │ varchar  │   varchar   │   varchar    │   varchar   │   varchar   │    varchar     │    varchar     │   varchar    │ varchar │ varchar  │     varchar      │   varchar    │   varchar    │     varchar     │ varchar │ varchar │  varchar  │\n",
              "├──────────────────────────────────────────┼──────────────────────────────────┼──────────┼─────────────┼──────────┼─────────────┼──────────────┼─────────────┼─────────────┼────────────────┼────────────────┼──────────────┼─────────┼──────────┼──────────────────┼──────────────┼──────────────┼─────────────────┼─────────┼─────────┼───────────┤\n",
              "│ 003f1b9a60927b2c429412cb4698907e0a0c68ce │ 220a7215a63faa737f49f2d5e6a6f8ca │ 5E9769BF │ Desktop.ini │ 798      │ 50047       │ 1010         │ NULL        │ 50047       │ Windows 10 x86 │ 2015-          │ 1010         │ 5001    │ Japanese │ Operating System │ 1010         │ Windows 10   │ 10              │ 5001    │ 5001    │ Microsoft │\n",
              "└──────────────────────────────────────────┴──────────────────────────────────┴──────────┴─────────────┴──────────┴─────────────┴──────────────┴─────────────┴─────────────┴────────────────┴────────────────┴──────────────┴─────────┴──────────┴──────────────────┴──────────────┴──────────────┴─────────────────┴─────────┴─────────┴───────────┘"
            ]
          },
          "metadata": {},
          "execution_count": 182
        }
      ]
    },
    {
      "cell_type": "markdown",
      "source": [
        "# Iceberg1.8.1の機能"
      ],
      "metadata": {
        "id": "2V0A_SRPMgtR"
      }
    },
    {
      "cell_type": "markdown",
      "source": [
        "## Sparkセッションを再作成"
      ],
      "metadata": {
        "id": "qE759drsW4Fo"
      }
    },
    {
      "cell_type": "code",
      "source": [
        "###### sparkセッションを念の為再度作成\n",
        "import os\n",
        "from pyspark.sql import SparkSession\n",
        "from google.colab import userdata\n",
        "\n",
        "S3A_ENDPOINT = userdata.get('S3A_ENDPOINT') # xxxxxxx.compat.objectstorage.{S3A_REGION}.oraclecloud.com\n",
        "S3A_ACCESS_KEY = userdata.get('S3A_ACCESS_KEY') # xxxxxxxxxxxx\n",
        "S3A_SECRET_KEY = userdata.get('S3A_SECRET_KEY') # xxxxxxxxxxxx\n",
        "S3A_REGION = userdata.get('S3A_REGION') # ap-northeast-1\n",
        "CATALOG_NAME = \"catalog_iceberg\"\n",
        "DATABASE_NAME = \"NSRLJP\"\n",
        "WAREHOUSE_URL = \"s3a://datalakehouse/iceberg\"\n",
        "PATH_NSRLFILE = f'{WAREHOUSE_URL}/{DATABASE_NAME}/NSRLFile/'\n",
        "\n",
        "spark: SparkSession = (\n",
        "    SparkSession.builder.master(\"local[*,3]\")\n",
        "    .appName(\"app_nsrljp\")\n",
        "    # .config(\"spark.driver.memory\", \"2g\")\n",
        "    # .config(\"spark.executor.memory\", \"2g\")\n",
        "    # .config(\"spark.log.level\", \"DEBUG\")\n",
        "    .config(\n",
        "        \"spark.jars.packages\",\n",
        "        f\"org.apache.iceberg:iceberg-spark-runtime-3.5_2.12:1.8.1\"\n",
        "        f\",org.apache.hadoop:hadoop-aws:3.3.4\",\n",
        "    )\n",
        "    .config(\n",
        "        \"spark.sql.extensions\",\n",
        "        \"org.apache.iceberg.spark.extensions.IcebergSparkSessionExtensions\",\n",
        "    )\n",
        "    .config(\n",
        "        f\"spark.sql.catalog.{CATALOG_NAME}\", \"org.apache.iceberg.spark.SparkCatalog\"\n",
        "    )\n",
        "    .config(\n",
        "        f\"spark.sql.catalog.{CATALOG_NAME}.type\", \"hadoop\"\n",
        "    )  # https://iceberg.apache.org/docs/1.5.0/spark-configuration/\n",
        "    .config(f\"spark.sql.catalog.{CATALOG_NAME}.warehouse\", f\"{WAREHOUSE_URL}\")\n",
        "    .config(f\"spark.sql.defaultCatalog\", f\"{CATALOG_NAME}\")\n",
        "    .config(\"spark.hadoop.fs.s3a.endpoint.region\", S3A_REGION or \"\")\n",
        "    .config(\"spark.hadoop.fs.s3a.endpoint\", S3A_ENDPOINT or \"\")\n",
        "    .config(\"spark.hadoop.fs.s3a.access.key\", S3A_ACCESS_KEY or \"\")\n",
        "    .config(\"spark.hadoop.fs.s3a.secret.key\", S3A_SECRET_KEY or \"\")\n",
        "    .config(\"spark.hadoop.fs.s3a.impl\", \"org.apache.hadoop.fs.s3a.S3AFileSystem\")\n",
        "    .config(\"spark.hadoop.fs.s3a.path.style.access\", True)\n",
        "    .getOrCreate()\n",
        ")\n",
        "\n",
        "###### duckdbセッションも念の為再度作成\n",
        "import duckdb\n",
        "# Extensionsをロード\n",
        "duckdb.sql(\"\"\"\n",
        "INSTALL httpfs;\n",
        "INSTALL iceberg;\n",
        "LOAD iceberg;\n",
        "LOAD httpfs;\n",
        "\"\"\")\n",
        "\n",
        "# S3用クレデンシャルを作成\n",
        "duckdb.sql(f\"\"\"\n",
        "DROP SECRET IF EXISTS oci_storage;\n",
        "CREATE SECRET IF NOT EXISTS  oci_storage (\n",
        "    TYPE s3,\n",
        "    REGION '{S3A_REGION}',\n",
        "    ENDPOINT '{S3A_ENDPOINT}',\n",
        "    KEY_ID '{S3A_ACCESS_KEY}',\n",
        "    SECRET '{S3A_SECRET_KEY}',\n",
        "    URL_STYLE 'path'\n",
        ");\n",
        "\"\"\")\n"
      ],
      "metadata": {
        "id": "VAjci4kU60l-",
        "colab": {
          "base_uri": "https://localhost:8080/"
        },
        "outputId": "0cf74594-6885-4824-90b5-e1e7f9357c3a"
      },
      "execution_count": 183,
      "outputs": [
        {
          "output_type": "execute_result",
          "data": {
            "text/plain": [
              "┌─────────┐\n",
              "│ Success │\n",
              "│ boolean │\n",
              "├─────────┤\n",
              "│ true    │\n",
              "└─────────┘"
            ]
          },
          "metadata": {},
          "execution_count": 183
        }
      ]
    },
    {
      "cell_type": "markdown",
      "source": [
        "### 確認の為boto3ライブラリをインストール"
      ],
      "metadata": {
        "id": "bMlIovTVSWEg"
      }
    },
    {
      "cell_type": "markdown",
      "source": [
        "### デフォルトではCopy on Write"
      ],
      "metadata": {
        "id": "iaeDWdnOOQ-W"
      }
    },
    {
      "cell_type": "code",
      "source": [
        "# Copy on Writeであることを確認するには　SHOW TBLPROPERTIES　を使う。デフォルトがCoWである。\n",
        "spark.sql(f'SHOW TBLPROPERTIES {CATALOG_NAME}.{DATABASE_NAME}.NSRLFile').show(truncate=False)"
      ],
      "metadata": {
        "colab": {
          "base_uri": "https://localhost:8080/"
        },
        "id": "2-Y5RXDcN9_Y",
        "outputId": "9c7453c5-1cf2-4403-aa7b-93c013c567ba"
      },
      "execution_count": 184,
      "outputs": [
        {
          "output_type": "stream",
          "name": "stdout",
          "text": [
            "+-------------------------------+-------------------+\n",
            "|key                            |value              |\n",
            "+-------------------------------+-------------------+\n",
            "|current-snapshot-id            |2667036507751922659|\n",
            "|format                         |iceberg/parquet    |\n",
            "|format-version                 |2                  |\n",
            "|write.parquet.compression-codec|zstd               |\n",
            "+-------------------------------+-------------------+\n",
            "\n"
          ]
        }
      ]
    },
    {
      "cell_type": "code",
      "source": [
        "!pip install -qq boto3"
      ],
      "metadata": {
        "id": "C5dPsAXCSO-Q"
      },
      "execution_count": 185,
      "outputs": []
    },
    {
      "cell_type": "markdown",
      "source": [
        "#### s3a://datalakehouse/iceberg/NSRLJP/NSRLFile の中身を確認"
      ],
      "metadata": {
        "id": "qCprmjFcV1aY"
      }
    },
    {
      "cell_type": "code",
      "source": [
        "import json\n",
        "import boto3\n",
        "S3A_BUCKET = \"datalakehouse\"\n",
        "S3A_URL = \"https://\" + S3A_ENDPOINT\n",
        "s3 = boto3.client(service_name=\"s3\",endpoint_url=S3A_URL, region_name=S3A_REGION, aws_access_key_id=S3A_ACCESS_KEY, aws_secret_access_key=S3A_SECRET_KEY)\n",
        "objects = s3.list_objects(Bucket=S3A_BUCKET, Prefix=\"iceberg/NSRLJP/NSRLFile\")\n",
        "for obj in objects[\"Contents\"]:\n",
        "    print(obj[\"Key\"])"
      ],
      "metadata": {
        "colab": {
          "base_uri": "https://localhost:8080/"
        },
        "id": "CH1WXrL6SuSC",
        "outputId": "2eab8081-537a-43c5-9574-35e69ae717f1"
      },
      "execution_count": 186,
      "outputs": [
        {
          "output_type": "stream",
          "name": "stdout",
          "text": [
            "iceberg/NSRLJP/NSRLFile/data/OpSystemCode=1001/00002-82-ec6cf2b1-556d-498e-b6f0-5db33c6ee7dc-0-00013.parquet\n",
            "iceberg/NSRLJP/NSRLFile/data/OpSystemCode=1002/00002-82-ec6cf2b1-556d-498e-b6f0-5db33c6ee7dc-0-00012.parquet\n",
            "iceberg/NSRLJP/NSRLFile/data/OpSystemCode=1003/00002-82-ec6cf2b1-556d-498e-b6f0-5db33c6ee7dc-0-00011.parquet\n",
            "iceberg/NSRLJP/NSRLFile/data/OpSystemCode=1004/00002-82-ec6cf2b1-556d-498e-b6f0-5db33c6ee7dc-0-00003.parquet\n",
            "iceberg/NSRLJP/NSRLFile/data/OpSystemCode=1005/00002-82-ec6cf2b1-556d-498e-b6f0-5db33c6ee7dc-0-00007.parquet\n",
            "iceberg/NSRLJP/NSRLFile/data/OpSystemCode=1006/00002-82-ec6cf2b1-556d-498e-b6f0-5db33c6ee7dc-0-00005.parquet\n",
            "iceberg/NSRLJP/NSRLFile/data/OpSystemCode=1007/00002-82-ec6cf2b1-556d-498e-b6f0-5db33c6ee7dc-0-00006.parquet\n",
            "iceberg/NSRLJP/NSRLFile/data/OpSystemCode=1008/00000-80-ec6cf2b1-556d-498e-b6f0-5db33c6ee7dc-0-00001.parquet\n",
            "iceberg/NSRLJP/NSRLFile/data/OpSystemCode=1008/00001-81-ec6cf2b1-556d-498e-b6f0-5db33c6ee7dc-0-00001.parquet\n",
            "iceberg/NSRLJP/NSRLFile/data/OpSystemCode=1009/00002-82-ec6cf2b1-556d-498e-b6f0-5db33c6ee7dc-0-00010.parquet\n",
            "iceberg/NSRLJP/NSRLFile/data/OpSystemCode=1010/00002-82-ec6cf2b1-556d-498e-b6f0-5db33c6ee7dc-0-00004.parquet\n",
            "iceberg/NSRLJP/NSRLFile/data/OpSystemCode=1011/00002-82-ec6cf2b1-556d-498e-b6f0-5db33c6ee7dc-0-00008.parquet\n",
            "iceberg/NSRLJP/NSRLFile/data/OpSystemCode=1012/00002-82-ec6cf2b1-556d-498e-b6f0-5db33c6ee7dc-0-00001.parquet\n",
            "iceberg/NSRLJP/NSRLFile/data/OpSystemCode=1013/00002-82-ec6cf2b1-556d-498e-b6f0-5db33c6ee7dc-0-00002.parquet\n",
            "iceberg/NSRLJP/NSRLFile/data/OpSystemCode=1014/00002-82-ec6cf2b1-556d-498e-b6f0-5db33c6ee7dc-0-00009.parquet\n",
            "iceberg/NSRLJP/NSRLFile/metadata/0c0fc988-9655-4483-9808-533c60bf0e20-m0.avro\n",
            "iceberg/NSRLJP/NSRLFile/metadata/snap-2667036507751922659-1-0c0fc988-9655-4483-9808-533c60bf0e20.avro\n",
            "iceberg/NSRLJP/NSRLFile/metadata/v1.metadata.json\n",
            "iceberg/NSRLJP/NSRLFile/metadata/v2.metadata.json\n",
            "iceberg/NSRLJP/NSRLFile/metadata/version-hint.text\n"
          ]
        }
      ]
    },
    {
      "cell_type": "markdown",
      "source": [
        "#### Copy-on-Writeの挙動の確認"
      ],
      "metadata": {
        "id": "R2CTVoTUaMs5"
      }
    },
    {
      "cell_type": "markdown",
      "source": [
        "##### データの追加"
      ],
      "metadata": {
        "id": "nlUjJLyjaS5o"
      }
    },
    {
      "cell_type": "code",
      "source": [
        "# Copy on Writeでは削除も更新も追加も関係ない。全てのレコードを新しいファイルにとして別ファイルとしてコピーする。\n",
        "spark.sql(f\"\"\"\n",
        "INSERT INTO {CATALOG_NAME}.{DATABASE_NAME}.NSRLFile\n",
        "VALUES ('test', 'test', 'test', 'test', 'test', 'test', 'test', 'test')\n",
        "\"\"\")"
      ],
      "metadata": {
        "colab": {
          "base_uri": "https://localhost:8080/"
        },
        "id": "7CnwkzU8Xl4W",
        "outputId": "53e08907-795f-4d49-e4f7-5cfb4d877d8b"
      },
      "execution_count": 187,
      "outputs": [
        {
          "output_type": "execute_result",
          "data": {
            "text/plain": [
              "DataFrame[]"
            ]
          },
          "metadata": {},
          "execution_count": 187
        }
      ]
    },
    {
      "cell_type": "code",
      "source": [
        "# OpSystemCode=testのパーティションが作成されている\n",
        "objects = s3.list_objects(Bucket=S3A_BUCKET, Prefix=\"iceberg/NSRLJP/NSRLFile\")\n",
        "for obj in objects[\"Contents\"]:\n",
        "    print(obj[\"Key\"])"
      ],
      "metadata": {
        "colab": {
          "base_uri": "https://localhost:8080/"
        },
        "id": "b1L4MoHHXu2I",
        "outputId": "7699a730-9fb7-49d7-806a-0d21843eacbc"
      },
      "execution_count": 188,
      "outputs": [
        {
          "output_type": "stream",
          "name": "stdout",
          "text": [
            "iceberg/NSRLJP/NSRLFile/data/OpSystemCode=1001/00002-82-ec6cf2b1-556d-498e-b6f0-5db33c6ee7dc-0-00013.parquet\n",
            "iceberg/NSRLJP/NSRLFile/data/OpSystemCode=1002/00002-82-ec6cf2b1-556d-498e-b6f0-5db33c6ee7dc-0-00012.parquet\n",
            "iceberg/NSRLJP/NSRLFile/data/OpSystemCode=1003/00002-82-ec6cf2b1-556d-498e-b6f0-5db33c6ee7dc-0-00011.parquet\n",
            "iceberg/NSRLJP/NSRLFile/data/OpSystemCode=1004/00002-82-ec6cf2b1-556d-498e-b6f0-5db33c6ee7dc-0-00003.parquet\n",
            "iceberg/NSRLJP/NSRLFile/data/OpSystemCode=1005/00002-82-ec6cf2b1-556d-498e-b6f0-5db33c6ee7dc-0-00007.parquet\n",
            "iceberg/NSRLJP/NSRLFile/data/OpSystemCode=1006/00002-82-ec6cf2b1-556d-498e-b6f0-5db33c6ee7dc-0-00005.parquet\n",
            "iceberg/NSRLJP/NSRLFile/data/OpSystemCode=1007/00002-82-ec6cf2b1-556d-498e-b6f0-5db33c6ee7dc-0-00006.parquet\n",
            "iceberg/NSRLJP/NSRLFile/data/OpSystemCode=1008/00000-80-ec6cf2b1-556d-498e-b6f0-5db33c6ee7dc-0-00001.parquet\n",
            "iceberg/NSRLJP/NSRLFile/data/OpSystemCode=1008/00001-81-ec6cf2b1-556d-498e-b6f0-5db33c6ee7dc-0-00001.parquet\n",
            "iceberg/NSRLJP/NSRLFile/data/OpSystemCode=1009/00002-82-ec6cf2b1-556d-498e-b6f0-5db33c6ee7dc-0-00010.parquet\n",
            "iceberg/NSRLJP/NSRLFile/data/OpSystemCode=1010/00002-82-ec6cf2b1-556d-498e-b6f0-5db33c6ee7dc-0-00004.parquet\n",
            "iceberg/NSRLJP/NSRLFile/data/OpSystemCode=1011/00002-82-ec6cf2b1-556d-498e-b6f0-5db33c6ee7dc-0-00008.parquet\n",
            "iceberg/NSRLJP/NSRLFile/data/OpSystemCode=1012/00002-82-ec6cf2b1-556d-498e-b6f0-5db33c6ee7dc-0-00001.parquet\n",
            "iceberg/NSRLJP/NSRLFile/data/OpSystemCode=1013/00002-82-ec6cf2b1-556d-498e-b6f0-5db33c6ee7dc-0-00002.parquet\n",
            "iceberg/NSRLJP/NSRLFile/data/OpSystemCode=1014/00002-82-ec6cf2b1-556d-498e-b6f0-5db33c6ee7dc-0-00009.parquet\n",
            "iceberg/NSRLJP/NSRLFile/data/OpSystemCode=test/00000-99-636a41df-94bf-4db0-9538-ef5f59954981-0-00001.parquet\n",
            "iceberg/NSRLJP/NSRLFile/metadata/0c0fc988-9655-4483-9808-533c60bf0e20-m0.avro\n",
            "iceberg/NSRLJP/NSRLFile/metadata/152413d1-75e7-4d96-98ca-be57cc842d41-m0.avro\n",
            "iceberg/NSRLJP/NSRLFile/metadata/snap-2320022768625959900-1-152413d1-75e7-4d96-98ca-be57cc842d41.avro\n",
            "iceberg/NSRLJP/NSRLFile/metadata/snap-2667036507751922659-1-0c0fc988-9655-4483-9808-533c60bf0e20.avro\n",
            "iceberg/NSRLJP/NSRLFile/metadata/v1.metadata.json\n",
            "iceberg/NSRLJP/NSRLFile/metadata/v2.metadata.json\n",
            "iceberg/NSRLJP/NSRLFile/metadata/v3.metadata.json\n",
            "iceberg/NSRLJP/NSRLFile/metadata/version-hint.text\n"
          ]
        }
      ]
    },
    {
      "cell_type": "markdown",
      "source": [
        "##### データの削除"
      ],
      "metadata": {
        "id": "BcWVlzRtaWDi"
      }
    },
    {
      "cell_type": "code",
      "source": [
        "# 先ほど追加したデータを削除してみる\n",
        "spark.sql(f\"\"\"\n",
        "DELETE FROM {CATALOG_NAME}.{DATABASE_NAME}.NSRLFile\n",
        "WHERE `SHA-1` = 'test'\n",
        "\"\"\")"
      ],
      "metadata": {
        "colab": {
          "base_uri": "https://localhost:8080/"
        },
        "id": "IurL4kR7XqHh",
        "outputId": "47fbdf08-abda-4fd2-c231-666828237515"
      },
      "execution_count": 189,
      "outputs": [
        {
          "output_type": "execute_result",
          "data": {
            "text/plain": [
              "DataFrame[]"
            ]
          },
          "metadata": {},
          "execution_count": 189
        }
      ]
    },
    {
      "cell_type": "code",
      "source": [
        "# OpSystemCode=testのレコードを削除したにもかかわらず、パーティションが残っている\n",
        "objects = s3.list_objects(Bucket=S3A_BUCKET, Prefix=\"iceberg/NSRLJP/NSRLFile\")\n",
        "for obj in objects[\"Contents\"]:\n",
        "    print(obj[\"Key\"],obj[\"LastModified\"])"
      ],
      "metadata": {
        "colab": {
          "base_uri": "https://localhost:8080/"
        },
        "id": "wH91SBGGYZUf",
        "outputId": "60bbbfff-72e3-4b93-9857-f486e5983bbd"
      },
      "execution_count": 190,
      "outputs": [
        {
          "output_type": "stream",
          "name": "stdout",
          "text": [
            "iceberg/NSRLJP/NSRLFile/data/OpSystemCode=1001/00002-82-ec6cf2b1-556d-498e-b6f0-5db33c6ee7dc-0-00013.parquet 2025-03-20 13:35:15+00:00\n",
            "iceberg/NSRLJP/NSRLFile/data/OpSystemCode=1002/00002-82-ec6cf2b1-556d-498e-b6f0-5db33c6ee7dc-0-00012.parquet 2025-03-20 13:35:15+00:00\n",
            "iceberg/NSRLJP/NSRLFile/data/OpSystemCode=1003/00002-82-ec6cf2b1-556d-498e-b6f0-5db33c6ee7dc-0-00011.parquet 2025-03-20 13:35:14+00:00\n",
            "iceberg/NSRLJP/NSRLFile/data/OpSystemCode=1004/00002-82-ec6cf2b1-556d-498e-b6f0-5db33c6ee7dc-0-00003.parquet 2025-03-20 13:35:13+00:00\n",
            "iceberg/NSRLJP/NSRLFile/data/OpSystemCode=1005/00002-82-ec6cf2b1-556d-498e-b6f0-5db33c6ee7dc-0-00007.parquet 2025-03-20 13:35:13+00:00\n",
            "iceberg/NSRLJP/NSRLFile/data/OpSystemCode=1006/00002-82-ec6cf2b1-556d-498e-b6f0-5db33c6ee7dc-0-00005.parquet 2025-03-20 13:35:13+00:00\n",
            "iceberg/NSRLJP/NSRLFile/data/OpSystemCode=1007/00002-82-ec6cf2b1-556d-498e-b6f0-5db33c6ee7dc-0-00006.parquet 2025-03-20 13:35:12+00:00\n",
            "iceberg/NSRLJP/NSRLFile/data/OpSystemCode=1008/00000-80-ec6cf2b1-556d-498e-b6f0-5db33c6ee7dc-0-00001.parquet 2025-03-20 13:35:12+00:00\n",
            "iceberg/NSRLJP/NSRLFile/data/OpSystemCode=1008/00001-81-ec6cf2b1-556d-498e-b6f0-5db33c6ee7dc-0-00001.parquet 2025-03-20 13:34:51+00:00\n",
            "iceberg/NSRLJP/NSRLFile/data/OpSystemCode=1009/00002-82-ec6cf2b1-556d-498e-b6f0-5db33c6ee7dc-0-00010.parquet 2025-03-20 13:35:12+00:00\n",
            "iceberg/NSRLJP/NSRLFile/data/OpSystemCode=1010/00002-82-ec6cf2b1-556d-498e-b6f0-5db33c6ee7dc-0-00004.parquet 2025-03-20 13:35:17+00:00\n",
            "iceberg/NSRLJP/NSRLFile/data/OpSystemCode=1011/00002-82-ec6cf2b1-556d-498e-b6f0-5db33c6ee7dc-0-00008.parquet 2025-03-20 13:35:16+00:00\n",
            "iceberg/NSRLJP/NSRLFile/data/OpSystemCode=1012/00002-82-ec6cf2b1-556d-498e-b6f0-5db33c6ee7dc-0-00001.parquet 2025-03-20 13:35:15+00:00\n",
            "iceberg/NSRLJP/NSRLFile/data/OpSystemCode=1013/00002-82-ec6cf2b1-556d-498e-b6f0-5db33c6ee7dc-0-00002.parquet 2025-03-20 13:35:14+00:00\n",
            "iceberg/NSRLJP/NSRLFile/data/OpSystemCode=1014/00002-82-ec6cf2b1-556d-498e-b6f0-5db33c6ee7dc-0-00009.parquet 2025-03-20 13:35:14+00:00\n",
            "iceberg/NSRLJP/NSRLFile/data/OpSystemCode=test/00000-99-636a41df-94bf-4db0-9538-ef5f59954981-0-00001.parquet 2025-03-20 13:36:14+00:00\n",
            "iceberg/NSRLJP/NSRLFile/metadata/0c0fc988-9655-4483-9808-533c60bf0e20-m0.avro 2025-03-20 13:35:18+00:00\n",
            "iceberg/NSRLJP/NSRLFile/metadata/152413d1-75e7-4d96-98ca-be57cc842d41-m0.avro 2025-03-20 13:36:15+00:00\n",
            "iceberg/NSRLJP/NSRLFile/metadata/93e3db2a-719a-4a7d-9da7-dae0118f850a-m0.avro 2025-03-20 13:36:18+00:00\n",
            "iceberg/NSRLJP/NSRLFile/metadata/snap-1452037568671313382-1-93e3db2a-719a-4a7d-9da7-dae0118f850a.avro 2025-03-20 13:36:18+00:00\n",
            "iceberg/NSRLJP/NSRLFile/metadata/snap-2320022768625959900-1-152413d1-75e7-4d96-98ca-be57cc842d41.avro 2025-03-20 13:36:15+00:00\n",
            "iceberg/NSRLJP/NSRLFile/metadata/snap-2667036507751922659-1-0c0fc988-9655-4483-9808-533c60bf0e20.avro 2025-03-20 13:35:18+00:00\n",
            "iceberg/NSRLJP/NSRLFile/metadata/v1.metadata.json 2025-03-20 13:33:33+00:00\n",
            "iceberg/NSRLJP/NSRLFile/metadata/v2.metadata.json 2025-03-20 13:35:19+00:00\n",
            "iceberg/NSRLJP/NSRLFile/metadata/v3.metadata.json 2025-03-20 13:36:15+00:00\n",
            "iceberg/NSRLJP/NSRLFile/metadata/v4.metadata.json 2025-03-20 13:36:19+00:00\n",
            "iceberg/NSRLJP/NSRLFile/metadata/version-hint.text 2025-03-20 13:36:19+00:00\n"
          ]
        }
      ]
    },
    {
      "cell_type": "markdown",
      "source": [
        "##### データの参照"
      ],
      "metadata": {
        "id": "eh-z0dEHaeUI"
      }
    },
    {
      "cell_type": "markdown",
      "source": [
        "###### PySparkによるデータの参照"
      ],
      "metadata": {
        "id": "WtbmL70ZckNd"
      }
    },
    {
      "cell_type": "code",
      "source": [
        "# スナップショットを確認する\n",
        "spark.sql(f\"\"\"\n",
        "SELECT * FROM {CATALOG_NAME}.{DATABASE_NAME}.NSRLFile.snapshots;\n",
        "\"\"\").show(truncate=False)\n",
        "# 上から、committed_atとoperationに注目。\n",
        "# overwriteは最初のデータ一括登録の時のスナップショット\n",
        "# appendはtestデータを追加したときのスナップショット\n",
        "# deleteはtestデータを削除したときのスナップショット"
      ],
      "metadata": {
        "colab": {
          "base_uri": "https://localhost:8080/"
        },
        "id": "O6lZgRMnYb3n",
        "outputId": "9a91057a-10bf-4d05-e9ef-3fa5eca3c34e"
      },
      "execution_count": 191,
      "outputs": [
        {
          "output_type": "stream",
          "name": "stdout",
          "text": [
            "+-----------------------+-------------------+-------------------+---------+-------------------------------------------------------------------------------------------------------------------------+------------------------------------------------------------------------------------------------------------------------------------------------------------------------------------------------------------------------------------------------------------------------------------------------------------------------------------------------------------------------------------------------------------------------------------------------------------------------------------------------------------------------------+\n",
            "|committed_at           |snapshot_id        |parent_id          |operation|manifest_list                                                                                                            |summary                                                                                                                                                                                                                                                                                                                                                                                                                                                                                                                       |\n",
            "+-----------------------+-------------------+-------------------+---------+-------------------------------------------------------------------------------------------------------------------------+------------------------------------------------------------------------------------------------------------------------------------------------------------------------------------------------------------------------------------------------------------------------------------------------------------------------------------------------------------------------------------------------------------------------------------------------------------------------------------------------------------------------------+\n",
            "|2025-03-20 13:35:18.834|2667036507751922659|NULL               |overwrite|s3a://datalakehouse/iceberg/NSRLJP/NSRLFile/metadata/snap-2667036507751922659-1-0c0fc988-9655-4483-9808-533c60bf0e20.avro|{spark.app.id -> local-1742451549234, replace-partitions -> true, added-data-files -> 15, added-records -> 5268826, added-files-size -> 333697410, changed-partition-count -> 14, total-records -> 5268826, total-files-size -> 333697410, total-data-files -> 15, total-delete-files -> 0, total-position-deletes -> 0, total-equality-deletes -> 0, engine-version -> 3.5.5, app-id -> local-1742451549234, engine-name -> spark, iceberg-version -> Apache Iceberg 1.8.1 (commit 9ce0fcf0af7becf25ad9fc996c3bad2afdcfd33d)}|\n",
            "|2025-03-20 13:36:15.439|2320022768625959900|2667036507751922659|append   |s3a://datalakehouse/iceberg/NSRLJP/NSRLFile/metadata/snap-2320022768625959900-1-152413d1-75e7-4d96-98ca-be57cc842d41.avro|{spark.app.id -> local-1742451549234, added-data-files -> 1, added-records -> 1, added-files-size -> 2275, changed-partition-count -> 1, total-records -> 5268827, total-files-size -> 333699685, total-data-files -> 16, total-delete-files -> 0, total-position-deletes -> 0, total-equality-deletes -> 0, engine-version -> 3.5.5, app-id -> local-1742451549234, engine-name -> spark, iceberg-version -> Apache Iceberg 1.8.1 (commit 9ce0fcf0af7becf25ad9fc996c3bad2afdcfd33d)}                                         |\n",
            "|2025-03-20 13:36:18.539|1452037568671313382|2320022768625959900|delete   |s3a://datalakehouse/iceberg/NSRLJP/NSRLFile/metadata/snap-1452037568671313382-1-93e3db2a-719a-4a7d-9da7-dae0118f850a.avro|{spark.app.id -> local-1742451549234, deleted-data-files -> 1, deleted-records -> 1, removed-files-size -> 2275, changed-partition-count -> 1, total-records -> 5268826, total-files-size -> 333697410, total-data-files -> 15, total-delete-files -> 0, total-position-deletes -> 0, total-equality-deletes -> 0, engine-version -> 3.5.5, app-id -> local-1742451549234, engine-name -> spark, iceberg-version -> Apache Iceberg 1.8.1 (commit 9ce0fcf0af7becf25ad9fc996c3bad2afdcfd33d)}                                   |\n",
            "+-----------------------+-------------------+-------------------+---------+-------------------------------------------------------------------------------------------------------------------------+------------------------------------------------------------------------------------------------------------------------------------------------------------------------------------------------------------------------------------------------------------------------------------------------------------------------------------------------------------------------------------------------------------------------------------------------------------------------------------------------------------------------------+\n",
            "\n"
          ]
        }
      ]
    },
    {
      "cell_type": "code",
      "source": [
        "# 先ほど削除したデータをクエリしてみると、削除されているように見える。\n",
        "spark.sql(f\"\"\"\n",
        "SELECT * FROM {CATALOG_NAME}.{DATABASE_NAME}.NSRLFile\n",
        "WHERE `SHA-1` = 'test'\n",
        "\"\"\").show()"
      ],
      "metadata": {
        "colab": {
          "base_uri": "https://localhost:8080/"
        },
        "id": "YhL6OQSbZc9M",
        "outputId": "af795340-724c-4e78-ce90-d4e067db2ff3"
      },
      "execution_count": 192,
      "outputs": [
        {
          "output_type": "stream",
          "name": "stdout",
          "text": [
            "+-----+---+-----+--------+--------+-----------+------------+-----------+\n",
            "|SHA-1|MD5|CRC32|FileName|FileSize|ProductCode|OpSystemCode|SpecialCode|\n",
            "+-----+---+-----+--------+--------+-----------+------------+-----------+\n",
            "+-----+---+-----+--------+--------+-----------+------------+-----------+\n",
            "\n"
          ]
        }
      ]
    },
    {
      "cell_type": "markdown",
      "source": [
        "###### PySparkによるデータの参照（タイムトラベル）"
      ],
      "metadata": {
        "id": "5iqqWGcvay2q"
      }
    },
    {
      "cell_type": "code",
      "source": [
        "# 先ほど削除したデータを一個前のスナップショットに遡ってクエリしてみると、復活してる。\n",
        "spark.sql(f\"\"\"\n",
        "SELECT * FROM {CATALOG_NAME}.{DATABASE_NAME}.NSRLFile VERSION AS OF 2320022768625959900\n",
        "WHERE `SHA-1` = 'test'\n",
        "\"\"\").show()"
      ],
      "metadata": {
        "colab": {
          "base_uri": "https://localhost:8080/"
        },
        "id": "JrMbMxKyaBNd",
        "outputId": "d9866100-1a3e-4388-820a-487855489042"
      },
      "execution_count": 194,
      "outputs": [
        {
          "output_type": "stream",
          "name": "stdout",
          "text": [
            "+-----+----+-----+--------+--------+-----------+------------+-----------+\n",
            "|SHA-1| MD5|CRC32|FileName|FileSize|ProductCode|OpSystemCode|SpecialCode|\n",
            "+-----+----+-----+--------+--------+-----------+------------+-----------+\n",
            "| test|test| test|    test|    test|       test|        test|       test|\n",
            "+-----+----+-----+--------+--------+-----------+------------+-----------+\n",
            "\n"
          ]
        }
      ]
    },
    {
      "cell_type": "markdown",
      "source": [
        "###### DuckDBによるデータの参照"
      ],
      "metadata": {
        "id": "kFZzpvA7crXy"
      }
    },
    {
      "cell_type": "code",
      "source": [
        "# 先ほど削除したデータをクエリしてみると、削除されているように見える。\n",
        "duckdb.sql(f\"\"\"\n",
        "WITH NSRLFile AS (\n",
        "    SELECT\n",
        "        *\n",
        "    FROM\n",
        "        iceberg_scan(\n",
        "            's3://datalakehouse/iceberg/NSRLJP/NSRLFile',\n",
        "            allow_moved_paths = true\n",
        "        )\n",
        ")\n",
        "SELECT\n",
        "    *\n",
        "FROM\n",
        "    NSRLFile\n",
        "WHERE\n",
        "    \"SHA-1\" = 'test';\n",
        "\"\"\").show()"
      ],
      "metadata": {
        "colab": {
          "base_uri": "https://localhost:8080/",
          "height": 194,
          "referenced_widgets": [
            "75a1cc340cd24d64a5f51951f1f2f200",
            "03b0232a87de428795f2b936103f9ece",
            "121b40091e094f87b9b43e9791b29b54"
          ]
        },
        "id": "EMi2alZB16LI",
        "outputId": "c6424402-4499-46ad-acd0-d2713ee7a017"
      },
      "execution_count": 195,
      "outputs": [
        {
          "output_type": "display_data",
          "data": {
            "text/plain": [
              "FloatProgress(value=0.0, layout=Layout(width='auto'), style=ProgressStyle(bar_color='black'))"
            ],
            "application/vnd.jupyter.widget-view+json": {
              "version_major": 2,
              "version_minor": 0,
              "model_id": "75a1cc340cd24d64a5f51951f1f2f200"
            }
          },
          "metadata": {}
        },
        {
          "output_type": "stream",
          "name": "stdout",
          "text": [
            "┌─────────┬─────────┬─────────┬──────────┬──────────┬─────────────┬──────────────┬─────────────┐\n",
            "│  SHA-1  │   MD5   │  CRC32  │ FileName │ FileSize │ ProductCode │ OpSystemCode │ SpecialCode │\n",
            "│ varchar │ varchar │ varchar │ varchar  │ varchar  │   varchar   │   varchar    │   varchar   │\n",
            "├─────────┴─────────┴─────────┴──────────┴──────────┴─────────────┴──────────────┴─────────────┤\n",
            "│                                            0 rows                                            │\n",
            "└──────────────────────────────────────────────────────────────────────────────────────────────┘\n",
            "\n"
          ]
        }
      ]
    },
    {
      "cell_type": "markdown",
      "source": [
        "###### DuckDBによるデータの参照（タイムトラベル）"
      ],
      "metadata": {
        "id": "Mhi50Q_s_wJM"
      }
    },
    {
      "cell_type": "code",
      "source": [
        "# DuckDBでタイムスタンプとsnapshot-idを探す。\n",
        "# ここで、ハマリポイントとして、sequence_numberとversionは紐づいていない点に注意する。\n",
        "# 例えば、timestamp_msとmetadataはファイルの最終更新日のタイムスタンプを照合するとv3.metadata.jsonが該当する。\n",
        "duckdb.sql(\"\"\"\n",
        "WITH NSRLFileSnapshots AS (\n",
        "    SELECT\n",
        "        *\n",
        "    FROM\n",
        "        iceberg_snapshots(\n",
        "            's3://datalakehouse/iceberg/NSRLJP/NSRLFile'\n",
        "        )\n",
        ")\n",
        "SELECT\n",
        "    *\n",
        "FROM\n",
        "    NSRLFileSnapshots\n",
        "\"\"\").show()"
      ],
      "metadata": {
        "colab": {
          "base_uri": "https://localhost:8080/"
        },
        "id": "zCteFuy2AY0Y",
        "outputId": "a6a26f34-e69a-40a4-e2c7-cd8dc71364bf"
      },
      "execution_count": 196,
      "outputs": [
        {
          "output_type": "stream",
          "name": "stdout",
          "text": [
            "┌─────────────────┬─────────────────────┬─────────────────────────┬───────────────────────────────────────────────────────────────────────────────────────────────────────────────────────────┐\n",
            "│ sequence_number │     snapshot_id     │      timestamp_ms       │                                                       manifest_list                                                       │\n",
            "│     uint64      │       uint64        │        timestamp        │                                                          varchar                                                          │\n",
            "├─────────────────┼─────────────────────┼─────────────────────────┼───────────────────────────────────────────────────────────────────────────────────────────────────────────────────────────┤\n",
            "│               1 │ 2667036507751922659 │ 2025-03-20 13:35:18.834 │ s3a://datalakehouse/iceberg/NSRLJP/NSRLFile/metadata/snap-2667036507751922659-1-0c0fc988-9655-4483-9808-533c60bf0e20.avro │\n",
            "│               2 │ 2320022768625959900 │ 2025-03-20 13:36:15.439 │ s3a://datalakehouse/iceberg/NSRLJP/NSRLFile/metadata/snap-2320022768625959900-1-152413d1-75e7-4d96-98ca-be57cc842d41.avro │\n",
            "│               3 │ 1452037568671313382 │ 2025-03-20 13:36:18.539 │ s3a://datalakehouse/iceberg/NSRLJP/NSRLFile/metadata/snap-1452037568671313382-1-93e3db2a-719a-4a7d-9da7-dae0118f850a.avro │\n",
            "└─────────────────┴─────────────────────┴─────────────────────────┴───────────────────────────────────────────────────────────────────────────────────────────────────────────────────────────┘\n",
            "\n"
          ]
        }
      ]
    },
    {
      "cell_type": "code",
      "source": [
        "# 先ほど削除したデータを一個前のスナップショットに遡ってクエリしてみると、復活してる。\n",
        "# ハマリポイントとして、duckdb SQLではカラムをブラケットで包む際は`ではなく\"を使う。\n",
        "duckdb.sql(f\"\"\"\n",
        "WITH NSRLFile AS (\n",
        "    SELECT\n",
        "        *\n",
        "    FROM\n",
        "        iceberg_scan(\n",
        "            's3://datalakehouse/iceberg/NSRLJP/NSRLFile',\n",
        "            version = 3,\n",
        "            allow_moved_paths = true\n",
        "        )\n",
        ")\n",
        "SELECT\n",
        "    *\n",
        "FROM\n",
        "    NSRLFile\n",
        "WHERE\n",
        "    \"SHA-1\" = 'test';\n",
        "\"\"\")"
      ],
      "metadata": {
        "colab": {
          "base_uri": "https://localhost:8080/",
          "height": 176,
          "referenced_widgets": [
            "1ea1462570f04ba885e49537716b7342",
            "c96293d8895d4d45b714ae1072655565",
            "d74c274d66104927a2c828c088c6bdad"
          ]
        },
        "id": "bsjsRZxb_tyk",
        "outputId": "dbf68ccb-5121-428b-bd37-8f8a6225daff"
      },
      "execution_count": 197,
      "outputs": [
        {
          "output_type": "display_data",
          "data": {
            "text/plain": [
              "FloatProgress(value=0.0, layout=Layout(width='auto'), style=ProgressStyle(bar_color='black'))"
            ],
            "application/vnd.jupyter.widget-view+json": {
              "version_major": 2,
              "version_minor": 0,
              "model_id": "1ea1462570f04ba885e49537716b7342"
            }
          },
          "metadata": {}
        },
        {
          "output_type": "execute_result",
          "data": {
            "text/plain": [
              "┌─────────┬─────────┬─────────┬──────────┬──────────┬─────────────┬──────────────┬─────────────┐\n",
              "│  SHA-1  │   MD5   │  CRC32  │ FileName │ FileSize │ ProductCode │ OpSystemCode │ SpecialCode │\n",
              "│ varchar │ varchar │ varchar │ varchar  │ varchar  │   varchar   │   varchar    │   varchar   │\n",
              "├─────────┼─────────┼─────────┼──────────┼──────────┼─────────────┼──────────────┼─────────────┤\n",
              "│ test    │ test    │ test    │ test     │ test     │ test        │ test         │ test        │\n",
              "└─────────┴─────────┴─────────┴──────────┴──────────┴─────────────┴──────────────┴─────────────┘"
            ]
          },
          "metadata": {},
          "execution_count": 197
        }
      ]
    },
    {
      "cell_type": "markdown",
      "source": [
        "##### データの更新\n",
        "\n",
        "データの更新とは、ここでは、特定のカラムの値の更新のことを指す。  \n",
        "GDPR対応などで値をマスキングする際などに使用する。"
      ],
      "metadata": {
        "id": "bz018rrrMuAq"
      }
    },
    {
      "cell_type": "code",
      "source": [
        "# 通常のUPDATE文を発行できる\n",
        "# UPDATE (表名) SET (カラム名1) = (値1) WHERE (条件);\n",
        "spark.sql(f\"\"\"\n",
        "UPDATE {CATALOG_NAME}.{DATABASE_NAME}.NSRLFile\n",
        "SET FileName = 'REDACTED'\n",
        "WHERE `SHA-1` = '003f1b9a60927b2c429412cb4698907e0a0c68ce'\n",
        "\"\"\")"
      ],
      "metadata": {
        "colab": {
          "base_uri": "https://localhost:8080/"
        },
        "id": "IyVocWz2F9OD",
        "outputId": "ca25e142-f95c-48ec-b185-379a90fe924e"
      },
      "execution_count": 198,
      "outputs": [
        {
          "output_type": "execute_result",
          "data": {
            "text/plain": [
              "DataFrame[]"
            ]
          },
          "metadata": {},
          "execution_count": 198
        }
      ]
    },
    {
      "cell_type": "code",
      "source": [
        "# スナップショットを確認する\n",
        "spark.sql(f\"\"\"\n",
        "SELECT * FROM {CATALOG_NAME}.{DATABASE_NAME}.NSRLFile.snapshots;\n",
        "\"\"\").show(truncate=False)\n",
        "# 上から、committed_atとoperationに注目。\n",
        "# overwriteは最初のデータ一括登録の時のスナップショット\n",
        "# appendはtestデータを追加したときのスナップショット\n",
        "# deleteはtestデータを削除したときのスナップショット\n",
        "# 最後のoverwriteはデータを更新したときのスナップショット"
      ],
      "metadata": {
        "colab": {
          "base_uri": "https://localhost:8080/"
        },
        "id": "xCB0uEjyNuiB",
        "outputId": "061bd061-7c5f-447c-c654-9b11e49e4562"
      },
      "execution_count": 199,
      "outputs": [
        {
          "output_type": "stream",
          "name": "stdout",
          "text": [
            "+-----------------------+-------------------+-------------------+---------+-------------------------------------------------------------------------------------------------------------------------+----------------------------------------------------------------------------------------------------------------------------------------------------------------------------------------------------------------------------------------------------------------------------------------------------------------------------------------------------------------------------------------------------------------------------------------------------------------------------------------------------------------------------------------------------------------------------------+\n",
            "|committed_at           |snapshot_id        |parent_id          |operation|manifest_list                                                                                                            |summary                                                                                                                                                                                                                                                                                                                                                                                                                                                                                                                                                                           |\n",
            "+-----------------------+-------------------+-------------------+---------+-------------------------------------------------------------------------------------------------------------------------+----------------------------------------------------------------------------------------------------------------------------------------------------------------------------------------------------------------------------------------------------------------------------------------------------------------------------------------------------------------------------------------------------------------------------------------------------------------------------------------------------------------------------------------------------------------------------------+\n",
            "|2025-03-20 13:35:18.834|2667036507751922659|NULL               |overwrite|s3a://datalakehouse/iceberg/NSRLJP/NSRLFile/metadata/snap-2667036507751922659-1-0c0fc988-9655-4483-9808-533c60bf0e20.avro|{spark.app.id -> local-1742451549234, replace-partitions -> true, added-data-files -> 15, added-records -> 5268826, added-files-size -> 333697410, changed-partition-count -> 14, total-records -> 5268826, total-files-size -> 333697410, total-data-files -> 15, total-delete-files -> 0, total-position-deletes -> 0, total-equality-deletes -> 0, engine-version -> 3.5.5, app-id -> local-1742451549234, engine-name -> spark, iceberg-version -> Apache Iceberg 1.8.1 (commit 9ce0fcf0af7becf25ad9fc996c3bad2afdcfd33d)}                                                    |\n",
            "|2025-03-20 13:36:15.439|2320022768625959900|2667036507751922659|append   |s3a://datalakehouse/iceberg/NSRLJP/NSRLFile/metadata/snap-2320022768625959900-1-152413d1-75e7-4d96-98ca-be57cc842d41.avro|{spark.app.id -> local-1742451549234, added-data-files -> 1, added-records -> 1, added-files-size -> 2275, changed-partition-count -> 1, total-records -> 5268827, total-files-size -> 333699685, total-data-files -> 16, total-delete-files -> 0, total-position-deletes -> 0, total-equality-deletes -> 0, engine-version -> 3.5.5, app-id -> local-1742451549234, engine-name -> spark, iceberg-version -> Apache Iceberg 1.8.1 (commit 9ce0fcf0af7becf25ad9fc996c3bad2afdcfd33d)}                                                                                             |\n",
            "|2025-03-20 13:36:18.539|1452037568671313382|2320022768625959900|delete   |s3a://datalakehouse/iceberg/NSRLJP/NSRLFile/metadata/snap-1452037568671313382-1-93e3db2a-719a-4a7d-9da7-dae0118f850a.avro|{spark.app.id -> local-1742451549234, deleted-data-files -> 1, deleted-records -> 1, removed-files-size -> 2275, changed-partition-count -> 1, total-records -> 5268826, total-files-size -> 333697410, total-data-files -> 15, total-delete-files -> 0, total-position-deletes -> 0, total-equality-deletes -> 0, engine-version -> 3.5.5, app-id -> local-1742451549234, engine-name -> spark, iceberg-version -> Apache Iceberg 1.8.1 (commit 9ce0fcf0af7becf25ad9fc996c3bad2afdcfd33d)}                                                                                       |\n",
            "|2025-03-20 13:43:47.246|1867896334512928496|1452037568671313382|overwrite|s3a://datalakehouse/iceberg/NSRLJP/NSRLFile/metadata/snap-1867896334512928496-1-40f4dab8-995c-4e66-b135-760093e7c633.avro|{spark.app.id -> local-1742451549234, added-data-files -> 1, deleted-data-files -> 1, added-records -> 694619, deleted-records -> 694619, added-files-size -> 44661715, removed-files-size -> 44661711, changed-partition-count -> 1, total-records -> 5268826, total-files-size -> 333697414, total-data-files -> 15, total-delete-files -> 0, total-position-deletes -> 0, total-equality-deletes -> 0, engine-version -> 3.5.5, app-id -> local-1742451549234, engine-name -> spark, iceberg-version -> Apache Iceberg 1.8.1 (commit 9ce0fcf0af7becf25ad9fc996c3bad2afdcfd33d)}|\n",
            "+-----------------------+-------------------+-------------------+---------+-------------------------------------------------------------------------------------------------------------------------+----------------------------------------------------------------------------------------------------------------------------------------------------------------------------------------------------------------------------------------------------------------------------------------------------------------------------------------------------------------------------------------------------------------------------------------------------------------------------------------------------------------------------------------------------------------------------------+\n",
            "\n"
          ]
        }
      ]
    },
    {
      "cell_type": "code",
      "source": [
        "# OpSystemCode=testのレコードを更新したので、OpSystemCode=1010のparquetが追加されている。\n",
        "# Copy on Writeなので、ほぼ同一のparquetが差分更新された状態で保存されているのが分かる。\n",
        "objects = s3.list_objects(Bucket=S3A_BUCKET, Prefix=\"iceberg/NSRLJP/NSRLFile\")\n",
        "for obj in objects[\"Contents\"]:\n",
        "    print(obj[\"Key\"],obj[\"LastModified\"],obj[\"Size\"])"
      ],
      "metadata": {
        "colab": {
          "base_uri": "https://localhost:8080/"
        },
        "id": "DPtVenmcN4eM",
        "outputId": "84d296fd-af46-4d3b-be4b-edd38a4eaea4"
      },
      "execution_count": 203,
      "outputs": [
        {
          "output_type": "stream",
          "name": "stdout",
          "text": [
            "iceberg/NSRLJP/NSRLFile/data/OpSystemCode=1001/00002-82-ec6cf2b1-556d-498e-b6f0-5db33c6ee7dc-0-00013.parquet 2025-03-20 13:35:15+00:00 4288624\n",
            "iceberg/NSRLJP/NSRLFile/data/OpSystemCode=1002/00002-82-ec6cf2b1-556d-498e-b6f0-5db33c6ee7dc-0-00012.parquet 2025-03-20 13:35:15+00:00 3203324\n",
            "iceberg/NSRLJP/NSRLFile/data/OpSystemCode=1003/00002-82-ec6cf2b1-556d-498e-b6f0-5db33c6ee7dc-0-00011.parquet 2025-03-20 13:35:14+00:00 7039101\n",
            "iceberg/NSRLJP/NSRLFile/data/OpSystemCode=1004/00002-82-ec6cf2b1-556d-498e-b6f0-5db33c6ee7dc-0-00003.parquet 2025-03-20 13:35:13+00:00 1746465\n",
            "iceberg/NSRLJP/NSRLFile/data/OpSystemCode=1005/00002-82-ec6cf2b1-556d-498e-b6f0-5db33c6ee7dc-0-00007.parquet 2025-03-20 13:35:13+00:00 2854162\n",
            "iceberg/NSRLJP/NSRLFile/data/OpSystemCode=1006/00002-82-ec6cf2b1-556d-498e-b6f0-5db33c6ee7dc-0-00005.parquet 2025-03-20 13:35:13+00:00 6749538\n",
            "iceberg/NSRLJP/NSRLFile/data/OpSystemCode=1007/00002-82-ec6cf2b1-556d-498e-b6f0-5db33c6ee7dc-0-00006.parquet 2025-03-20 13:35:12+00:00 1828949\n",
            "iceberg/NSRLJP/NSRLFile/data/OpSystemCode=1008/00000-80-ec6cf2b1-556d-498e-b6f0-5db33c6ee7dc-0-00001.parquet 2025-03-20 13:35:12+00:00 167274974\n",
            "iceberg/NSRLJP/NSRLFile/data/OpSystemCode=1008/00001-81-ec6cf2b1-556d-498e-b6f0-5db33c6ee7dc-0-00001.parquet 2025-03-20 13:34:51+00:00 53543417\n",
            "iceberg/NSRLJP/NSRLFile/data/OpSystemCode=1009/00002-82-ec6cf2b1-556d-498e-b6f0-5db33c6ee7dc-0-00010.parquet 2025-03-20 13:35:12+00:00 2622339\n",
            "iceberg/NSRLJP/NSRLFile/data/OpSystemCode=1010/00000-112-e6051d7a-eba8-474a-a9c5-e4785d334eb3-0-00001.parquet 2025-03-20 13:43:46+00:00 44661715\n",
            "iceberg/NSRLJP/NSRLFile/data/OpSystemCode=1010/00002-82-ec6cf2b1-556d-498e-b6f0-5db33c6ee7dc-0-00004.parquet 2025-03-20 13:35:17+00:00 44661711\n",
            "iceberg/NSRLJP/NSRLFile/data/OpSystemCode=1011/00002-82-ec6cf2b1-556d-498e-b6f0-5db33c6ee7dc-0-00008.parquet 2025-03-20 13:35:16+00:00 25403130\n",
            "iceberg/NSRLJP/NSRLFile/data/OpSystemCode=1012/00002-82-ec6cf2b1-556d-498e-b6f0-5db33c6ee7dc-0-00001.parquet 2025-03-20 13:35:15+00:00 1571682\n",
            "iceberg/NSRLJP/NSRLFile/data/OpSystemCode=1013/00002-82-ec6cf2b1-556d-498e-b6f0-5db33c6ee7dc-0-00002.parquet 2025-03-20 13:35:14+00:00 7239040\n",
            "iceberg/NSRLJP/NSRLFile/data/OpSystemCode=1014/00002-82-ec6cf2b1-556d-498e-b6f0-5db33c6ee7dc-0-00009.parquet 2025-03-20 13:35:14+00:00 3670954\n",
            "iceberg/NSRLJP/NSRLFile/data/OpSystemCode=test/00000-99-636a41df-94bf-4db0-9538-ef5f59954981-0-00001.parquet 2025-03-20 13:36:14+00:00 2275\n",
            "iceberg/NSRLJP/NSRLFile/metadata/0c0fc988-9655-4483-9808-533c60bf0e20-m0.avro 2025-03-20 13:35:18+00:00 9995\n",
            "iceberg/NSRLJP/NSRLFile/metadata/152413d1-75e7-4d96-98ca-be57cc842d41-m0.avro 2025-03-20 13:36:15+00:00 7685\n",
            "iceberg/NSRLJP/NSRLFile/metadata/40f4dab8-995c-4e66-b135-760093e7c633-m0.avro 2025-03-20 13:43:46+00:00 10011\n",
            "iceberg/NSRLJP/NSRLFile/metadata/40f4dab8-995c-4e66-b135-760093e7c633-m1.avro 2025-03-20 13:43:46+00:00 7840\n",
            "iceberg/NSRLJP/NSRLFile/metadata/93e3db2a-719a-4a7d-9da7-dae0118f850a-m0.avro 2025-03-20 13:36:18+00:00 7689\n",
            "iceberg/NSRLJP/NSRLFile/metadata/snap-1452037568671313382-1-93e3db2a-719a-4a7d-9da7-dae0118f850a.avro 2025-03-20 13:36:18+00:00 4555\n",
            "iceberg/NSRLJP/NSRLFile/metadata/snap-1867896334512928496-1-40f4dab8-995c-4e66-b135-760093e7c633.avro 2025-03-20 13:43:47+00:00 4516\n",
            "iceberg/NSRLJP/NSRLFile/metadata/snap-2320022768625959900-1-152413d1-75e7-4d96-98ca-be57cc842d41.avro 2025-03-20 13:36:15+00:00 4551\n",
            "iceberg/NSRLJP/NSRLFile/metadata/snap-2667036507751922659-1-0c0fc988-9655-4483-9808-533c60bf0e20.avro 2025-03-20 13:35:18+00:00 4467\n",
            "iceberg/NSRLJP/NSRLFile/metadata/v1.metadata.json 2025-03-20 13:33:33+00:00 1770\n",
            "iceberg/NSRLJP/NSRLFile/metadata/v2.metadata.json 2025-03-20 13:35:19+00:00 3083\n",
            "iceberg/NSRLJP/NSRLFile/metadata/v3.metadata.json 2025-03-20 13:36:15+00:00 4287\n",
            "iceberg/NSRLJP/NSRLFile/metadata/v4.metadata.json 2025-03-20 13:36:19+00:00 5497\n",
            "iceberg/NSRLJP/NSRLFile/metadata/v5.metadata.json 2025-03-20 13:43:47+00:00 6824\n",
            "iceberg/NSRLJP/NSRLFile/metadata/version-hint.text 2025-03-20 13:43:48+00:00 1\n"
          ]
        }
      ]
    },
    {
      "cell_type": "code",
      "source": [
        "# 最後のMetadataを見てみる。\n",
        "# \"sequence-number\" : 4のスナップショットでは以下のような記録がされており\n",
        "# .avroファイルの中身を見なくとも、更新処理がどのように行われたか推測できる。\n",
        "#   \"added-data-files\" : \"1\",\n",
        "#   \"deleted-data-files\" : \"1\",\n",
        "#   \"added-records\" : \"694619\",\n",
        "#   \"deleted-records\" : \"694619\",\n",
        "#   \"added-files-size\" : \"44661715\",\n",
        "#   \"removed-files-size\" : \"44661711\",\n",
        "last_metadata = s3.get_object(Bucket=S3A_BUCKET, Key=\"iceberg/NSRLJP/NSRLFile/metadata/v5.metadata.json\").get(\"Body\").read().decode()\n",
        "print(last_metadata)"
      ],
      "metadata": {
        "colab": {
          "base_uri": "https://localhost:8080/"
        },
        "id": "Sx65ExFVZUho",
        "outputId": "3d261112-7167-4e5c-8b79-bbb33fab6552"
      },
      "execution_count": 207,
      "outputs": [
        {
          "output_type": "stream",
          "name": "stdout",
          "text": [
            "{\n",
            "  \"format-version\" : 2,\n",
            "  \"table-uuid\" : \"6c65519e-81ee-4a05-b02c-0ad694466bc9\",\n",
            "  \"location\" : \"s3a://datalakehouse/iceberg/NSRLJP/NSRLFile\",\n",
            "  \"last-sequence-number\" : 4,\n",
            "  \"last-updated-ms\" : 1742478227246,\n",
            "  \"last-column-id\" : 8,\n",
            "  \"current-schema-id\" : 0,\n",
            "  \"schemas\" : [ {\n",
            "    \"type\" : \"struct\",\n",
            "    \"schema-id\" : 0,\n",
            "    \"fields\" : [ {\n",
            "      \"id\" : 1,\n",
            "      \"name\" : \"SHA-1\",\n",
            "      \"required\" : false,\n",
            "      \"type\" : \"string\"\n",
            "    }, {\n",
            "      \"id\" : 2,\n",
            "      \"name\" : \"MD5\",\n",
            "      \"required\" : false,\n",
            "      \"type\" : \"string\"\n",
            "    }, {\n",
            "      \"id\" : 3,\n",
            "      \"name\" : \"CRC32\",\n",
            "      \"required\" : false,\n",
            "      \"type\" : \"string\"\n",
            "    }, {\n",
            "      \"id\" : 4,\n",
            "      \"name\" : \"FileName\",\n",
            "      \"required\" : false,\n",
            "      \"type\" : \"string\"\n",
            "    }, {\n",
            "      \"id\" : 5,\n",
            "      \"name\" : \"FileSize\",\n",
            "      \"required\" : false,\n",
            "      \"type\" : \"string\"\n",
            "    }, {\n",
            "      \"id\" : 6,\n",
            "      \"name\" : \"ProductCode\",\n",
            "      \"required\" : false,\n",
            "      \"type\" : \"string\"\n",
            "    }, {\n",
            "      \"id\" : 7,\n",
            "      \"name\" : \"OpSystemCode\",\n",
            "      \"required\" : false,\n",
            "      \"type\" : \"string\"\n",
            "    }, {\n",
            "      \"id\" : 8,\n",
            "      \"name\" : \"SpecialCode\",\n",
            "      \"required\" : false,\n",
            "      \"type\" : \"string\"\n",
            "    } ]\n",
            "  } ],\n",
            "  \"default-spec-id\" : 0,\n",
            "  \"partition-specs\" : [ {\n",
            "    \"spec-id\" : 0,\n",
            "    \"fields\" : [ {\n",
            "      \"name\" : \"OpSystemCode\",\n",
            "      \"transform\" : \"identity\",\n",
            "      \"source-id\" : 7,\n",
            "      \"field-id\" : 1000\n",
            "    } ]\n",
            "  } ],\n",
            "  \"last-partition-id\" : 1000,\n",
            "  \"default-sort-order-id\" : 0,\n",
            "  \"sort-orders\" : [ {\n",
            "    \"order-id\" : 0,\n",
            "    \"fields\" : [ ]\n",
            "  } ],\n",
            "  \"properties\" : {\n",
            "    \"owner\" : \"root\",\n",
            "    \"write.parquet.compression-codec\" : \"zstd\"\n",
            "  },\n",
            "  \"current-snapshot-id\" : 1867896334512928496,\n",
            "  \"refs\" : {\n",
            "    \"main\" : {\n",
            "      \"snapshot-id\" : 1867896334512928496,\n",
            "      \"type\" : \"branch\"\n",
            "    }\n",
            "  },\n",
            "  \"snapshots\" : [ {\n",
            "    \"sequence-number\" : 1,\n",
            "    \"snapshot-id\" : 2667036507751922659,\n",
            "    \"timestamp-ms\" : 1742477718834,\n",
            "    \"summary\" : {\n",
            "      \"operation\" : \"overwrite\",\n",
            "      \"spark.app.id\" : \"local-1742451549234\",\n",
            "      \"replace-partitions\" : \"true\",\n",
            "      \"added-data-files\" : \"15\",\n",
            "      \"added-records\" : \"5268826\",\n",
            "      \"added-files-size\" : \"333697410\",\n",
            "      \"changed-partition-count\" : \"14\",\n",
            "      \"total-records\" : \"5268826\",\n",
            "      \"total-files-size\" : \"333697410\",\n",
            "      \"total-data-files\" : \"15\",\n",
            "      \"total-delete-files\" : \"0\",\n",
            "      \"total-position-deletes\" : \"0\",\n",
            "      \"total-equality-deletes\" : \"0\",\n",
            "      \"engine-version\" : \"3.5.5\",\n",
            "      \"app-id\" : \"local-1742451549234\",\n",
            "      \"engine-name\" : \"spark\",\n",
            "      \"iceberg-version\" : \"Apache Iceberg 1.8.1 (commit 9ce0fcf0af7becf25ad9fc996c3bad2afdcfd33d)\"\n",
            "    },\n",
            "    \"manifest-list\" : \"s3a://datalakehouse/iceberg/NSRLJP/NSRLFile/metadata/snap-2667036507751922659-1-0c0fc988-9655-4483-9808-533c60bf0e20.avro\",\n",
            "    \"schema-id\" : 0\n",
            "  }, {\n",
            "    \"sequence-number\" : 2,\n",
            "    \"snapshot-id\" : 2320022768625959900,\n",
            "    \"parent-snapshot-id\" : 2667036507751922659,\n",
            "    \"timestamp-ms\" : 1742477775439,\n",
            "    \"summary\" : {\n",
            "      \"operation\" : \"append\",\n",
            "      \"spark.app.id\" : \"local-1742451549234\",\n",
            "      \"added-data-files\" : \"1\",\n",
            "      \"added-records\" : \"1\",\n",
            "      \"added-files-size\" : \"2275\",\n",
            "      \"changed-partition-count\" : \"1\",\n",
            "      \"total-records\" : \"5268827\",\n",
            "      \"total-files-size\" : \"333699685\",\n",
            "      \"total-data-files\" : \"16\",\n",
            "      \"total-delete-files\" : \"0\",\n",
            "      \"total-position-deletes\" : \"0\",\n",
            "      \"total-equality-deletes\" : \"0\",\n",
            "      \"engine-version\" : \"3.5.5\",\n",
            "      \"app-id\" : \"local-1742451549234\",\n",
            "      \"engine-name\" : \"spark\",\n",
            "      \"iceberg-version\" : \"Apache Iceberg 1.8.1 (commit 9ce0fcf0af7becf25ad9fc996c3bad2afdcfd33d)\"\n",
            "    },\n",
            "    \"manifest-list\" : \"s3a://datalakehouse/iceberg/NSRLJP/NSRLFile/metadata/snap-2320022768625959900-1-152413d1-75e7-4d96-98ca-be57cc842d41.avro\",\n",
            "    \"schema-id\" : 0\n",
            "  }, {\n",
            "    \"sequence-number\" : 3,\n",
            "    \"snapshot-id\" : 1452037568671313382,\n",
            "    \"parent-snapshot-id\" : 2320022768625959900,\n",
            "    \"timestamp-ms\" : 1742477778539,\n",
            "    \"summary\" : {\n",
            "      \"operation\" : \"delete\",\n",
            "      \"spark.app.id\" : \"local-1742451549234\",\n",
            "      \"deleted-data-files\" : \"1\",\n",
            "      \"deleted-records\" : \"1\",\n",
            "      \"removed-files-size\" : \"2275\",\n",
            "      \"changed-partition-count\" : \"1\",\n",
            "      \"total-records\" : \"5268826\",\n",
            "      \"total-files-size\" : \"333697410\",\n",
            "      \"total-data-files\" : \"15\",\n",
            "      \"total-delete-files\" : \"0\",\n",
            "      \"total-position-deletes\" : \"0\",\n",
            "      \"total-equality-deletes\" : \"0\",\n",
            "      \"engine-version\" : \"3.5.5\",\n",
            "      \"app-id\" : \"local-1742451549234\",\n",
            "      \"engine-name\" : \"spark\",\n",
            "      \"iceberg-version\" : \"Apache Iceberg 1.8.1 (commit 9ce0fcf0af7becf25ad9fc996c3bad2afdcfd33d)\"\n",
            "    },\n",
            "    \"manifest-list\" : \"s3a://datalakehouse/iceberg/NSRLJP/NSRLFile/metadata/snap-1452037568671313382-1-93e3db2a-719a-4a7d-9da7-dae0118f850a.avro\",\n",
            "    \"schema-id\" : 0\n",
            "  }, {\n",
            "    \"sequence-number\" : 4,\n",
            "    \"snapshot-id\" : 1867896334512928496,\n",
            "    \"parent-snapshot-id\" : 1452037568671313382,\n",
            "    \"timestamp-ms\" : 1742478227246,\n",
            "    \"summary\" : {\n",
            "      \"operation\" : \"overwrite\",\n",
            "      \"spark.app.id\" : \"local-1742451549234\",\n",
            "      \"added-data-files\" : \"1\",\n",
            "      \"deleted-data-files\" : \"1\",\n",
            "      \"added-records\" : \"694619\",\n",
            "      \"deleted-records\" : \"694619\",\n",
            "      \"added-files-size\" : \"44661715\",\n",
            "      \"removed-files-size\" : \"44661711\",\n",
            "      \"changed-partition-count\" : \"1\",\n",
            "      \"total-records\" : \"5268826\",\n",
            "      \"total-files-size\" : \"333697414\",\n",
            "      \"total-data-files\" : \"15\",\n",
            "      \"total-delete-files\" : \"0\",\n",
            "      \"total-position-deletes\" : \"0\",\n",
            "      \"total-equality-deletes\" : \"0\",\n",
            "      \"engine-version\" : \"3.5.5\",\n",
            "      \"app-id\" : \"local-1742451549234\",\n",
            "      \"engine-name\" : \"spark\",\n",
            "      \"iceberg-version\" : \"Apache Iceberg 1.8.1 (commit 9ce0fcf0af7becf25ad9fc996c3bad2afdcfd33d)\"\n",
            "    },\n",
            "    \"manifest-list\" : \"s3a://datalakehouse/iceberg/NSRLJP/NSRLFile/metadata/snap-1867896334512928496-1-40f4dab8-995c-4e66-b135-760093e7c633.avro\",\n",
            "    \"schema-id\" : 0\n",
            "  } ],\n",
            "  \"statistics\" : [ ],\n",
            "  \"partition-statistics\" : [ ],\n",
            "  \"snapshot-log\" : [ {\n",
            "    \"timestamp-ms\" : 1742477718834,\n",
            "    \"snapshot-id\" : 2667036507751922659\n",
            "  }, {\n",
            "    \"timestamp-ms\" : 1742477775439,\n",
            "    \"snapshot-id\" : 2320022768625959900\n",
            "  }, {\n",
            "    \"timestamp-ms\" : 1742477778539,\n",
            "    \"snapshot-id\" : 1452037568671313382\n",
            "  }, {\n",
            "    \"timestamp-ms\" : 1742478227246,\n",
            "    \"snapshot-id\" : 1867896334512928496\n",
            "  } ],\n",
            "  \"metadata-log\" : [ {\n",
            "    \"timestamp-ms\" : 1742477612863,\n",
            "    \"metadata-file\" : \"s3a://datalakehouse/iceberg/NSRLJP/NSRLFile/metadata/v1.metadata.json\"\n",
            "  }, {\n",
            "    \"timestamp-ms\" : 1742477718834,\n",
            "    \"metadata-file\" : \"s3a://datalakehouse/iceberg/NSRLJP/NSRLFile/metadata/v2.metadata.json\"\n",
            "  }, {\n",
            "    \"timestamp-ms\" : 1742477775439,\n",
            "    \"metadata-file\" : \"s3a://datalakehouse/iceberg/NSRLJP/NSRLFile/metadata/v3.metadata.json\"\n",
            "  }, {\n",
            "    \"timestamp-ms\" : 1742477778539,\n",
            "    \"metadata-file\" : \"s3a://datalakehouse/iceberg/NSRLJP/NSRLFile/metadata/v4.metadata.json\"\n",
            "  } ]\n",
            "}\n"
          ]
        }
      ]
    },
    {
      "cell_type": "code",
      "source": [
        "# 更新されたレコードを参照する\n",
        "spark.sql(f\"\"\"\n",
        "SELECT\n",
        "    *\n",
        "FROM\n",
        "    {CATALOG_NAME}.{DATABASE_NAME}.NSRLFile\n",
        "WHERE\n",
        "    `SHA-1` = '003f1b9a60927b2c429412cb4698907e0a0c68ce'\n",
        "\"\"\").show(truncate=False)"
      ],
      "metadata": {
        "colab": {
          "base_uri": "https://localhost:8080/"
        },
        "id": "clzKZi1aZnQb",
        "outputId": "a880b38a-1929-482c-e999-f644bbff3131"
      },
      "execution_count": 208,
      "outputs": [
        {
          "output_type": "stream",
          "name": "stdout",
          "text": [
            "+----------------------------------------+--------------------------------+--------+--------+--------+-----------+------------+-----------+\n",
            "|SHA-1                                   |MD5                             |CRC32   |FileName|FileSize|ProductCode|OpSystemCode|SpecialCode|\n",
            "+----------------------------------------+--------------------------------+--------+--------+--------+-----------+------------+-----------+\n",
            "|003f1b9a60927b2c429412cb4698907e0a0c68ce|220a7215a63faa737f49f2d5e6a6f8ca|5E9769BF|REDACTED|798     |50047      |1010        |NULL       |\n",
            "+----------------------------------------+--------------------------------+--------+--------+--------+-----------+------------+-----------+\n",
            "\n"
          ]
        }
      ]
    },
    {
      "cell_type": "markdown",
      "source": [
        "##### データのロールバック"
      ],
      "metadata": {
        "id": "tTzKYeLbPnRS"
      }
    },
    {
      "cell_type": "code",
      "source": [
        "# ここまでの処理をロールバックしたい時はタイムトラベルの際にも使用したスナップショットを使う。\n",
        "# まずはどこまで戻したいかを調べる為、スナップショットを確認する。\n",
        "# 今回は最初のデータに戻したいと思うので、最初のoverwriteのsnapshot_idをメモ。\n",
        "spark.sql(f\"\"\"\n",
        "SELECT * FROM {CATALOG_NAME}.{DATABASE_NAME}.NSRLFile.snapshots;\n",
        "\"\"\").show(truncate=False)"
      ],
      "metadata": {
        "colab": {
          "base_uri": "https://localhost:8080/"
        },
        "id": "5E7C40mSPp5D",
        "outputId": "235a0d30-8ffe-403d-b475-76a82852f283"
      },
      "execution_count": 210,
      "outputs": [
        {
          "output_type": "stream",
          "name": "stdout",
          "text": [
            "+-----------------------+-------------------+-------------------+---------+-------------------------------------------------------------------------------------------------------------------------+----------------------------------------------------------------------------------------------------------------------------------------------------------------------------------------------------------------------------------------------------------------------------------------------------------------------------------------------------------------------------------------------------------------------------------------------------------------------------------------------------------------------------------------------------------------------------------+\n",
            "|committed_at           |snapshot_id        |parent_id          |operation|manifest_list                                                                                                            |summary                                                                                                                                                                                                                                                                                                                                                                                                                                                                                                                                                                           |\n",
            "+-----------------------+-------------------+-------------------+---------+-------------------------------------------------------------------------------------------------------------------------+----------------------------------------------------------------------------------------------------------------------------------------------------------------------------------------------------------------------------------------------------------------------------------------------------------------------------------------------------------------------------------------------------------------------------------------------------------------------------------------------------------------------------------------------------------------------------------+\n",
            "|2025-03-20 13:35:18.834|2667036507751922659|NULL               |overwrite|s3a://datalakehouse/iceberg/NSRLJP/NSRLFile/metadata/snap-2667036507751922659-1-0c0fc988-9655-4483-9808-533c60bf0e20.avro|{spark.app.id -> local-1742451549234, replace-partitions -> true, added-data-files -> 15, added-records -> 5268826, added-files-size -> 333697410, changed-partition-count -> 14, total-records -> 5268826, total-files-size -> 333697410, total-data-files -> 15, total-delete-files -> 0, total-position-deletes -> 0, total-equality-deletes -> 0, engine-version -> 3.5.5, app-id -> local-1742451549234, engine-name -> spark, iceberg-version -> Apache Iceberg 1.8.1 (commit 9ce0fcf0af7becf25ad9fc996c3bad2afdcfd33d)}                                                    |\n",
            "|2025-03-20 13:36:15.439|2320022768625959900|2667036507751922659|append   |s3a://datalakehouse/iceberg/NSRLJP/NSRLFile/metadata/snap-2320022768625959900-1-152413d1-75e7-4d96-98ca-be57cc842d41.avro|{spark.app.id -> local-1742451549234, added-data-files -> 1, added-records -> 1, added-files-size -> 2275, changed-partition-count -> 1, total-records -> 5268827, total-files-size -> 333699685, total-data-files -> 16, total-delete-files -> 0, total-position-deletes -> 0, total-equality-deletes -> 0, engine-version -> 3.5.5, app-id -> local-1742451549234, engine-name -> spark, iceberg-version -> Apache Iceberg 1.8.1 (commit 9ce0fcf0af7becf25ad9fc996c3bad2afdcfd33d)}                                                                                             |\n",
            "|2025-03-20 13:36:18.539|1452037568671313382|2320022768625959900|delete   |s3a://datalakehouse/iceberg/NSRLJP/NSRLFile/metadata/snap-1452037568671313382-1-93e3db2a-719a-4a7d-9da7-dae0118f850a.avro|{spark.app.id -> local-1742451549234, deleted-data-files -> 1, deleted-records -> 1, removed-files-size -> 2275, changed-partition-count -> 1, total-records -> 5268826, total-files-size -> 333697410, total-data-files -> 15, total-delete-files -> 0, total-position-deletes -> 0, total-equality-deletes -> 0, engine-version -> 3.5.5, app-id -> local-1742451549234, engine-name -> spark, iceberg-version -> Apache Iceberg 1.8.1 (commit 9ce0fcf0af7becf25ad9fc996c3bad2afdcfd33d)}                                                                                       |\n",
            "|2025-03-20 13:43:47.246|1867896334512928496|1452037568671313382|overwrite|s3a://datalakehouse/iceberg/NSRLJP/NSRLFile/metadata/snap-1867896334512928496-1-40f4dab8-995c-4e66-b135-760093e7c633.avro|{spark.app.id -> local-1742451549234, added-data-files -> 1, deleted-data-files -> 1, added-records -> 694619, deleted-records -> 694619, added-files-size -> 44661715, removed-files-size -> 44661711, changed-partition-count -> 1, total-records -> 5268826, total-files-size -> 333697414, total-data-files -> 15, total-delete-files -> 0, total-position-deletes -> 0, total-equality-deletes -> 0, engine-version -> 3.5.5, app-id -> local-1742451549234, engine-name -> spark, iceberg-version -> Apache Iceberg 1.8.1 (commit 9ce0fcf0af7becf25ad9fc996c3bad2afdcfd33d)}|\n",
            "+-----------------------+-------------------+-------------------+---------+-------------------------------------------------------------------------------------------------------------------------+----------------------------------------------------------------------------------------------------------------------------------------------------------------------------------------------------------------------------------------------------------------------------------------------------------------------------------------------------------------------------------------------------------------------------------------------------------------------------------------------------------------------------------------------------------------------------------+\n",
            "\n"
          ]
        }
      ]
    },
    {
      "cell_type": "code",
      "source": [
        "# ロールバック自体は非常に簡単\n",
        "# ハマリポイントは、最後の;が要らないという点。\n",
        "spark.sql(f\"\"\"\n",
        "CALL {CATALOG_NAME}.system.rollback_to_snapshot('{CATALOG_NAME}.{DATABASE_NAME}.NSRLFile', 2667036507751922659)\n",
        "\"\"\")"
      ],
      "metadata": {
        "colab": {
          "base_uri": "https://localhost:8080/"
        },
        "id": "xkhB8ejE4O0k",
        "outputId": "0aadb3b9-c88f-4fcf-cc03-1d5700eab790"
      },
      "execution_count": 213,
      "outputs": [
        {
          "output_type": "execute_result",
          "data": {
            "text/plain": [
              "DataFrame[previous_snapshot_id: bigint, current_snapshot_id: bigint]"
            ]
          },
          "metadata": {},
          "execution_count": 213
        }
      ]
    },
    {
      "cell_type": "code",
      "source": [
        "# 更新したレコードが元に戻っているか確認\n",
        "spark.sql(f\"\"\"\n",
        "SELECT\n",
        "    *\n",
        "FROM\n",
        "    {CATALOG_NAME}.{DATABASE_NAME}.NSRLFile\n",
        "WHERE\n",
        "    `SHA-1` = '003f1b9a60927b2c429412cb4698907e0a0c68ce'\n",
        "\"\"\").show(truncate=False)"
      ],
      "metadata": {
        "colab": {
          "base_uri": "https://localhost:8080/"
        },
        "id": "ULWmZNuF5p8A",
        "outputId": "093b39a1-4d3e-48ab-91f5-c7aa51fc9bc7"
      },
      "execution_count": 216,
      "outputs": [
        {
          "output_type": "stream",
          "name": "stdout",
          "text": [
            "+----------------------------------------+--------------------------------+--------+-----------+--------+-----------+------------+-----------+\n",
            "|SHA-1                                   |MD5                             |CRC32   |FileName   |FileSize|ProductCode|OpSystemCode|SpecialCode|\n",
            "+----------------------------------------+--------------------------------+--------+-----------+--------+-----------+------------+-----------+\n",
            "|003f1b9a60927b2c429412cb4698907e0a0c68ce|220a7215a63faa737f49f2d5e6a6f8ca|5E9769BF|Desktop.ini|798     |50047      |1010        |NULL       |\n",
            "+----------------------------------------+--------------------------------+--------+-----------+--------+-----------+------------+-----------+\n",
            "\n"
          ]
        }
      ]
    },
    {
      "cell_type": "code",
      "source": [
        "# 追加したレコードが無くなったか確認\n",
        "spark.sql(f\"\"\"\n",
        "SELECT\n",
        "    *\n",
        "FROM\n",
        "    {CATALOG_NAME}.{DATABASE_NAME}.NSRLFile\n",
        "WHERE\n",
        "    `SHA-1` = 'test'\n",
        "\"\"\").show(truncate=False)"
      ],
      "metadata": {
        "colab": {
          "base_uri": "https://localhost:8080/"
        },
        "id": "pbSdnnjo505N",
        "outputId": "668b56bf-64e1-4809-e34e-5371389181ed"
      },
      "execution_count": 217,
      "outputs": [
        {
          "output_type": "stream",
          "name": "stdout",
          "text": [
            "+-----+---+-----+--------+--------+-----------+------------+-----------+\n",
            "|SHA-1|MD5|CRC32|FileName|FileSize|ProductCode|OpSystemCode|SpecialCode|\n",
            "+-----+---+-----+--------+--------+-----------+------------+-----------+\n",
            "+-----+---+-----+--------+--------+-----------+------------+-----------+\n",
            "\n"
          ]
        }
      ]
    },
    {
      "cell_type": "code",
      "source": [
        "# ロールバックした後もスナップショットは保持される。\n",
        "spark.sql(f\"\"\"\n",
        "SELECT * FROM {CATALOG_NAME}.{DATABASE_NAME}.NSRLFile.snapshots;\n",
        "\"\"\").show(truncate=False)\n",
        "# ロールバックした後もデータは残る。\n",
        "objects = s3.list_objects(Bucket=S3A_BUCKET, Prefix=\"iceberg/NSRLJP/NSRLFile\")\n",
        "for obj in objects[\"Contents\"]:\n",
        "    print(obj[\"Key\"],obj[\"LastModified\"],obj[\"Size\"])"
      ],
      "metadata": {
        "colab": {
          "base_uri": "https://localhost:8080/"
        },
        "id": "ViYDWw5w4vk5",
        "outputId": "a38e2d23-2a4d-474d-b989-fb45c2b2508c"
      },
      "execution_count": 215,
      "outputs": [
        {
          "output_type": "stream",
          "name": "stdout",
          "text": [
            "+-----------------------+-------------------+-------------------+---------+-------------------------------------------------------------------------------------------------------------------------+----------------------------------------------------------------------------------------------------------------------------------------------------------------------------------------------------------------------------------------------------------------------------------------------------------------------------------------------------------------------------------------------------------------------------------------------------------------------------------------------------------------------------------------------------------------------------------+\n",
            "|committed_at           |snapshot_id        |parent_id          |operation|manifest_list                                                                                                            |summary                                                                                                                                                                                                                                                                                                                                                                                                                                                                                                                                                                           |\n",
            "+-----------------------+-------------------+-------------------+---------+-------------------------------------------------------------------------------------------------------------------------+----------------------------------------------------------------------------------------------------------------------------------------------------------------------------------------------------------------------------------------------------------------------------------------------------------------------------------------------------------------------------------------------------------------------------------------------------------------------------------------------------------------------------------------------------------------------------------+\n",
            "|2025-03-20 13:35:18.834|2667036507751922659|NULL               |overwrite|s3a://datalakehouse/iceberg/NSRLJP/NSRLFile/metadata/snap-2667036507751922659-1-0c0fc988-9655-4483-9808-533c60bf0e20.avro|{spark.app.id -> local-1742451549234, replace-partitions -> true, added-data-files -> 15, added-records -> 5268826, added-files-size -> 333697410, changed-partition-count -> 14, total-records -> 5268826, total-files-size -> 333697410, total-data-files -> 15, total-delete-files -> 0, total-position-deletes -> 0, total-equality-deletes -> 0, engine-version -> 3.5.5, app-id -> local-1742451549234, engine-name -> spark, iceberg-version -> Apache Iceberg 1.8.1 (commit 9ce0fcf0af7becf25ad9fc996c3bad2afdcfd33d)}                                                    |\n",
            "|2025-03-20 13:36:15.439|2320022768625959900|2667036507751922659|append   |s3a://datalakehouse/iceberg/NSRLJP/NSRLFile/metadata/snap-2320022768625959900-1-152413d1-75e7-4d96-98ca-be57cc842d41.avro|{spark.app.id -> local-1742451549234, added-data-files -> 1, added-records -> 1, added-files-size -> 2275, changed-partition-count -> 1, total-records -> 5268827, total-files-size -> 333699685, total-data-files -> 16, total-delete-files -> 0, total-position-deletes -> 0, total-equality-deletes -> 0, engine-version -> 3.5.5, app-id -> local-1742451549234, engine-name -> spark, iceberg-version -> Apache Iceberg 1.8.1 (commit 9ce0fcf0af7becf25ad9fc996c3bad2afdcfd33d)}                                                                                             |\n",
            "|2025-03-20 13:36:18.539|1452037568671313382|2320022768625959900|delete   |s3a://datalakehouse/iceberg/NSRLJP/NSRLFile/metadata/snap-1452037568671313382-1-93e3db2a-719a-4a7d-9da7-dae0118f850a.avro|{spark.app.id -> local-1742451549234, deleted-data-files -> 1, deleted-records -> 1, removed-files-size -> 2275, changed-partition-count -> 1, total-records -> 5268826, total-files-size -> 333697410, total-data-files -> 15, total-delete-files -> 0, total-position-deletes -> 0, total-equality-deletes -> 0, engine-version -> 3.5.5, app-id -> local-1742451549234, engine-name -> spark, iceberg-version -> Apache Iceberg 1.8.1 (commit 9ce0fcf0af7becf25ad9fc996c3bad2afdcfd33d)}                                                                                       |\n",
            "|2025-03-20 13:43:47.246|1867896334512928496|1452037568671313382|overwrite|s3a://datalakehouse/iceberg/NSRLJP/NSRLFile/metadata/snap-1867896334512928496-1-40f4dab8-995c-4e66-b135-760093e7c633.avro|{spark.app.id -> local-1742451549234, added-data-files -> 1, deleted-data-files -> 1, added-records -> 694619, deleted-records -> 694619, added-files-size -> 44661715, removed-files-size -> 44661711, changed-partition-count -> 1, total-records -> 5268826, total-files-size -> 333697414, total-data-files -> 15, total-delete-files -> 0, total-position-deletes -> 0, total-equality-deletes -> 0, engine-version -> 3.5.5, app-id -> local-1742451549234, engine-name -> spark, iceberg-version -> Apache Iceberg 1.8.1 (commit 9ce0fcf0af7becf25ad9fc996c3bad2afdcfd33d)}|\n",
            "+-----------------------+-------------------+-------------------+---------+-------------------------------------------------------------------------------------------------------------------------+----------------------------------------------------------------------------------------------------------------------------------------------------------------------------------------------------------------------------------------------------------------------------------------------------------------------------------------------------------------------------------------------------------------------------------------------------------------------------------------------------------------------------------------------------------------------------------+\n",
            "\n",
            "iceberg/NSRLJP/NSRLFile/data/OpSystemCode=1001/00002-82-ec6cf2b1-556d-498e-b6f0-5db33c6ee7dc-0-00013.parquet 2025-03-20 13:35:15+00:00 4288624\n",
            "iceberg/NSRLJP/NSRLFile/data/OpSystemCode=1002/00002-82-ec6cf2b1-556d-498e-b6f0-5db33c6ee7dc-0-00012.parquet 2025-03-20 13:35:15+00:00 3203324\n",
            "iceberg/NSRLJP/NSRLFile/data/OpSystemCode=1003/00002-82-ec6cf2b1-556d-498e-b6f0-5db33c6ee7dc-0-00011.parquet 2025-03-20 13:35:14+00:00 7039101\n",
            "iceberg/NSRLJP/NSRLFile/data/OpSystemCode=1004/00002-82-ec6cf2b1-556d-498e-b6f0-5db33c6ee7dc-0-00003.parquet 2025-03-20 13:35:13+00:00 1746465\n",
            "iceberg/NSRLJP/NSRLFile/data/OpSystemCode=1005/00002-82-ec6cf2b1-556d-498e-b6f0-5db33c6ee7dc-0-00007.parquet 2025-03-20 13:35:13+00:00 2854162\n",
            "iceberg/NSRLJP/NSRLFile/data/OpSystemCode=1006/00002-82-ec6cf2b1-556d-498e-b6f0-5db33c6ee7dc-0-00005.parquet 2025-03-20 13:35:13+00:00 6749538\n",
            "iceberg/NSRLJP/NSRLFile/data/OpSystemCode=1007/00002-82-ec6cf2b1-556d-498e-b6f0-5db33c6ee7dc-0-00006.parquet 2025-03-20 13:35:12+00:00 1828949\n",
            "iceberg/NSRLJP/NSRLFile/data/OpSystemCode=1008/00000-80-ec6cf2b1-556d-498e-b6f0-5db33c6ee7dc-0-00001.parquet 2025-03-20 13:35:12+00:00 167274974\n",
            "iceberg/NSRLJP/NSRLFile/data/OpSystemCode=1008/00001-81-ec6cf2b1-556d-498e-b6f0-5db33c6ee7dc-0-00001.parquet 2025-03-20 13:34:51+00:00 53543417\n",
            "iceberg/NSRLJP/NSRLFile/data/OpSystemCode=1009/00002-82-ec6cf2b1-556d-498e-b6f0-5db33c6ee7dc-0-00010.parquet 2025-03-20 13:35:12+00:00 2622339\n",
            "iceberg/NSRLJP/NSRLFile/data/OpSystemCode=1010/00000-112-e6051d7a-eba8-474a-a9c5-e4785d334eb3-0-00001.parquet 2025-03-20 13:43:46+00:00 44661715\n",
            "iceberg/NSRLJP/NSRLFile/data/OpSystemCode=1010/00002-82-ec6cf2b1-556d-498e-b6f0-5db33c6ee7dc-0-00004.parquet 2025-03-20 13:35:17+00:00 44661711\n",
            "iceberg/NSRLJP/NSRLFile/data/OpSystemCode=1011/00002-82-ec6cf2b1-556d-498e-b6f0-5db33c6ee7dc-0-00008.parquet 2025-03-20 13:35:16+00:00 25403130\n",
            "iceberg/NSRLJP/NSRLFile/data/OpSystemCode=1012/00002-82-ec6cf2b1-556d-498e-b6f0-5db33c6ee7dc-0-00001.parquet 2025-03-20 13:35:15+00:00 1571682\n",
            "iceberg/NSRLJP/NSRLFile/data/OpSystemCode=1013/00002-82-ec6cf2b1-556d-498e-b6f0-5db33c6ee7dc-0-00002.parquet 2025-03-20 13:35:14+00:00 7239040\n",
            "iceberg/NSRLJP/NSRLFile/data/OpSystemCode=1014/00002-82-ec6cf2b1-556d-498e-b6f0-5db33c6ee7dc-0-00009.parquet 2025-03-20 13:35:14+00:00 3670954\n",
            "iceberg/NSRLJP/NSRLFile/data/OpSystemCode=test/00000-99-636a41df-94bf-4db0-9538-ef5f59954981-0-00001.parquet 2025-03-20 13:36:14+00:00 2275\n",
            "iceberg/NSRLJP/NSRLFile/metadata/0c0fc988-9655-4483-9808-533c60bf0e20-m0.avro 2025-03-20 13:35:18+00:00 9995\n",
            "iceberg/NSRLJP/NSRLFile/metadata/152413d1-75e7-4d96-98ca-be57cc842d41-m0.avro 2025-03-20 13:36:15+00:00 7685\n",
            "iceberg/NSRLJP/NSRLFile/metadata/40f4dab8-995c-4e66-b135-760093e7c633-m0.avro 2025-03-20 13:43:46+00:00 10011\n",
            "iceberg/NSRLJP/NSRLFile/metadata/40f4dab8-995c-4e66-b135-760093e7c633-m1.avro 2025-03-20 13:43:46+00:00 7840\n",
            "iceberg/NSRLJP/NSRLFile/metadata/93e3db2a-719a-4a7d-9da7-dae0118f850a-m0.avro 2025-03-20 13:36:18+00:00 7689\n",
            "iceberg/NSRLJP/NSRLFile/metadata/snap-1452037568671313382-1-93e3db2a-719a-4a7d-9da7-dae0118f850a.avro 2025-03-20 13:36:18+00:00 4555\n",
            "iceberg/NSRLJP/NSRLFile/metadata/snap-1867896334512928496-1-40f4dab8-995c-4e66-b135-760093e7c633.avro 2025-03-20 13:43:47+00:00 4516\n",
            "iceberg/NSRLJP/NSRLFile/metadata/snap-2320022768625959900-1-152413d1-75e7-4d96-98ca-be57cc842d41.avro 2025-03-20 13:36:15+00:00 4551\n",
            "iceberg/NSRLJP/NSRLFile/metadata/snap-2667036507751922659-1-0c0fc988-9655-4483-9808-533c60bf0e20.avro 2025-03-20 13:35:18+00:00 4467\n",
            "iceberg/NSRLJP/NSRLFile/metadata/v1.metadata.json 2025-03-20 13:33:33+00:00 1770\n",
            "iceberg/NSRLJP/NSRLFile/metadata/v2.metadata.json 2025-03-20 13:35:19+00:00 3083\n",
            "iceberg/NSRLJP/NSRLFile/metadata/v3.metadata.json 2025-03-20 13:36:15+00:00 4287\n",
            "iceberg/NSRLJP/NSRLFile/metadata/v4.metadata.json 2025-03-20 13:36:19+00:00 5497\n",
            "iceberg/NSRLJP/NSRLFile/metadata/v5.metadata.json 2025-03-20 13:43:47+00:00 6824\n",
            "iceberg/NSRLJP/NSRLFile/metadata/v6.metadata.json 2025-03-20 14:10:52+00:00 7044\n",
            "iceberg/NSRLJP/NSRLFile/metadata/version-hint.text 2025-03-20 14:10:52+00:00 1\n"
          ]
        }
      ]
    },
    {
      "cell_type": "code",
      "source": [
        "# ロールバックのロールバックはset_current_snapshotを使用する。\n",
        "# この場合、未来のsnapshotが適用されるので、それまでの新しい変更を破壊的に変更する。\n",
        "spark.sql(f\"\"\"\n",
        "CALL {CATALOG_NAME}.system.set_current_snapshot('{CATALOG_NAME}.{DATABASE_NAME}.NSRLFile', 1867896334512928496)\n",
        "\"\"\")"
      ],
      "metadata": {
        "colab": {
          "base_uri": "https://localhost:8080/"
        },
        "id": "3ixNMYcJ5OV1",
        "outputId": "3c22b9ab-0af6-400e-c543-9c9dca108114"
      },
      "execution_count": 220,
      "outputs": [
        {
          "output_type": "execute_result",
          "data": {
            "text/plain": [
              "DataFrame[previous_snapshot_id: bigint, current_snapshot_id: bigint]"
            ]
          },
          "metadata": {},
          "execution_count": 220
        }
      ]
    },
    {
      "cell_type": "code",
      "source": [
        "# 更新したレコードを確認\n",
        "spark.sql(f\"\"\"\n",
        "SELECT\n",
        "    *\n",
        "FROM\n",
        "    {CATALOG_NAME}.{DATABASE_NAME}.NSRLFile\n",
        "WHERE\n",
        "    `SHA-1` = '003f1b9a60927b2c429412cb4698907e0a0c68ce'\n",
        "\"\"\").show(truncate=False)"
      ],
      "metadata": {
        "colab": {
          "base_uri": "https://localhost:8080/"
        },
        "id": "O3LWZjpL6vg7",
        "outputId": "4dbced9c-e1d7-4c20-f3ca-14e4def83c12"
      },
      "execution_count": 221,
      "outputs": [
        {
          "output_type": "stream",
          "name": "stdout",
          "text": [
            "+----------------------------------------+--------------------------------+--------+--------+--------+-----------+------------+-----------+\n",
            "|SHA-1                                   |MD5                             |CRC32   |FileName|FileSize|ProductCode|OpSystemCode|SpecialCode|\n",
            "+----------------------------------------+--------------------------------+--------+--------+--------+-----------+------------+-----------+\n",
            "|003f1b9a60927b2c429412cb4698907e0a0c68ce|220a7215a63faa737f49f2d5e6a6f8ca|5E9769BF|REDACTED|798     |50047      |1010        |NULL       |\n",
            "+----------------------------------------+--------------------------------+--------+--------+--------+-----------+------------+-----------+\n",
            "\n"
          ]
        }
      ]
    },
    {
      "cell_type": "code",
      "source": [
        "# ロールバックした後もスナップショットは保持される。\n",
        "spark.sql(f\"\"\"\n",
        "SELECT * FROM {CATALOG_NAME}.{DATABASE_NAME}.NSRLFile.snapshots;\n",
        "\"\"\").show(truncate=False)\n",
        "# ロールバックした後もデータは残る。\n",
        "objects = s3.list_objects(Bucket=S3A_BUCKET, Prefix=\"iceberg/NSRLJP/NSRLFile\")\n",
        "for obj in objects[\"Contents\"]:\n",
        "    print(obj[\"Key\"],obj[\"LastModified\"],obj[\"Size\"])"
      ],
      "metadata": {
        "colab": {
          "base_uri": "https://localhost:8080/"
        },
        "id": "zAL7u5518bie",
        "outputId": "063f6d7f-9535-4ed4-900b-eff2fbb231f9"
      },
      "execution_count": 222,
      "outputs": [
        {
          "output_type": "stream",
          "name": "stdout",
          "text": [
            "+-----------------------+-------------------+-------------------+---------+-------------------------------------------------------------------------------------------------------------------------+----------------------------------------------------------------------------------------------------------------------------------------------------------------------------------------------------------------------------------------------------------------------------------------------------------------------------------------------------------------------------------------------------------------------------------------------------------------------------------------------------------------------------------------------------------------------------------+\n",
            "|committed_at           |snapshot_id        |parent_id          |operation|manifest_list                                                                                                            |summary                                                                                                                                                                                                                                                                                                                                                                                                                                                                                                                                                                           |\n",
            "+-----------------------+-------------------+-------------------+---------+-------------------------------------------------------------------------------------------------------------------------+----------------------------------------------------------------------------------------------------------------------------------------------------------------------------------------------------------------------------------------------------------------------------------------------------------------------------------------------------------------------------------------------------------------------------------------------------------------------------------------------------------------------------------------------------------------------------------+\n",
            "|2025-03-20 13:35:18.834|2667036507751922659|NULL               |overwrite|s3a://datalakehouse/iceberg/NSRLJP/NSRLFile/metadata/snap-2667036507751922659-1-0c0fc988-9655-4483-9808-533c60bf0e20.avro|{spark.app.id -> local-1742451549234, replace-partitions -> true, added-data-files -> 15, added-records -> 5268826, added-files-size -> 333697410, changed-partition-count -> 14, total-records -> 5268826, total-files-size -> 333697410, total-data-files -> 15, total-delete-files -> 0, total-position-deletes -> 0, total-equality-deletes -> 0, engine-version -> 3.5.5, app-id -> local-1742451549234, engine-name -> spark, iceberg-version -> Apache Iceberg 1.8.1 (commit 9ce0fcf0af7becf25ad9fc996c3bad2afdcfd33d)}                                                    |\n",
            "|2025-03-20 13:36:15.439|2320022768625959900|2667036507751922659|append   |s3a://datalakehouse/iceberg/NSRLJP/NSRLFile/metadata/snap-2320022768625959900-1-152413d1-75e7-4d96-98ca-be57cc842d41.avro|{spark.app.id -> local-1742451549234, added-data-files -> 1, added-records -> 1, added-files-size -> 2275, changed-partition-count -> 1, total-records -> 5268827, total-files-size -> 333699685, total-data-files -> 16, total-delete-files -> 0, total-position-deletes -> 0, total-equality-deletes -> 0, engine-version -> 3.5.5, app-id -> local-1742451549234, engine-name -> spark, iceberg-version -> Apache Iceberg 1.8.1 (commit 9ce0fcf0af7becf25ad9fc996c3bad2afdcfd33d)}                                                                                             |\n",
            "|2025-03-20 13:36:18.539|1452037568671313382|2320022768625959900|delete   |s3a://datalakehouse/iceberg/NSRLJP/NSRLFile/metadata/snap-1452037568671313382-1-93e3db2a-719a-4a7d-9da7-dae0118f850a.avro|{spark.app.id -> local-1742451549234, deleted-data-files -> 1, deleted-records -> 1, removed-files-size -> 2275, changed-partition-count -> 1, total-records -> 5268826, total-files-size -> 333697410, total-data-files -> 15, total-delete-files -> 0, total-position-deletes -> 0, total-equality-deletes -> 0, engine-version -> 3.5.5, app-id -> local-1742451549234, engine-name -> spark, iceberg-version -> Apache Iceberg 1.8.1 (commit 9ce0fcf0af7becf25ad9fc996c3bad2afdcfd33d)}                                                                                       |\n",
            "|2025-03-20 13:43:47.246|1867896334512928496|1452037568671313382|overwrite|s3a://datalakehouse/iceberg/NSRLJP/NSRLFile/metadata/snap-1867896334512928496-1-40f4dab8-995c-4e66-b135-760093e7c633.avro|{spark.app.id -> local-1742451549234, added-data-files -> 1, deleted-data-files -> 1, added-records -> 694619, deleted-records -> 694619, added-files-size -> 44661715, removed-files-size -> 44661711, changed-partition-count -> 1, total-records -> 5268826, total-files-size -> 333697414, total-data-files -> 15, total-delete-files -> 0, total-position-deletes -> 0, total-equality-deletes -> 0, engine-version -> 3.5.5, app-id -> local-1742451549234, engine-name -> spark, iceberg-version -> Apache Iceberg 1.8.1 (commit 9ce0fcf0af7becf25ad9fc996c3bad2afdcfd33d)}|\n",
            "+-----------------------+-------------------+-------------------+---------+-------------------------------------------------------------------------------------------------------------------------+----------------------------------------------------------------------------------------------------------------------------------------------------------------------------------------------------------------------------------------------------------------------------------------------------------------------------------------------------------------------------------------------------------------------------------------------------------------------------------------------------------------------------------------------------------------------------------+\n",
            "\n",
            "iceberg/NSRLJP/NSRLFile/data/OpSystemCode=1001/00002-82-ec6cf2b1-556d-498e-b6f0-5db33c6ee7dc-0-00013.parquet 2025-03-20 13:35:15+00:00 4288624\n",
            "iceberg/NSRLJP/NSRLFile/data/OpSystemCode=1002/00002-82-ec6cf2b1-556d-498e-b6f0-5db33c6ee7dc-0-00012.parquet 2025-03-20 13:35:15+00:00 3203324\n",
            "iceberg/NSRLJP/NSRLFile/data/OpSystemCode=1003/00002-82-ec6cf2b1-556d-498e-b6f0-5db33c6ee7dc-0-00011.parquet 2025-03-20 13:35:14+00:00 7039101\n",
            "iceberg/NSRLJP/NSRLFile/data/OpSystemCode=1004/00002-82-ec6cf2b1-556d-498e-b6f0-5db33c6ee7dc-0-00003.parquet 2025-03-20 13:35:13+00:00 1746465\n",
            "iceberg/NSRLJP/NSRLFile/data/OpSystemCode=1005/00002-82-ec6cf2b1-556d-498e-b6f0-5db33c6ee7dc-0-00007.parquet 2025-03-20 13:35:13+00:00 2854162\n",
            "iceberg/NSRLJP/NSRLFile/data/OpSystemCode=1006/00002-82-ec6cf2b1-556d-498e-b6f0-5db33c6ee7dc-0-00005.parquet 2025-03-20 13:35:13+00:00 6749538\n",
            "iceberg/NSRLJP/NSRLFile/data/OpSystemCode=1007/00002-82-ec6cf2b1-556d-498e-b6f0-5db33c6ee7dc-0-00006.parquet 2025-03-20 13:35:12+00:00 1828949\n",
            "iceberg/NSRLJP/NSRLFile/data/OpSystemCode=1008/00000-80-ec6cf2b1-556d-498e-b6f0-5db33c6ee7dc-0-00001.parquet 2025-03-20 13:35:12+00:00 167274974\n",
            "iceberg/NSRLJP/NSRLFile/data/OpSystemCode=1008/00001-81-ec6cf2b1-556d-498e-b6f0-5db33c6ee7dc-0-00001.parquet 2025-03-20 13:34:51+00:00 53543417\n",
            "iceberg/NSRLJP/NSRLFile/data/OpSystemCode=1009/00002-82-ec6cf2b1-556d-498e-b6f0-5db33c6ee7dc-0-00010.parquet 2025-03-20 13:35:12+00:00 2622339\n",
            "iceberg/NSRLJP/NSRLFile/data/OpSystemCode=1010/00000-112-e6051d7a-eba8-474a-a9c5-e4785d334eb3-0-00001.parquet 2025-03-20 13:43:46+00:00 44661715\n",
            "iceberg/NSRLJP/NSRLFile/data/OpSystemCode=1010/00002-82-ec6cf2b1-556d-498e-b6f0-5db33c6ee7dc-0-00004.parquet 2025-03-20 13:35:17+00:00 44661711\n",
            "iceberg/NSRLJP/NSRLFile/data/OpSystemCode=1011/00002-82-ec6cf2b1-556d-498e-b6f0-5db33c6ee7dc-0-00008.parquet 2025-03-20 13:35:16+00:00 25403130\n",
            "iceberg/NSRLJP/NSRLFile/data/OpSystemCode=1012/00002-82-ec6cf2b1-556d-498e-b6f0-5db33c6ee7dc-0-00001.parquet 2025-03-20 13:35:15+00:00 1571682\n",
            "iceberg/NSRLJP/NSRLFile/data/OpSystemCode=1013/00002-82-ec6cf2b1-556d-498e-b6f0-5db33c6ee7dc-0-00002.parquet 2025-03-20 13:35:14+00:00 7239040\n",
            "iceberg/NSRLJP/NSRLFile/data/OpSystemCode=1014/00002-82-ec6cf2b1-556d-498e-b6f0-5db33c6ee7dc-0-00009.parquet 2025-03-20 13:35:14+00:00 3670954\n",
            "iceberg/NSRLJP/NSRLFile/data/OpSystemCode=test/00000-99-636a41df-94bf-4db0-9538-ef5f59954981-0-00001.parquet 2025-03-20 13:36:14+00:00 2275\n",
            "iceberg/NSRLJP/NSRLFile/metadata/0c0fc988-9655-4483-9808-533c60bf0e20-m0.avro 2025-03-20 13:35:18+00:00 9995\n",
            "iceberg/NSRLJP/NSRLFile/metadata/152413d1-75e7-4d96-98ca-be57cc842d41-m0.avro 2025-03-20 13:36:15+00:00 7685\n",
            "iceberg/NSRLJP/NSRLFile/metadata/40f4dab8-995c-4e66-b135-760093e7c633-m0.avro 2025-03-20 13:43:46+00:00 10011\n",
            "iceberg/NSRLJP/NSRLFile/metadata/40f4dab8-995c-4e66-b135-760093e7c633-m1.avro 2025-03-20 13:43:46+00:00 7840\n",
            "iceberg/NSRLJP/NSRLFile/metadata/93e3db2a-719a-4a7d-9da7-dae0118f850a-m0.avro 2025-03-20 13:36:18+00:00 7689\n",
            "iceberg/NSRLJP/NSRLFile/metadata/snap-1452037568671313382-1-93e3db2a-719a-4a7d-9da7-dae0118f850a.avro 2025-03-20 13:36:18+00:00 4555\n",
            "iceberg/NSRLJP/NSRLFile/metadata/snap-1867896334512928496-1-40f4dab8-995c-4e66-b135-760093e7c633.avro 2025-03-20 13:43:47+00:00 4516\n",
            "iceberg/NSRLJP/NSRLFile/metadata/snap-2320022768625959900-1-152413d1-75e7-4d96-98ca-be57cc842d41.avro 2025-03-20 13:36:15+00:00 4551\n",
            "iceberg/NSRLJP/NSRLFile/metadata/snap-2667036507751922659-1-0c0fc988-9655-4483-9808-533c60bf0e20.avro 2025-03-20 13:35:18+00:00 4467\n",
            "iceberg/NSRLJP/NSRLFile/metadata/v1.metadata.json 2025-03-20 13:33:33+00:00 1770\n",
            "iceberg/NSRLJP/NSRLFile/metadata/v2.metadata.json 2025-03-20 13:35:19+00:00 3083\n",
            "iceberg/NSRLJP/NSRLFile/metadata/v3.metadata.json 2025-03-20 13:36:15+00:00 4287\n",
            "iceberg/NSRLJP/NSRLFile/metadata/v4.metadata.json 2025-03-20 13:36:19+00:00 5497\n",
            "iceberg/NSRLJP/NSRLFile/metadata/v5.metadata.json 2025-03-20 13:43:47+00:00 6824\n",
            "iceberg/NSRLJP/NSRLFile/metadata/v6.metadata.json 2025-03-20 14:10:52+00:00 7044\n",
            "iceberg/NSRLJP/NSRLFile/metadata/v7.metadata.json 2025-03-20 14:24:49+00:00 7264\n",
            "iceberg/NSRLJP/NSRLFile/metadata/version-hint.text 2025-03-20 14:24:50+00:00 1\n"
          ]
        }
      ]
    },
    {
      "cell_type": "markdown",
      "source": [
        "##### データのコンパクト化(コンパクション)"
      ],
      "metadata": {
        "id": "o9Ak3KtB883i"
      }
    },
    {
      "cell_type": "code",
      "source": [
        "# OpSystemCode=1008は2つのファイルに分割されているが、サイズの偏りが激しい\n",
        "# iceberg/NSRLJP/NSRLFile/data/OpSystemCode=1008/00000-80-ec6cf2b1-556d-498e-b6f0-5db33c6ee7dc-0-00001.parquet 2025-03-20 13:35:12+00:00 167274974\n",
        "# iceberg/NSRLJP/NSRLFile/data/OpSystemCode=1008/00001-81-ec6cf2b1-556d-498e-b6f0-5db33c6ee7dc-0-00001.parquet 2025-03-20 13:34:51+00:00 53543417\n",
        "# 元のサイズが大したことないが・・・167MBと53MBなので、最大ファイルサイズを50MBにして均等配分してみる。\n",
        "objects = s3.list_objects(Bucket=S3A_BUCKET, Prefix=\"iceberg/NSRLJP/NSRLFile\")\n",
        "for obj in objects[\"Contents\"]:\n",
        "    print(obj[\"Key\"],obj[\"LastModified\"],obj[\"Size\"])"
      ],
      "metadata": {
        "colab": {
          "base_uri": "https://localhost:8080/"
        },
        "id": "URFLBF0T-c_S",
        "outputId": "d3934230-f37b-412c-efc3-2f4c753c5a75"
      },
      "execution_count": 225,
      "outputs": [
        {
          "output_type": "stream",
          "name": "stdout",
          "text": [
            "iceberg/NSRLJP/NSRLFile/data/OpSystemCode=1001/00002-82-ec6cf2b1-556d-498e-b6f0-5db33c6ee7dc-0-00013.parquet 2025-03-20 13:35:15+00:00 4288624\n",
            "iceberg/NSRLJP/NSRLFile/data/OpSystemCode=1002/00002-82-ec6cf2b1-556d-498e-b6f0-5db33c6ee7dc-0-00012.parquet 2025-03-20 13:35:15+00:00 3203324\n",
            "iceberg/NSRLJP/NSRLFile/data/OpSystemCode=1003/00002-82-ec6cf2b1-556d-498e-b6f0-5db33c6ee7dc-0-00011.parquet 2025-03-20 13:35:14+00:00 7039101\n",
            "iceberg/NSRLJP/NSRLFile/data/OpSystemCode=1004/00002-82-ec6cf2b1-556d-498e-b6f0-5db33c6ee7dc-0-00003.parquet 2025-03-20 13:35:13+00:00 1746465\n",
            "iceberg/NSRLJP/NSRLFile/data/OpSystemCode=1005/00002-82-ec6cf2b1-556d-498e-b6f0-5db33c6ee7dc-0-00007.parquet 2025-03-20 13:35:13+00:00 2854162\n",
            "iceberg/NSRLJP/NSRLFile/data/OpSystemCode=1006/00002-82-ec6cf2b1-556d-498e-b6f0-5db33c6ee7dc-0-00005.parquet 2025-03-20 13:35:13+00:00 6749538\n",
            "iceberg/NSRLJP/NSRLFile/data/OpSystemCode=1007/00002-82-ec6cf2b1-556d-498e-b6f0-5db33c6ee7dc-0-00006.parquet 2025-03-20 13:35:12+00:00 1828949\n",
            "iceberg/NSRLJP/NSRLFile/data/OpSystemCode=1008/00000-80-ec6cf2b1-556d-498e-b6f0-5db33c6ee7dc-0-00001.parquet 2025-03-20 13:35:12+00:00 167274974\n",
            "iceberg/NSRLJP/NSRLFile/data/OpSystemCode=1008/00001-81-ec6cf2b1-556d-498e-b6f0-5db33c6ee7dc-0-00001.parquet 2025-03-20 13:34:51+00:00 53543417\n",
            "iceberg/NSRLJP/NSRLFile/data/OpSystemCode=1009/00002-82-ec6cf2b1-556d-498e-b6f0-5db33c6ee7dc-0-00010.parquet 2025-03-20 13:35:12+00:00 2622339\n",
            "iceberg/NSRLJP/NSRLFile/data/OpSystemCode=1010/00000-112-e6051d7a-eba8-474a-a9c5-e4785d334eb3-0-00001.parquet 2025-03-20 13:43:46+00:00 44661715\n",
            "iceberg/NSRLJP/NSRLFile/data/OpSystemCode=1010/00002-82-ec6cf2b1-556d-498e-b6f0-5db33c6ee7dc-0-00004.parquet 2025-03-20 13:35:17+00:00 44661711\n",
            "iceberg/NSRLJP/NSRLFile/data/OpSystemCode=1011/00002-82-ec6cf2b1-556d-498e-b6f0-5db33c6ee7dc-0-00008.parquet 2025-03-20 13:35:16+00:00 25403130\n",
            "iceberg/NSRLJP/NSRLFile/data/OpSystemCode=1012/00002-82-ec6cf2b1-556d-498e-b6f0-5db33c6ee7dc-0-00001.parquet 2025-03-20 13:35:15+00:00 1571682\n",
            "iceberg/NSRLJP/NSRLFile/data/OpSystemCode=1013/00002-82-ec6cf2b1-556d-498e-b6f0-5db33c6ee7dc-0-00002.parquet 2025-03-20 13:35:14+00:00 7239040\n",
            "iceberg/NSRLJP/NSRLFile/data/OpSystemCode=1014/00002-82-ec6cf2b1-556d-498e-b6f0-5db33c6ee7dc-0-00009.parquet 2025-03-20 13:35:14+00:00 3670954\n",
            "iceberg/NSRLJP/NSRLFile/data/OpSystemCode=test/00000-99-636a41df-94bf-4db0-9538-ef5f59954981-0-00001.parquet 2025-03-20 13:36:14+00:00 2275\n",
            "iceberg/NSRLJP/NSRLFile/metadata/0c0fc988-9655-4483-9808-533c60bf0e20-m0.avro 2025-03-20 13:35:18+00:00 9995\n",
            "iceberg/NSRLJP/NSRLFile/metadata/152413d1-75e7-4d96-98ca-be57cc842d41-m0.avro 2025-03-20 13:36:15+00:00 7685\n",
            "iceberg/NSRLJP/NSRLFile/metadata/40f4dab8-995c-4e66-b135-760093e7c633-m0.avro 2025-03-20 13:43:46+00:00 10011\n",
            "iceberg/NSRLJP/NSRLFile/metadata/40f4dab8-995c-4e66-b135-760093e7c633-m1.avro 2025-03-20 13:43:46+00:00 7840\n",
            "iceberg/NSRLJP/NSRLFile/metadata/93e3db2a-719a-4a7d-9da7-dae0118f850a-m0.avro 2025-03-20 13:36:18+00:00 7689\n",
            "iceberg/NSRLJP/NSRLFile/metadata/snap-1452037568671313382-1-93e3db2a-719a-4a7d-9da7-dae0118f850a.avro 2025-03-20 13:36:18+00:00 4555\n",
            "iceberg/NSRLJP/NSRLFile/metadata/snap-1867896334512928496-1-40f4dab8-995c-4e66-b135-760093e7c633.avro 2025-03-20 13:43:47+00:00 4516\n",
            "iceberg/NSRLJP/NSRLFile/metadata/snap-2320022768625959900-1-152413d1-75e7-4d96-98ca-be57cc842d41.avro 2025-03-20 13:36:15+00:00 4551\n",
            "iceberg/NSRLJP/NSRLFile/metadata/snap-2667036507751922659-1-0c0fc988-9655-4483-9808-533c60bf0e20.avro 2025-03-20 13:35:18+00:00 4467\n",
            "iceberg/NSRLJP/NSRLFile/metadata/v1.metadata.json 2025-03-20 13:33:33+00:00 1770\n",
            "iceberg/NSRLJP/NSRLFile/metadata/v2.metadata.json 2025-03-20 13:35:19+00:00 3083\n",
            "iceberg/NSRLJP/NSRLFile/metadata/v3.metadata.json 2025-03-20 13:36:15+00:00 4287\n",
            "iceberg/NSRLJP/NSRLFile/metadata/v4.metadata.json 2025-03-20 13:36:19+00:00 5497\n",
            "iceberg/NSRLJP/NSRLFile/metadata/v5.metadata.json 2025-03-20 13:43:47+00:00 6824\n",
            "iceberg/NSRLJP/NSRLFile/metadata/v6.metadata.json 2025-03-20 14:10:52+00:00 7044\n",
            "iceberg/NSRLJP/NSRLFile/metadata/v7.metadata.json 2025-03-20 14:24:49+00:00 7264\n",
            "iceberg/NSRLJP/NSRLFile/metadata/version-hint.text 2025-03-20 14:24:50+00:00 1\n"
          ]
        }
      ]
    },
    {
      "cell_type": "code",
      "source": [
        "# 個々のparquetファイルのサイズを最大50MBにするには、max-file-size-bytesオプションを使用する\n",
        "FSIZE_MAX = 52428800 # 50MB\n",
        "spark.sql(f\"\"\"\n",
        "CALL {CATALOG_NAME}.system.rewrite_data_files(table => '{CATALOG_NAME}.{DATABASE_NAME}.NSRLFile', options => map('max-file-size-bytes','{str(FSIZE_MAX)}'))\n",
        "\"\"\")"
      ],
      "metadata": {
        "colab": {
          "base_uri": "https://localhost:8080/",
          "height": 400
        },
        "id": "9Icu-vsg8jJL",
        "outputId": "ecd5167d-0011-4bb3-e720-a95f63e8ba58"
      },
      "execution_count": 228,
      "outputs": [
        {
          "output_type": "error",
          "ename": "IllegalArgumentException",
          "evalue": "'target-file-size-bytes' (536870912) must be < 'max-file-size-bytes' (52428800), all new files will be larger than the max threshold",
          "traceback": [
            "\u001b[0;31m---------------------------------------------------------------------------\u001b[0m",
            "\u001b[0;31mIllegalArgumentException\u001b[0m                  Traceback (most recent call last)",
            "\u001b[0;32m<ipython-input-228-2c0b5723dcbc>\u001b[0m in \u001b[0;36m<cell line: 0>\u001b[0;34m()\u001b[0m\n\u001b[1;32m      1\u001b[0m \u001b[0;31m# 個々のparquetファイルのサイズを最大50MBにするには、max-file-size-bytesオプションを使用する\u001b[0m\u001b[0;34m\u001b[0m\u001b[0;34m\u001b[0m\u001b[0m\n\u001b[1;32m      2\u001b[0m \u001b[0mFSIZE_MAX\u001b[0m \u001b[0;34m=\u001b[0m \u001b[0;36m52428800\u001b[0m \u001b[0;31m# 50MB\u001b[0m\u001b[0;34m\u001b[0m\u001b[0;34m\u001b[0m\u001b[0m\n\u001b[0;32m----> 3\u001b[0;31m spark.sql(f\"\"\"\n\u001b[0m\u001b[1;32m      4\u001b[0m \u001b[0mCALL\u001b[0m \u001b[0;34m{\u001b[0m\u001b[0mCATALOG_NAME\u001b[0m\u001b[0;34m}\u001b[0m\u001b[0;34m.\u001b[0m\u001b[0msystem\u001b[0m\u001b[0;34m.\u001b[0m\u001b[0mrewrite_data_files\u001b[0m\u001b[0;34m(\u001b[0m\u001b[0mtable\u001b[0m \u001b[0;34m=\u001b[0m\u001b[0;34m>\u001b[0m \u001b[0;34m'{CATALOG_NAME}.{DATABASE_NAME}.NSRLFile'\u001b[0m\u001b[0;34m,\u001b[0m \u001b[0moptions\u001b[0m \u001b[0;34m=\u001b[0m\u001b[0;34m>\u001b[0m \u001b[0mmap\u001b[0m\u001b[0;34m(\u001b[0m\u001b[0;34m'max-file-size-bytes'\u001b[0m\u001b[0;34m,\u001b[0m\u001b[0;34m'{str(FSIZE_MAX)}'\u001b[0m\u001b[0;34m)\u001b[0m\u001b[0;34m)\u001b[0m\u001b[0;34m\u001b[0m\u001b[0;34m\u001b[0m\u001b[0m\n\u001b[1;32m      5\u001b[0m \"\"\")\n",
            "\u001b[0;32m/usr/local/lib/python3.11/dist-packages/pyspark/sql/session.py\u001b[0m in \u001b[0;36msql\u001b[0;34m(self, sqlQuery, args, **kwargs)\u001b[0m\n\u001b[1;32m   1629\u001b[0m                     \u001b[0;34m[\u001b[0m\u001b[0m_to_java_column\u001b[0m\u001b[0;34m(\u001b[0m\u001b[0mlit\u001b[0m\u001b[0;34m(\u001b[0m\u001b[0mv\u001b[0m\u001b[0;34m)\u001b[0m\u001b[0;34m)\u001b[0m \u001b[0;32mfor\u001b[0m \u001b[0mv\u001b[0m \u001b[0;32min\u001b[0m \u001b[0;34m(\u001b[0m\u001b[0margs\u001b[0m \u001b[0;32mor\u001b[0m \u001b[0;34m[\u001b[0m\u001b[0;34m]\u001b[0m\u001b[0;34m)\u001b[0m\u001b[0;34m]\u001b[0m\u001b[0;34m\u001b[0m\u001b[0;34m\u001b[0m\u001b[0m\n\u001b[1;32m   1630\u001b[0m                 )\n\u001b[0;32m-> 1631\u001b[0;31m             \u001b[0;32mreturn\u001b[0m \u001b[0mDataFrame\u001b[0m\u001b[0;34m(\u001b[0m\u001b[0mself\u001b[0m\u001b[0;34m.\u001b[0m\u001b[0m_jsparkSession\u001b[0m\u001b[0;34m.\u001b[0m\u001b[0msql\u001b[0m\u001b[0;34m(\u001b[0m\u001b[0msqlQuery\u001b[0m\u001b[0;34m,\u001b[0m \u001b[0mlitArgs\u001b[0m\u001b[0;34m)\u001b[0m\u001b[0;34m,\u001b[0m \u001b[0mself\u001b[0m\u001b[0;34m)\u001b[0m\u001b[0;34m\u001b[0m\u001b[0;34m\u001b[0m\u001b[0m\n\u001b[0m\u001b[1;32m   1632\u001b[0m         \u001b[0;32mfinally\u001b[0m\u001b[0;34m:\u001b[0m\u001b[0;34m\u001b[0m\u001b[0;34m\u001b[0m\u001b[0m\n\u001b[1;32m   1633\u001b[0m             \u001b[0;32mif\u001b[0m \u001b[0mlen\u001b[0m\u001b[0;34m(\u001b[0m\u001b[0mkwargs\u001b[0m\u001b[0;34m)\u001b[0m \u001b[0;34m>\u001b[0m \u001b[0;36m0\u001b[0m\u001b[0;34m:\u001b[0m\u001b[0;34m\u001b[0m\u001b[0;34m\u001b[0m\u001b[0m\n",
            "\u001b[0;32m/usr/local/lib/python3.11/dist-packages/py4j/java_gateway.py\u001b[0m in \u001b[0;36m__call__\u001b[0;34m(self, *args)\u001b[0m\n\u001b[1;32m   1320\u001b[0m \u001b[0;34m\u001b[0m\u001b[0m\n\u001b[1;32m   1321\u001b[0m         \u001b[0manswer\u001b[0m \u001b[0;34m=\u001b[0m \u001b[0mself\u001b[0m\u001b[0;34m.\u001b[0m\u001b[0mgateway_client\u001b[0m\u001b[0;34m.\u001b[0m\u001b[0msend_command\u001b[0m\u001b[0;34m(\u001b[0m\u001b[0mcommand\u001b[0m\u001b[0;34m)\u001b[0m\u001b[0;34m\u001b[0m\u001b[0;34m\u001b[0m\u001b[0m\n\u001b[0;32m-> 1322\u001b[0;31m         return_value = get_return_value(\n\u001b[0m\u001b[1;32m   1323\u001b[0m             answer, self.gateway_client, self.target_id, self.name)\n\u001b[1;32m   1324\u001b[0m \u001b[0;34m\u001b[0m\u001b[0m\n",
            "\u001b[0;32m/usr/local/lib/python3.11/dist-packages/pyspark/errors/exceptions/captured.py\u001b[0m in \u001b[0;36mdeco\u001b[0;34m(*a, **kw)\u001b[0m\n\u001b[1;32m    183\u001b[0m                 \u001b[0;31m# Hide where the exception came from that shows a non-Pythonic\u001b[0m\u001b[0;34m\u001b[0m\u001b[0;34m\u001b[0m\u001b[0m\n\u001b[1;32m    184\u001b[0m                 \u001b[0;31m# JVM exception message.\u001b[0m\u001b[0;34m\u001b[0m\u001b[0;34m\u001b[0m\u001b[0m\n\u001b[0;32m--> 185\u001b[0;31m                 \u001b[0;32mraise\u001b[0m \u001b[0mconverted\u001b[0m \u001b[0;32mfrom\u001b[0m \u001b[0;32mNone\u001b[0m\u001b[0;34m\u001b[0m\u001b[0;34m\u001b[0m\u001b[0m\n\u001b[0m\u001b[1;32m    186\u001b[0m             \u001b[0;32melse\u001b[0m\u001b[0;34m:\u001b[0m\u001b[0;34m\u001b[0m\u001b[0;34m\u001b[0m\u001b[0m\n\u001b[1;32m    187\u001b[0m                 \u001b[0;32mraise\u001b[0m\u001b[0;34m\u001b[0m\u001b[0;34m\u001b[0m\u001b[0m\n",
            "\u001b[0;31mIllegalArgumentException\u001b[0m: 'target-file-size-bytes' (536870912) must be < 'max-file-size-bytes' (52428800), all new files will be larger than the max threshold"
          ]
        }
      ]
    },
    {
      "cell_type": "code",
      "source": [
        "# ちゃんと分割されているか見てみる\n",
        "objects = s3.list_objects(Bucket=S3A_BUCKET, Prefix=\"iceberg/NSRLJP/NSRLFile\")\n",
        "for obj in objects[\"Contents\"]:\n",
        "    print(obj[\"Key\"],obj[\"LastModified\"],obj[\"Size\"])"
      ],
      "metadata": {
        "colab": {
          "base_uri": "https://localhost:8080/"
        },
        "id": "4w2yhzUX9tXm",
        "outputId": "b5ff951c-225e-4af2-ae51-0b4d53bfcf01"
      },
      "execution_count": 227,
      "outputs": [
        {
          "output_type": "stream",
          "name": "stdout",
          "text": [
            "iceberg/NSRLJP/NSRLFile/data/OpSystemCode=1001/00002-82-ec6cf2b1-556d-498e-b6f0-5db33c6ee7dc-0-00013.parquet 2025-03-20 13:35:15+00:00 4288624\n",
            "iceberg/NSRLJP/NSRLFile/data/OpSystemCode=1002/00002-82-ec6cf2b1-556d-498e-b6f0-5db33c6ee7dc-0-00012.parquet 2025-03-20 13:35:15+00:00 3203324\n",
            "iceberg/NSRLJP/NSRLFile/data/OpSystemCode=1003/00002-82-ec6cf2b1-556d-498e-b6f0-5db33c6ee7dc-0-00011.parquet 2025-03-20 13:35:14+00:00 7039101\n",
            "iceberg/NSRLJP/NSRLFile/data/OpSystemCode=1004/00002-82-ec6cf2b1-556d-498e-b6f0-5db33c6ee7dc-0-00003.parquet 2025-03-20 13:35:13+00:00 1746465\n",
            "iceberg/NSRLJP/NSRLFile/data/OpSystemCode=1005/00002-82-ec6cf2b1-556d-498e-b6f0-5db33c6ee7dc-0-00007.parquet 2025-03-20 13:35:13+00:00 2854162\n",
            "iceberg/NSRLJP/NSRLFile/data/OpSystemCode=1006/00002-82-ec6cf2b1-556d-498e-b6f0-5db33c6ee7dc-0-00005.parquet 2025-03-20 13:35:13+00:00 6749538\n",
            "iceberg/NSRLJP/NSRLFile/data/OpSystemCode=1007/00002-82-ec6cf2b1-556d-498e-b6f0-5db33c6ee7dc-0-00006.parquet 2025-03-20 13:35:12+00:00 1828949\n",
            "iceberg/NSRLJP/NSRLFile/data/OpSystemCode=1008/00000-144-7a502732-4d6b-4ce0-a5df-c7f7b2a39adb-0-00001.parquet 2025-03-20 14:43:54+00:00 73010533\n",
            "iceberg/NSRLJP/NSRLFile/data/OpSystemCode=1008/00000-144-7a502732-4d6b-4ce0-a5df-c7f7b2a39adb-0-00002.parquet 2025-03-20 14:44:04+00:00 61449697\n",
            "iceberg/NSRLJP/NSRLFile/data/OpSystemCode=1008/00000-80-ec6cf2b1-556d-498e-b6f0-5db33c6ee7dc-0-00001.parquet 2025-03-20 13:35:12+00:00 167274974\n",
            "iceberg/NSRLJP/NSRLFile/data/OpSystemCode=1008/00001-145-7a502732-4d6b-4ce0-a5df-c7f7b2a39adb-0-00001.parquet 2025-03-20 14:43:47+00:00 32858246\n",
            "iceberg/NSRLJP/NSRLFile/data/OpSystemCode=1008/00001-81-ec6cf2b1-556d-498e-b6f0-5db33c6ee7dc-0-00001.parquet 2025-03-20 13:34:51+00:00 53543417\n",
            "iceberg/NSRLJP/NSRLFile/data/OpSystemCode=1009/00002-82-ec6cf2b1-556d-498e-b6f0-5db33c6ee7dc-0-00010.parquet 2025-03-20 13:35:12+00:00 2622339\n",
            "iceberg/NSRLJP/NSRLFile/data/OpSystemCode=1010/00000-112-e6051d7a-eba8-474a-a9c5-e4785d334eb3-0-00001.parquet 2025-03-20 13:43:46+00:00 44661715\n",
            "iceberg/NSRLJP/NSRLFile/data/OpSystemCode=1010/00002-82-ec6cf2b1-556d-498e-b6f0-5db33c6ee7dc-0-00004.parquet 2025-03-20 13:35:17+00:00 44661711\n",
            "iceberg/NSRLJP/NSRLFile/data/OpSystemCode=1011/00002-82-ec6cf2b1-556d-498e-b6f0-5db33c6ee7dc-0-00008.parquet 2025-03-20 13:35:16+00:00 25403130\n",
            "iceberg/NSRLJP/NSRLFile/data/OpSystemCode=1012/00002-82-ec6cf2b1-556d-498e-b6f0-5db33c6ee7dc-0-00001.parquet 2025-03-20 13:35:15+00:00 1571682\n",
            "iceberg/NSRLJP/NSRLFile/data/OpSystemCode=1013/00002-82-ec6cf2b1-556d-498e-b6f0-5db33c6ee7dc-0-00002.parquet 2025-03-20 13:35:14+00:00 7239040\n",
            "iceberg/NSRLJP/NSRLFile/data/OpSystemCode=1014/00002-82-ec6cf2b1-556d-498e-b6f0-5db33c6ee7dc-0-00009.parquet 2025-03-20 13:35:14+00:00 3670954\n",
            "iceberg/NSRLJP/NSRLFile/data/OpSystemCode=test/00000-99-636a41df-94bf-4db0-9538-ef5f59954981-0-00001.parquet 2025-03-20 13:36:14+00:00 2275\n",
            "iceberg/NSRLJP/NSRLFile/metadata/0c0fc988-9655-4483-9808-533c60bf0e20-m0.avro 2025-03-20 13:35:18+00:00 9995\n",
            "iceberg/NSRLJP/NSRLFile/metadata/152413d1-75e7-4d96-98ca-be57cc842d41-m0.avro 2025-03-20 13:36:15+00:00 7685\n",
            "iceberg/NSRLJP/NSRLFile/metadata/40f4dab8-995c-4e66-b135-760093e7c633-m0.avro 2025-03-20 13:43:46+00:00 10011\n",
            "iceberg/NSRLJP/NSRLFile/metadata/40f4dab8-995c-4e66-b135-760093e7c633-m1.avro 2025-03-20 13:43:46+00:00 7840\n",
            "iceberg/NSRLJP/NSRLFile/metadata/93e3db2a-719a-4a7d-9da7-dae0118f850a-m0.avro 2025-03-20 13:36:18+00:00 7689\n",
            "iceberg/NSRLJP/NSRLFile/metadata/c109b6b5-d543-47fd-bd20-226a0b85ff0e-m0.avro 2025-03-20 14:44:04+00:00 9843\n",
            "iceberg/NSRLJP/NSRLFile/metadata/c109b6b5-d543-47fd-bd20-226a0b85ff0e-m1.avro 2025-03-20 14:44:05+00:00 8143\n",
            "iceberg/NSRLJP/NSRLFile/metadata/snap-1452037568671313382-1-93e3db2a-719a-4a7d-9da7-dae0118f850a.avro 2025-03-20 13:36:18+00:00 4555\n",
            "iceberg/NSRLJP/NSRLFile/metadata/snap-1867896334512928496-1-40f4dab8-995c-4e66-b135-760093e7c633.avro 2025-03-20 13:43:47+00:00 4516\n",
            "iceberg/NSRLJP/NSRLFile/metadata/snap-2320022768625959900-1-152413d1-75e7-4d96-98ca-be57cc842d41.avro 2025-03-20 13:36:15+00:00 4551\n",
            "iceberg/NSRLJP/NSRLFile/metadata/snap-2667036507751922659-1-0c0fc988-9655-4483-9808-533c60bf0e20.avro 2025-03-20 13:35:18+00:00 4467\n",
            "iceberg/NSRLJP/NSRLFile/metadata/snap-8799630355888414179-1-c109b6b5-d543-47fd-bd20-226a0b85ff0e.avro 2025-03-20 14:44:05+00:00 4589\n",
            "iceberg/NSRLJP/NSRLFile/metadata/v1.metadata.json 2025-03-20 13:33:33+00:00 1770\n",
            "iceberg/NSRLJP/NSRLFile/metadata/v2.metadata.json 2025-03-20 13:35:19+00:00 3083\n",
            "iceberg/NSRLJP/NSRLFile/metadata/v3.metadata.json 2025-03-20 13:36:15+00:00 4287\n",
            "iceberg/NSRLJP/NSRLFile/metadata/v4.metadata.json 2025-03-20 13:36:19+00:00 5497\n",
            "iceberg/NSRLJP/NSRLFile/metadata/v5.metadata.json 2025-03-20 13:43:47+00:00 6824\n",
            "iceberg/NSRLJP/NSRLFile/metadata/v6.metadata.json 2025-03-20 14:10:52+00:00 7044\n",
            "iceberg/NSRLJP/NSRLFile/metadata/v7.metadata.json 2025-03-20 14:24:49+00:00 7264\n",
            "iceberg/NSRLJP/NSRLFile/metadata/v8.metadata.json 2025-03-20 14:44:06+00:00 8547\n",
            "iceberg/NSRLJP/NSRLFile/metadata/version-hint.text 2025-03-20 14:44:06+00:00 1\n"
          ]
        }
      ]
    },
    {
      "cell_type": "code",
      "source": [],
      "metadata": {
        "id": "T238LBPd9wje"
      },
      "execution_count": null,
      "outputs": []
    }
  ]
}