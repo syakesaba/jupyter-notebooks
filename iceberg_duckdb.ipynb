{
  "nbformat": 4,
  "nbformat_minor": 0,
  "metadata": {
    "colab": {
      "provenance": [],
      "authorship_tag": "ABX9TyPqZ/mAGXEAsyj3gyyab6sW",
      "include_colab_link": true
    },
    "kernelspec": {
      "name": "python3",
      "display_name": "Python 3"
    },
    "language_info": {
      "name": "python"
    },
    "widgets": {
      "application/vnd.jupyter.widget-state+json": {
        "f97bc2c6f71d47a1b5c993acd427170d": {
          "model_module": "@jupyter-widgets/controls",
          "model_name": "FloatProgressModel",
          "model_module_version": "1.5.0",
          "state": {
            "_dom_classes": [],
            "_model_module": "@jupyter-widgets/controls",
            "_model_module_version": "1.5.0",
            "_model_name": "FloatProgressModel",
            "_view_count": null,
            "_view_module": "@jupyter-widgets/controls",
            "_view_module_version": "1.5.0",
            "_view_name": "ProgressView",
            "bar_style": "",
            "description": "",
            "description_tooltip": null,
            "layout": "IPY_MODEL_f2ff253dc5944a54b95d50ff0a7c31e2",
            "max": 100,
            "min": 0,
            "orientation": "horizontal",
            "style": "IPY_MODEL_8beaf052d70a4d1c9250d7b0437d0341",
            "value": 100
          }
        },
        "f2ff253dc5944a54b95d50ff0a7c31e2": {
          "model_module": "@jupyter-widgets/base",
          "model_name": "LayoutModel",
          "model_module_version": "1.2.0",
          "state": {
            "_model_module": "@jupyter-widgets/base",
            "_model_module_version": "1.2.0",
            "_model_name": "LayoutModel",
            "_view_count": null,
            "_view_module": "@jupyter-widgets/base",
            "_view_module_version": "1.2.0",
            "_view_name": "LayoutView",
            "align_content": null,
            "align_items": null,
            "align_self": null,
            "border": null,
            "bottom": null,
            "display": null,
            "flex": null,
            "flex_flow": null,
            "grid_area": null,
            "grid_auto_columns": null,
            "grid_auto_flow": null,
            "grid_auto_rows": null,
            "grid_column": null,
            "grid_gap": null,
            "grid_row": null,
            "grid_template_areas": null,
            "grid_template_columns": null,
            "grid_template_rows": null,
            "height": null,
            "justify_content": null,
            "justify_items": null,
            "left": null,
            "margin": null,
            "max_height": null,
            "max_width": null,
            "min_height": null,
            "min_width": null,
            "object_fit": null,
            "object_position": null,
            "order": null,
            "overflow": null,
            "overflow_x": null,
            "overflow_y": null,
            "padding": null,
            "right": null,
            "top": null,
            "visibility": null,
            "width": "auto"
          }
        },
        "8beaf052d70a4d1c9250d7b0437d0341": {
          "model_module": "@jupyter-widgets/controls",
          "model_name": "ProgressStyleModel",
          "model_module_version": "1.5.0",
          "state": {
            "_model_module": "@jupyter-widgets/controls",
            "_model_module_version": "1.5.0",
            "_model_name": "ProgressStyleModel",
            "_view_count": null,
            "_view_module": "@jupyter-widgets/base",
            "_view_module_version": "1.2.0",
            "_view_name": "StyleView",
            "bar_color": "black",
            "description_width": ""
          }
        },
        "301a18fc6f394ffda55ba574d32ab499": {
          "model_module": "@jupyter-widgets/controls",
          "model_name": "FloatProgressModel",
          "model_module_version": "1.5.0",
          "state": {
            "_dom_classes": [],
            "_model_module": "@jupyter-widgets/controls",
            "_model_module_version": "1.5.0",
            "_model_name": "FloatProgressModel",
            "_view_count": null,
            "_view_module": "@jupyter-widgets/controls",
            "_view_module_version": "1.5.0",
            "_view_name": "ProgressView",
            "bar_style": "",
            "description": "",
            "description_tooltip": null,
            "layout": "IPY_MODEL_0011590cfa1d49799c4000085f6972b6",
            "max": 100,
            "min": 0,
            "orientation": "horizontal",
            "style": "IPY_MODEL_041705fc600e40dbb32a26356988b02a",
            "value": 100
          }
        },
        "0011590cfa1d49799c4000085f6972b6": {
          "model_module": "@jupyter-widgets/base",
          "model_name": "LayoutModel",
          "model_module_version": "1.2.0",
          "state": {
            "_model_module": "@jupyter-widgets/base",
            "_model_module_version": "1.2.0",
            "_model_name": "LayoutModel",
            "_view_count": null,
            "_view_module": "@jupyter-widgets/base",
            "_view_module_version": "1.2.0",
            "_view_name": "LayoutView",
            "align_content": null,
            "align_items": null,
            "align_self": null,
            "border": null,
            "bottom": null,
            "display": null,
            "flex": null,
            "flex_flow": null,
            "grid_area": null,
            "grid_auto_columns": null,
            "grid_auto_flow": null,
            "grid_auto_rows": null,
            "grid_column": null,
            "grid_gap": null,
            "grid_row": null,
            "grid_template_areas": null,
            "grid_template_columns": null,
            "grid_template_rows": null,
            "height": null,
            "justify_content": null,
            "justify_items": null,
            "left": null,
            "margin": null,
            "max_height": null,
            "max_width": null,
            "min_height": null,
            "min_width": null,
            "object_fit": null,
            "object_position": null,
            "order": null,
            "overflow": null,
            "overflow_x": null,
            "overflow_y": null,
            "padding": null,
            "right": null,
            "top": null,
            "visibility": null,
            "width": "auto"
          }
        },
        "041705fc600e40dbb32a26356988b02a": {
          "model_module": "@jupyter-widgets/controls",
          "model_name": "ProgressStyleModel",
          "model_module_version": "1.5.0",
          "state": {
            "_model_module": "@jupyter-widgets/controls",
            "_model_module_version": "1.5.0",
            "_model_name": "ProgressStyleModel",
            "_view_count": null,
            "_view_module": "@jupyter-widgets/base",
            "_view_module_version": "1.2.0",
            "_view_name": "StyleView",
            "bar_color": "black",
            "description_width": ""
          }
        },
        "cb07f87a35ef49b9897adbd089bc6ccb": {
          "model_module": "@jupyter-widgets/controls",
          "model_name": "FloatProgressModel",
          "model_module_version": "1.5.0",
          "state": {
            "_dom_classes": [],
            "_model_module": "@jupyter-widgets/controls",
            "_model_module_version": "1.5.0",
            "_model_name": "FloatProgressModel",
            "_view_count": null,
            "_view_module": "@jupyter-widgets/controls",
            "_view_module_version": "1.5.0",
            "_view_name": "ProgressView",
            "bar_style": "",
            "description": "",
            "description_tooltip": null,
            "layout": "IPY_MODEL_5cf260364217438791819a0e81ab2cd8",
            "max": 100,
            "min": 0,
            "orientation": "horizontal",
            "style": "IPY_MODEL_24752109e57344d1817713c003190329",
            "value": 100
          }
        },
        "5cf260364217438791819a0e81ab2cd8": {
          "model_module": "@jupyter-widgets/base",
          "model_name": "LayoutModel",
          "model_module_version": "1.2.0",
          "state": {
            "_model_module": "@jupyter-widgets/base",
            "_model_module_version": "1.2.0",
            "_model_name": "LayoutModel",
            "_view_count": null,
            "_view_module": "@jupyter-widgets/base",
            "_view_module_version": "1.2.0",
            "_view_name": "LayoutView",
            "align_content": null,
            "align_items": null,
            "align_self": null,
            "border": null,
            "bottom": null,
            "display": null,
            "flex": null,
            "flex_flow": null,
            "grid_area": null,
            "grid_auto_columns": null,
            "grid_auto_flow": null,
            "grid_auto_rows": null,
            "grid_column": null,
            "grid_gap": null,
            "grid_row": null,
            "grid_template_areas": null,
            "grid_template_columns": null,
            "grid_template_rows": null,
            "height": null,
            "justify_content": null,
            "justify_items": null,
            "left": null,
            "margin": null,
            "max_height": null,
            "max_width": null,
            "min_height": null,
            "min_width": null,
            "object_fit": null,
            "object_position": null,
            "order": null,
            "overflow": null,
            "overflow_x": null,
            "overflow_y": null,
            "padding": null,
            "right": null,
            "top": null,
            "visibility": null,
            "width": "auto"
          }
        },
        "24752109e57344d1817713c003190329": {
          "model_module": "@jupyter-widgets/controls",
          "model_name": "ProgressStyleModel",
          "model_module_version": "1.5.0",
          "state": {
            "_model_module": "@jupyter-widgets/controls",
            "_model_module_version": "1.5.0",
            "_model_name": "ProgressStyleModel",
            "_view_count": null,
            "_view_module": "@jupyter-widgets/base",
            "_view_module_version": "1.2.0",
            "_view_name": "StyleView",
            "bar_color": "black",
            "description_width": ""
          }
        }
      }
    }
  },
  "cells": [
    {
      "cell_type": "markdown",
      "metadata": {
        "id": "view-in-github",
        "colab_type": "text"
      },
      "source": [
        "<a href=\"https://colab.research.google.com/github/syakesaba/jupyter-notebooks/blob/main/iceberg_duckdb.ipynb\" target=\"_parent\"><img src=\"https://colab.research.google.com/assets/colab-badge.svg\" alt=\"Open In Colab\"/></a>"
      ]
    },
    {
      "cell_type": "markdown",
      "source": [
        "# Secretの読み込み"
      ],
      "metadata": {
        "id": "fLwEnpueCOm5"
      }
    },
    {
      "cell_type": "code",
      "source": [
        "from google.colab import userdata\n",
        "\n",
        "S3A_ENDPOINT = userdata.get('S3A_ENDPOINT') # xxxxxxx.compat.objectstorage.{S3A_REGION}.oraclecloud.com\n",
        "S3A_ACCESS_KEY = userdata.get('S3A_ACCESS_KEY') # xxxxxxxxxxxx\n",
        "S3A_SECRET_KEY = userdata.get('S3A_SECRET_KEY') # xxxxxxxxxxxx\n",
        "S3A_REGION = userdata.get('S3A_REGION') # ap-northeast-1"
      ],
      "metadata": {
        "id": "5N8EmOKTCN_U"
      },
      "execution_count": 123,
      "outputs": []
    },
    {
      "cell_type": "markdown",
      "source": [
        "# NSRLJPデータセットの取得"
      ],
      "metadata": {
        "id": "KDJk9N8Qu0t3"
      }
    },
    {
      "cell_type": "code",
      "source": [
        "!wget https://www.kazamiya.net/files/projects/NSRLJP_202408.7z\n",
        "!7z x NSRLJP_202408.7z\n",
        "!mv ./NSRLJP_202408/NSRLFile{.txt,.csv}\n",
        "!mv ./NSRLJP_202408/NSRLMfg{.txt,.csv}\n",
        "!mv ./NSRLJP_202408/NSRLOS{.txt,.csv}\n",
        "!mv ./NSRLJP_202408/NSRLProd{.txt,.csv}"
      ],
      "metadata": {
        "colab": {
          "base_uri": "https://localhost:8080/"
        },
        "id": "9rNkSm88teVG",
        "outputId": "14b53e20-3a2f-44d4-d2e5-2744cfda48e7"
      },
      "execution_count": null,
      "outputs": [
        {
          "output_type": "stream",
          "name": "stdout",
          "text": [
            "--2025-03-16 13:19:08--  https://www.kazamiya.net/files/projects/NSRLJP_202408.7z\n",
            "Resolving www.kazamiya.net (www.kazamiya.net)... 203.143.110.17\n",
            "Connecting to www.kazamiya.net (www.kazamiya.net)|203.143.110.17|:443... connected.\n",
            "HTTP request sent, awaiting response... 200 OK\n",
            "Length: 319470599 (305M) [application/x-7z-compressed]\n",
            "Saving to: ‘NSRLJP_202408.7z.1’\n",
            "\n",
            "NSRLJP_202408.7z.1  100%[===================>] 304.67M  11.1MB/s    in 33s     \n",
            "\n",
            "2025-03-16 13:19:42 (9.15 MB/s) - ‘NSRLJP_202408.7z.1’ saved [319470599/319470599]\n",
            "\n",
            "\n",
            "7-Zip [64] 16.02 : Copyright (c) 1999-2016 Igor Pavlov : 2016-05-21\n",
            "p7zip Version 16.02 (locale=en_US.UTF-8,Utf16=on,HugeFiles=on,64 bits,2 CPUs Intel(R) Xeon(R) CPU @ 2.20GHz (406F0),ASM,AES-NI)\n",
            "\n",
            "Scanning the drive for archives:\n",
            "  0M Scan\b\b\b\b\b\b\b\b\b         \b\b\b\b\b\b\b\b\b1 file, 319470599 bytes (305 MiB)\n",
            "\n",
            "Extracting archive: NSRLJP_202408.7z\n",
            "--\n",
            "Path = NSRLJP_202408.7z\n",
            "Type = 7z\n",
            "Physical Size = 319470599\n",
            "Headers Size = 275\n",
            "Method = LZMA2:24\n",
            "Solid = +\n",
            "Blocks = 1\n",
            "\n",
            "  0%\b\b\b\b    \b\b\b\b  0% 1 - NSRLJP_202408/NSRLFile.txt\b\b\b\b\b\b\b\b\b\b\b\b\b\b\b\b\b\b\b\b\b\b\b\b\b\b\b\b\b\b\b\b\b\b\b                                   \b\b\b\b\b\b\b\b\b\b\b\b\b\b\b\b\b\b\b\b\b\b\b\b\b\b\b\b\b\b\b\b\b\b\b  1% 1 - NSRLJP_202408/NSRLFile.txt\b\b\b\b\b\b\b\b\b\b\b\b\b\b\b\b\b\b\b\b\b\b\b\b\b\b\b\b\b\b\b\b\b\b\b                                   \b\b\b\b\b\b\b\b\b\b\b\b\b\b\b\b\b\b\b\b\b\b\b\b\b\b\b\b\b\b\b\b\b\b\b  2% 1 - NSRLJP_202408/NSRLFile.txt\b\b\b\b\b\b\b\b\b\b\b\b\b\b\b\b\b\b\b\b\b\b\b\b\b\b\b\b\b\b\b\b\b\b\b                                   \b\b\b\b\b\b\b\b\b\b\b\b\b\b\b\b\b\b\b\b\b\b\b\b\b\b\b\b\b\b\b\b\b\b\b  3% 1 - NSRLJP_202408/NSRLFile.txt\b\b\b\b\b\b\b\b\b\b\b\b\b\b\b\b\b\b\b\b\b\b\b\b\b\b\b\b\b\b\b\b\b\b\b                                   \b\b\b\b\b\b\b\b\b\b\b\b\b\b\b\b\b\b\b\b\b\b\b\b\b\b\b\b\b\b\b\b\b\b\b  4% 1 - NSRLJP_202408/NSRLFile.txt\b\b\b\b\b\b\b\b\b\b\b\b\b\b\b\b\b\b\b\b\b\b\b\b\b\b\b\b\b\b\b\b\b\b\b                                   \b\b\b\b\b\b\b\b\b\b\b\b\b\b\b\b\b\b\b\b\b\b\b\b\b\b\b\b\b\b\b\b\b\b\b  5% 1 - NSRLJP_202408/NSRLFile.txt\b\b\b\b\b\b\b\b\b\b\b\b\b\b\b\b\b\b\b\b\b\b\b\b\b\b\b\b\b\b\b\b\b\b\b                                   \b\b\b\b\b\b\b\b\b\b\b\b\b\b\b\b\b\b\b\b\b\b\b\b\b\b\b\b\b\b\b\b\b\b\b  6% 1 - NSRLJP_202408/NSRLFile.txt\b\b\b\b\b\b\b\b\b\b\b\b\b\b\b\b\b\b\b\b\b\b\b\b\b\b\b\b\b\b\b\b\b\b\b                                   \b\b\b\b\b\b\b\b\b\b\b\b\b\b\b\b\b\b\b\b\b\b\b\b\b\b\b\b\b\b\b\b\b\b\b  7% 1 - NSRLJP_202408/NSRLFile.txt\b\b\b\b\b\b\b\b\b\b\b\b\b\b\b\b\b\b\b\b\b\b\b\b\b\b\b\b\b\b\b\b\b\b\b                                   \b\b\b\b\b\b\b\b\b\b\b\b\b\b\b\b\b\b\b\b\b\b\b\b\b\b\b\b\b\b\b\b\b\b\b  8% 1 - NSRLJP_202408/NSRLFile.txt\b\b\b\b\b\b\b\b\b\b\b\b\b\b\b\b\b\b\b\b\b\b\b\b\b\b\b\b\b\b\b\b\b\b\b                                   \b\b\b\b\b\b\b\b\b\b\b\b\b\b\b\b\b\b\b\b\b\b\b\b\b\b\b\b\b\b\b\b\b\b\b  9% 1 - NSRLJP_202408/NSRLFile.txt\b\b\b\b\b\b\b\b\b\b\b\b\b\b\b\b\b\b\b\b\b\b\b\b\b\b\b\b\b\b\b\b\b\b\b                                   \b\b\b\b\b\b\b\b\b\b\b\b\b\b\b\b\b\b\b\b\b\b\b\b\b\b\b\b\b\b\b\b\b\b\b 10% 1 - NSRLJP_202408/NSRLFile.txt\b\b\b\b\b\b\b\b\b\b\b\b\b\b\b\b\b\b\b\b\b\b\b\b\b\b\b\b\b\b\b\b\b\b\b                                   \b\b\b\b\b\b\b\b\b\b\b\b\b\b\b\b\b\b\b\b\b\b\b\b\b\b\b\b\b\b\b\b\b\b\b 11% 1 - NSRLJP_202408/NSRLFile.txt\b\b\b\b\b\b\b\b\b\b\b\b\b\b\b\b\b\b\b\b\b\b\b\b\b\b\b\b\b\b\b\b\b\b\b                                   \b\b\b\b\b\b\b\b\b\b\b\b\b\b\b\b\b\b\b\b\b\b\b\b\b\b\b\b\b\b\b\b\b\b\b 12% 1 - NSRLJP_202408/NSRLFile.txt\b\b\b\b\b\b\b\b\b\b\b\b\b\b\b\b\b\b\b\b\b\b\b\b\b\b\b\b\b\b\b\b\b\b\b                                   \b\b\b\b\b\b\b\b\b\b\b\b\b\b\b\b\b\b\b\b\b\b\b\b\b\b\b\b\b\b\b\b\b\b\b 13% 1 - NSRLJP_202408/NSRLFile.txt\b\b\b\b\b\b\b\b\b\b\b\b\b\b\b\b\b\b\b\b\b\b\b\b\b\b\b\b\b\b\b\b\b\b\b                                   \b\b\b\b\b\b\b\b\b\b\b\b\b\b\b\b\b\b\b\b\b\b\b\b\b\b\b\b\b\b\b\b\b\b\b 14% 1 - NSRLJP_202408/NSRLFile.txt\b\b\b\b\b\b\b\b\b\b\b\b\b\b\b\b\b\b\b\b\b\b\b\b\b\b\b\b\b\b\b\b\b\b\b                                   \b\b\b\b\b\b\b\b\b\b\b\b\b\b\b\b\b\b\b\b\b\b\b\b\b\b\b\b\b\b\b\b\b\b\b 15% 1 - NSRLJP_202408/NSRLFile.txt\b\b\b\b\b\b\b\b\b\b\b\b\b\b\b\b\b\b\b\b\b\b\b\b\b\b\b\b\b\b\b\b\b\b\b                                   \b\b\b\b\b\b\b\b\b\b\b\b\b\b\b\b\b\b\b\b\b\b\b\b\b\b\b\b\b\b\b\b\b\b\b 16% 1 - NSRLJP_202408/NSRLFile.txt\b\b\b\b\b\b\b\b\b\b\b\b\b\b\b\b\b\b\b\b\b\b\b\b\b\b\b\b\b\b\b\b\b\b\b                                   \b\b\b\b\b\b\b\b\b\b\b\b\b\b\b\b\b\b\b\b\b\b\b\b\b\b\b\b\b\b\b\b\b\b\b 17% 1 - NSRLJP_202408/NSRLFile.txt\b\b\b\b\b\b\b\b\b\b\b\b\b\b\b\b\b\b\b\b\b\b\b\b\b\b\b\b\b\b\b\b\b\b\b                                   \b\b\b\b\b\b\b\b\b\b\b\b\b\b\b\b\b\b\b\b\b\b\b\b\b\b\b\b\b\b\b\b\b\b\b 18% 1 - NSRLJP_202408/NSRLFile.txt\b\b\b\b\b\b\b\b\b\b\b\b\b\b\b\b\b\b\b\b\b\b\b\b\b\b\b\b\b\b\b\b\b\b\b                                   \b\b\b\b\b\b\b\b\b\b\b\b\b\b\b\b\b\b\b\b\b\b\b\b\b\b\b\b\b\b\b\b\b\b\b 19% 1 - NSRLJP_202408/NSRLFile.txt\b\b\b\b\b\b\b\b\b\b\b\b\b\b\b\b\b\b\b\b\b\b\b\b\b\b\b\b\b\b\b\b\b\b\b                                   \b\b\b\b\b\b\b\b\b\b\b\b\b\b\b\b\b\b\b\b\b\b\b\b\b\b\b\b\b\b\b\b\b\b\b 20% 1 - NSRLJP_202408/NSRLFile.txt\b\b\b\b\b\b\b\b\b\b\b\b\b\b\b\b\b\b\b\b\b\b\b\b\b\b\b\b\b\b\b\b\b\b\b                                   \b\b\b\b\b\b\b\b\b\b\b\b\b\b\b\b\b\b\b\b\b\b\b\b\b\b\b\b\b\b\b\b\b\b\b 21% 1 - NSRLJP_202408/NSRLFile.txt\b\b\b\b\b\b\b\b\b\b\b\b\b\b\b\b\b\b\b\b\b\b\b\b\b\b\b\b\b\b\b\b\b\b\b                                   \b\b\b\b\b\b\b\b\b\b\b\b\b\b\b\b\b\b\b\b\b\b\b\b\b\b\b\b\b\b\b\b\b\b\b 22% 1 - NSRLJP_202408/NSRLFile.txt\b\b\b\b\b\b\b\b\b\b\b\b\b\b\b\b\b\b\b\b\b\b\b\b\b\b\b\b\b\b\b\b\b\b\b                                   \b\b\b\b\b\b\b\b\b\b\b\b\b\b\b\b\b\b\b\b\b\b\b\b\b\b\b\b\b\b\b\b\b\b\b 23% 1 - NSRLJP_202408/NSRLFile.txt\b\b\b\b\b\b\b\b\b\b\b\b\b\b\b\b\b\b\b\b\b\b\b\b\b\b\b\b\b\b\b\b\b\b\b                                   \b\b\b\b\b\b\b\b\b\b\b\b\b\b\b\b\b\b\b\b\b\b\b\b\b\b\b\b\b\b\b\b\b\b\b 24% 1 - NSRLJP_202408/NSRLFile.txt\b\b\b\b\b\b\b\b\b\b\b\b\b\b\b\b\b\b\b\b\b\b\b\b\b\b\b\b\b\b\b\b\b\b\b                                   \b\b\b\b\b\b\b\b\b\b\b\b\b\b\b\b\b\b\b\b\b\b\b\b\b\b\b\b\b\b\b\b\b\b\b 25% 1 - NSRLJP_202408/NSRLFile.txt\b\b\b\b\b\b\b\b\b\b\b\b\b\b\b\b\b\b\b\b\b\b\b\b\b\b\b\b\b\b\b\b\b\b\b                                   \b\b\b\b\b\b\b\b\b\b\b\b\b\b\b\b\b\b\b\b\b\b\b\b\b\b\b\b\b\b\b\b\b\b\b 26% 1 - NSRLJP_202408/NSRLFile.txt\b\b\b\b\b\b\b\b\b\b\b\b\b\b\b\b\b\b\b\b\b\b\b\b\b\b\b\b\b\b\b\b\b\b\b                                   \b\b\b\b\b\b\b\b\b\b\b\b\b\b\b\b\b\b\b\b\b\b\b\b\b\b\b\b\b\b\b\b\b\b\b 27% 1 - NSRLJP_202408/NSRLFile.txt\b\b\b\b\b\b\b\b\b\b\b\b\b\b\b\b\b\b\b\b\b\b\b\b\b\b\b\b\b\b\b\b\b\b\b                                   \b\b\b\b\b\b\b\b\b\b\b\b\b\b\b\b\b\b\b\b\b\b\b\b\b\b\b\b\b\b\b\b\b\b\b 28% 1 - NSRLJP_202408/NSRLFile.txt\b\b\b\b\b\b\b\b\b\b\b\b\b\b\b\b\b\b\b\b\b\b\b\b\b\b\b\b\b\b\b\b\b\b\b                                   \b\b\b\b\b\b\b\b\b\b\b\b\b\b\b\b\b\b\b\b\b\b\b\b\b\b\b\b\b\b\b\b\b\b\b 29% 1 - NSRLJP_202408/NSRLFile.txt\b\b\b\b\b\b\b\b\b\b\b\b\b\b\b\b\b\b\b\b\b\b\b\b\b\b\b\b\b\b\b\b\b\b\b                                   \b\b\b\b\b\b\b\b\b\b\b\b\b\b\b\b\b\b\b\b\b\b\b\b\b\b\b\b\b\b\b\b\b\b\b 30% 1 - NSRLJP_202408/NSRLFile.txt\b\b\b\b\b\b\b\b\b\b\b\b\b\b\b\b\b\b\b\b\b\b\b\b\b\b\b\b\b\b\b\b\b\b\b                                   \b\b\b\b\b\b\b\b\b\b\b\b\b\b\b\b\b\b\b\b\b\b\b\b\b\b\b\b\b\b\b\b\b\b\b 31% 1 - NSRLJP_202408/NSRLFile.txt\b\b\b\b\b\b\b\b\b\b\b\b\b\b\b\b\b\b\b\b\b\b\b\b\b\b\b\b\b\b\b\b\b\b\b                                   \b\b\b\b\b\b\b\b\b\b\b\b\b\b\b\b\b\b\b\b\b\b\b\b\b\b\b\b\b\b\b\b\b\b\b 32% 1 - NSRLJP_202408/NSRLFile.txt\b\b\b\b\b\b\b\b\b\b\b\b\b\b\b\b\b\b\b\b\b\b\b\b\b\b\b\b\b\b\b\b\b\b\b                                   \b\b\b\b\b\b\b\b\b\b\b\b\b\b\b\b\b\b\b\b\b\b\b\b\b\b\b\b\b\b\b\b\b\b\b 33% 1 - NSRLJP_202408/NSRLFile.txt\b\b\b\b\b\b\b\b\b\b\b\b\b\b\b\b\b\b\b\b\b\b\b\b\b\b\b\b\b\b\b\b\b\b\b                                   \b\b\b\b\b\b\b\b\b\b\b\b\b\b\b\b\b\b\b\b\b\b\b\b\b\b\b\b\b\b\b\b\b\b\b 34% 1 - NSRLJP_202408/NSRLFile.txt\b\b\b\b\b\b\b\b\b\b\b\b\b\b\b\b\b\b\b\b\b\b\b\b\b\b\b\b\b\b\b\b\b\b\b                                   \b\b\b\b\b\b\b\b\b\b\b\b\b\b\b\b\b\b\b\b\b\b\b\b\b\b\b\b\b\b\b\b\b\b\b 35% 1 - NSRLJP_202408/NSRLFile.txt\b\b\b\b\b\b\b\b\b\b\b\b\b\b\b\b\b\b\b\b\b\b\b\b\b\b\b\b\b\b\b\b\b\b\b                                   \b\b\b\b\b\b\b\b\b\b\b\b\b\b\b\b\b\b\b\b\b\b\b\b\b\b\b\b\b\b\b\b\b\b\b 36% 1 - NSRLJP_202408/NSRLFile.txt\b\b\b\b\b\b\b\b\b\b\b\b\b\b\b\b\b\b\b\b\b\b\b\b\b\b\b\b\b\b\b\b\b\b\b                                   \b\b\b\b\b\b\b\b\b\b\b\b\b\b\b\b\b\b\b\b\b\b\b\b\b\b\b\b\b\b\b\b\b\b\b 37% 1 - NSRLJP_202408/NSRLFile.txt\b\b\b\b\b\b\b\b\b\b\b\b\b\b\b\b\b\b\b\b\b\b\b\b\b\b\b\b\b\b\b\b\b\b\b                                   \b\b\b\b\b\b\b\b\b\b\b\b\b\b\b\b\b\b\b\b\b\b\b\b\b\b\b\b\b\b\b\b\b\b\b 38% 1 - NSRLJP_202408/NSRLFile.txt\b\b\b\b\b\b\b\b\b\b\b\b\b\b\b\b\b\b\b\b\b\b\b\b\b\b\b\b\b\b\b\b\b\b\b                                   \b\b\b\b\b\b\b\b\b\b\b\b\b\b\b\b\b\b\b\b\b\b\b\b\b\b\b\b\b\b\b\b\b\b\b 39% 1 - NSRLJP_202408/NSRLFile.txt\b\b\b\b\b\b\b\b\b\b\b\b\b\b\b\b\b\b\b\b\b\b\b\b\b\b\b\b\b\b\b\b\b\b\b                                   \b\b\b\b\b\b\b\b\b\b\b\b\b\b\b\b\b\b\b\b\b\b\b\b\b\b\b\b\b\b\b\b\b\b\b 40% 1 - NSRLJP_202408/NSRLFile.txt\b\b\b\b\b\b\b\b\b\b\b\b\b\b\b\b\b\b\b\b\b\b\b\b\b\b\b\b\b\b\b\b\b\b\b                                   \b\b\b\b\b\b\b\b\b\b\b\b\b\b\b\b\b\b\b\b\b\b\b\b\b\b\b\b\b\b\b\b\b\b\b 41% 1 - NSRLJP_202408/NSRLFile.txt\b\b\b\b\b\b\b\b\b\b\b\b\b\b\b\b\b\b\b\b\b\b\b\b\b\b\b\b\b\b\b\b\b\b\b                                   \b\b\b\b\b\b\b\b\b\b\b\b\b\b\b\b\b\b\b\b\b\b\b\b\b\b\b\b\b\b\b\b\b\b\b 42% 1 - NSRLJP_202408/NSRLFile.txt\b\b\b\b\b\b\b\b\b\b\b\b\b\b\b\b\b\b\b\b\b\b\b\b\b\b\b\b\b\b\b\b\b\b\b                                   \b\b\b\b\b\b\b\b\b\b\b\b\b\b\b\b\b\b\b\b\b\b\b\b\b\b\b\b\b\b\b\b\b\b\b 43% 1 - NSRLJP_202408/NSRLFile.txt\b\b\b\b\b\b\b\b\b\b\b\b\b\b\b\b\b\b\b\b\b\b\b\b\b\b\b\b\b\b\b\b\b\b\b                                   \b\b\b\b\b\b\b\b\b\b\b\b\b\b\b\b\b\b\b\b\b\b\b\b\b\b\b\b\b\b\b\b\b\b\b 44% 1 - NSRLJP_202408/NSRLFile.txt\b\b\b\b\b\b\b\b\b\b\b\b\b\b\b\b\b\b\b\b\b\b\b\b\b\b\b\b\b\b\b\b\b\b\b                                   \b\b\b\b\b\b\b\b\b\b\b\b\b\b\b\b\b\b\b\b\b\b\b\b\b\b\b\b\b\b\b\b\b\b\b 45% 1 - NSRLJP_202408/NSRLFile.txt\b\b\b\b\b\b\b\b\b\b\b\b\b\b\b\b\b\b\b\b\b\b\b\b\b\b\b\b\b\b\b\b\b\b\b                                   \b\b\b\b\b\b\b\b\b\b\b\b\b\b\b\b\b\b\b\b\b\b\b\b\b\b\b\b\b\b\b\b\b\b\b 46% 1 - NSRLJP_202408/NSRLFile.txt\b\b\b\b\b\b\b\b\b\b\b\b\b\b\b\b\b\b\b\b\b\b\b\b\b\b\b\b\b\b\b\b\b\b\b                                   \b\b\b\b\b\b\b\b\b\b\b\b\b\b\b\b\b\b\b\b\b\b\b\b\b\b\b\b\b\b\b\b\b\b\b 47% 1 - NSRLJP_202408/NSRLFile.txt\b\b\b\b\b\b\b\b\b\b\b\b\b\b\b\b\b\b\b\b\b\b\b\b\b\b\b\b\b\b\b\b\b\b\b                                   \b\b\b\b\b\b\b\b\b\b\b\b\b\b\b\b\b\b\b\b\b\b\b\b\b\b\b\b\b\b\b\b\b\b\b 48% 1 - NSRLJP_202408/NSRLFile.txt\b\b\b\b\b\b\b\b\b\b\b\b\b\b\b\b\b\b\b\b\b\b\b\b\b\b\b\b\b\b\b\b\b\b\b                                   \b\b\b\b\b\b\b\b\b\b\b\b\b\b\b\b\b\b\b\b\b\b\b\b\b\b\b\b\b\b\b\b\b\b\b 49% 1 - NSRLJP_202408/NSRLFile.txt\b\b\b\b\b\b\b\b\b\b\b\b\b\b\b\b\b\b\b\b\b\b\b\b\b\b\b\b\b\b\b\b\b\b\b                                   \b\b\b\b\b\b\b\b\b\b\b\b\b\b\b\b\b\b\b\b\b\b\b\b\b\b\b\b\b\b\b\b\b\b\b 50% 1 - NSRLJP_202408/NSRLFile.txt\b\b\b\b\b\b\b\b\b\b\b\b\b\b\b\b\b\b\b\b\b\b\b\b\b\b\b\b\b\b\b\b\b\b\b                                   \b\b\b\b\b\b\b\b\b\b\b\b\b\b\b\b\b\b\b\b\b\b\b\b\b\b\b\b\b\b\b\b\b\b\b 51% 1 - NSRLJP_202408/NSRLFile.txt\b\b\b\b\b\b\b\b\b\b\b\b\b\b\b\b\b\b\b\b\b\b\b\b\b\b\b\b\b\b\b\b\b\b\b                                   \b\b\b\b\b\b\b\b\b\b\b\b\b\b\b\b\b\b\b\b\b\b\b\b\b\b\b\b\b\b\b\b\b\b\b 52% 1 - NSRLJP_202408/NSRLFile.txt\b\b\b\b\b\b\b\b\b\b\b\b\b\b\b\b\b\b\b\b\b\b\b\b\b\b\b\b\b\b\b\b\b\b\b                                   \b\b\b\b\b\b\b\b\b\b\b\b\b\b\b\b\b\b\b\b\b\b\b\b\b\b\b\b\b\b\b\b\b\b\b 53% 1 - NSRLJP_202408/NSRLFile.txt\b\b\b\b\b\b\b\b\b\b\b\b\b\b\b\b\b\b\b\b\b\b\b\b\b\b\b\b\b\b\b\b\b\b\b                                   \b\b\b\b\b\b\b\b\b\b\b\b\b\b\b\b\b\b\b\b\b\b\b\b\b\b\b\b\b\b\b\b\b\b\b 54% 1 - NSRLJP_202408/NSRLFile.txt\b\b\b\b\b\b\b\b\b\b\b\b\b\b\b\b\b\b\b\b\b\b\b\b\b\b\b\b\b\b\b\b\b\b\b                                   \b\b\b\b\b\b\b\b\b\b\b\b\b\b\b\b\b\b\b\b\b\b\b\b\b\b\b\b\b\b\b\b\b\b\b 55% 1 - NSRLJP_202408/NSRLFile.txt\b\b\b\b\b\b\b\b\b\b\b\b\b\b\b\b\b\b\b\b\b\b\b\b\b\b\b\b\b\b\b\b\b\b\b                                   \b\b\b\b\b\b\b\b\b\b\b\b\b\b\b\b\b\b\b\b\b\b\b\b\b\b\b\b\b\b\b\b\b\b\b 56% 1 - NSRLJP_202408/NSRLFile.txt\b\b\b\b\b\b\b\b\b\b\b\b\b\b\b\b\b\b\b\b\b\b\b\b\b\b\b\b\b\b\b\b\b\b\b                                   \b\b\b\b\b\b\b\b\b\b\b\b\b\b\b\b\b\b\b\b\b\b\b\b\b\b\b\b\b\b\b\b\b\b\b 57% 1 - NSRLJP_202408/NSRLFile.txt\b\b\b\b\b\b\b\b\b\b\b\b\b\b\b\b\b\b\b\b\b\b\b\b\b\b\b\b\b\b\b\b\b\b\b                                   \b\b\b\b\b\b\b\b\b\b\b\b\b\b\b\b\b\b\b\b\b\b\b\b\b\b\b\b\b\b\b\b\b\b\b 58% 1 - NSRLJP_202408/NSRLFile.txt\b\b\b\b\b\b\b\b\b\b\b\b\b\b\b\b\b\b\b\b\b\b\b\b\b\b\b\b\b\b\b\b\b\b\b                                   \b\b\b\b\b\b\b\b\b\b\b\b\b\b\b\b\b\b\b\b\b\b\b\b\b\b\b\b\b\b\b\b\b\b\b 59% 1 - NSRLJP_202408/NSRLFile.txt\b\b\b\b\b\b\b\b\b\b\b\b\b\b\b\b\b\b\b\b\b\b\b\b\b\b\b\b\b\b\b\b\b\b\b                                   \b\b\b\b\b\b\b\b\b\b\b\b\b\b\b\b\b\b\b\b\b\b\b\b\b\b\b\b\b\b\b\b\b\b\b 60% 1 - NSRLJP_202408/NSRLFile.txt\b\b\b\b\b\b\b\b\b\b\b\b\b\b\b\b\b\b\b\b\b\b\b\b\b\b\b\b\b\b\b\b\b\b\b                                   \b\b\b\b\b\b\b\b\b\b\b\b\b\b\b\b\b\b\b\b\b\b\b\b\b\b\b\b\b\b\b\b\b\b\b 61% 1 - NSRLJP_202408/NSRLFile.txt\b\b\b\b\b\b\b\b\b\b\b\b\b\b\b\b\b\b\b\b\b\b\b\b\b\b\b\b\b\b\b\b\b\b\b                                   \b\b\b\b\b\b\b\b\b\b\b\b\b\b\b\b\b\b\b\b\b\b\b\b\b\b\b\b\b\b\b\b\b\b\b 62% 1 - NSRLJP_202408/NSRLFile.txt\b\b\b\b\b\b\b\b\b\b\b\b\b\b\b\b\b\b\b\b\b\b\b\b\b\b\b\b\b\b\b\b\b\b\b                                   \b\b\b\b\b\b\b\b\b\b\b\b\b\b\b\b\b\b\b\b\b\b\b\b\b\b\b\b\b\b\b\b\b\b\b 63% 1 - NSRLJP_202408/NSRLFile.txt\b\b\b\b\b\b\b\b\b\b\b\b\b\b\b\b\b\b\b\b\b\b\b\b\b\b\b\b\b\b\b\b\b\b\b                                   \b\b\b\b\b\b\b\b\b\b\b\b\b\b\b\b\b\b\b\b\b\b\b\b\b\b\b\b\b\b\b\b\b\b\b 64% 1 - NSRLJP_202408/NSRLFile.txt\b\b\b\b\b\b\b\b\b\b\b\b\b\b\b\b\b\b\b\b\b\b\b\b\b\b\b\b\b\b\b\b\b\b\b                                   \b\b\b\b\b\b\b\b\b\b\b\b\b\b\b\b\b\b\b\b\b\b\b\b\b\b\b\b\b\b\b\b\b\b\b 65% 1 - NSRLJP_202408/NSRLFile.txt\b\b\b\b\b\b\b\b\b\b\b\b\b\b\b\b\b\b\b\b\b\b\b\b\b\b\b\b\b\b\b\b\b\b\b                                   \b\b\b\b\b\b\b\b\b\b\b\b\b\b\b\b\b\b\b\b\b\b\b\b\b\b\b\b\b\b\b\b\b\b\b 66% 1 - NSRLJP_202408/NSRLFile.txt\b\b\b\b\b\b\b\b\b\b\b\b\b\b\b\b\b\b\b\b\b\b\b\b\b\b\b\b\b\b\b\b\b\b\b                                   \b\b\b\b\b\b\b\b\b\b\b\b\b\b\b\b\b\b\b\b\b\b\b\b\b\b\b\b\b\b\b\b\b\b\b 67% 1 - NSRLJP_202408/NSRLFile.txt\b\b\b\b\b\b\b\b\b\b\b\b\b\b\b\b\b\b\b\b\b\b\b\b\b\b\b\b\b\b\b\b\b\b\b                                   \b\b\b\b\b\b\b\b\b\b\b\b\b\b\b\b\b\b\b\b\b\b\b\b\b\b\b\b\b\b\b\b\b\b\b 68% 1 - NSRLJP_202408/NSRLFile.txt\b\b\b\b\b\b\b\b\b\b\b\b\b\b\b\b\b\b\b\b\b\b\b\b\b\b\b\b\b\b\b\b\b\b\b                                   \b\b\b\b\b\b\b\b\b\b\b\b\b\b\b\b\b\b\b\b\b\b\b\b\b\b\b\b\b\b\b\b\b\b\b 69% 1 - NSRLJP_202408/NSRLFile.txt\b\b\b\b\b\b\b\b\b\b\b\b\b\b\b\b\b\b\b\b\b\b\b\b\b\b\b\b\b\b\b\b\b\b\b                                   \b\b\b\b\b\b\b\b\b\b\b\b\b\b\b\b\b\b\b\b\b\b\b\b\b\b\b\b\b\b\b\b\b\b\b 70% 1 - NSRLJP_202408/NSRLFile.txt\b\b\b\b\b\b\b\b\b\b\b\b\b\b\b\b\b\b\b\b\b\b\b\b\b\b\b\b\b\b\b\b\b\b\b                                   \b\b\b\b\b\b\b\b\b\b\b\b\b\b\b\b\b\b\b\b\b\b\b\b\b\b\b\b\b\b\b\b\b\b\b 71% 1 - NSRLJP_202408/NSRLFile.txt\b\b\b\b\b\b\b\b\b\b\b\b\b\b\b\b\b\b\b\b\b\b\b\b\b\b\b\b\b\b\b\b\b\b\b                                   \b\b\b\b\b\b\b\b\b\b\b\b\b\b\b\b\b\b\b\b\b\b\b\b\b\b\b\b\b\b\b\b\b\b\b 72% 1 - NSRLJP_202408/NSRLFile.txt\b\b\b\b\b\b\b\b\b\b\b\b\b\b\b\b\b\b\b\b\b\b\b\b\b\b\b\b\b\b\b\b\b\b\b                                   \b\b\b\b\b\b\b\b\b\b\b\b\b\b\b\b\b\b\b\b\b\b\b\b\b\b\b\b\b\b\b\b\b\b\b 73% 1 - NSRLJP_202408/NSRLFile.txt\b\b\b\b\b\b\b\b\b\b\b\b\b\b\b\b\b\b\b\b\b\b\b\b\b\b\b\b\b\b\b\b\b\b\b                                   \b\b\b\b\b\b\b\b\b\b\b\b\b\b\b\b\b\b\b\b\b\b\b\b\b\b\b\b\b\b\b\b\b\b\b 74% 1 - NSRLJP_202408/NSRLFile.txt\b\b\b\b\b\b\b\b\b\b\b\b\b\b\b\b\b\b\b\b\b\b\b\b\b\b\b\b\b\b\b\b\b\b\b                                   \b\b\b\b\b\b\b\b\b\b\b\b\b\b\b\b\b\b\b\b\b\b\b\b\b\b\b\b\b\b\b\b\b\b\b 75% 1 - NSRLJP_202408/NSRLFile.txt\b\b\b\b\b\b\b\b\b\b\b\b\b\b\b\b\b\b\b\b\b\b\b\b\b\b\b\b\b\b\b\b\b\b\b                                   \b\b\b\b\b\b\b\b\b\b\b\b\b\b\b\b\b\b\b\b\b\b\b\b\b\b\b\b\b\b\b\b\b\b\b 76% 1 - NSRLJP_202408/NSRLFile.txt\b\b\b\b\b\b\b\b\b\b\b\b\b\b\b\b\b\b\b\b\b\b\b\b\b\b\b\b\b\b\b\b\b\b\b                                   \b\b\b\b\b\b\b\b\b\b\b\b\b\b\b\b\b\b\b\b\b\b\b\b\b\b\b\b\b\b\b\b\b\b\b 77% 1 - NSRLJP_202408/NSRLFile.txt\b\b\b\b\b\b\b\b\b\b\b\b\b\b\b\b\b\b\b\b\b\b\b\b\b\b\b\b\b\b\b\b\b\b\b                                   \b\b\b\b\b\b\b\b\b\b\b\b\b\b\b\b\b\b\b\b\b\b\b\b\b\b\b\b\b\b\b\b\b\b\b 78% 1 - NSRLJP_202408/NSRLFile.txt\b\b\b\b\b\b\b\b\b\b\b\b\b\b\b\b\b\b\b\b\b\b\b\b\b\b\b\b\b\b\b\b\b\b\b                                   \b\b\b\b\b\b\b\b\b\b\b\b\b\b\b\b\b\b\b\b\b\b\b\b\b\b\b\b\b\b\b\b\b\b\b 79% 1 - NSRLJP_202408/NSRLFile.txt\b\b\b\b\b\b\b\b\b\b\b\b\b\b\b\b\b\b\b\b\b\b\b\b\b\b\b\b\b\b\b\b\b\b\b                                   \b\b\b\b\b\b\b\b\b\b\b\b\b\b\b\b\b\b\b\b\b\b\b\b\b\b\b\b\b\b\b\b\b\b\b 80% 1 - NSRLJP_202408/NSRLFile.txt\b\b\b\b\b\b\b\b\b\b\b\b\b\b\b\b\b\b\b\b\b\b\b\b\b\b\b\b\b\b\b\b\b\b\b                                   \b\b\b\b\b\b\b\b\b\b\b\b\b\b\b\b\b\b\b\b\b\b\b\b\b\b\b\b\b\b\b\b\b\b\b 81% 1 - NSRLJP_202408/NSRLFile.txt\b\b\b\b\b\b\b\b\b\b\b\b\b\b\b\b\b\b\b\b\b\b\b\b\b\b\b\b\b\b\b\b\b\b\b                                   \b\b\b\b\b\b\b\b\b\b\b\b\b\b\b\b\b\b\b\b\b\b\b\b\b\b\b\b\b\b\b\b\b\b\b 82% 1 - NSRLJP_202408/NSRLFile.txt\b\b\b\b\b\b\b\b\b\b\b\b\b\b\b\b\b\b\b\b\b\b\b\b\b\b\b\b\b\b\b\b\b\b\b                                   \b\b\b\b\b\b\b\b\b\b\b\b\b\b\b\b\b\b\b\b\b\b\b\b\b\b\b\b\b\b\b\b\b\b\b 83% 1 - NSRLJP_202408/NSRLFile.txt\b\b\b\b\b\b\b\b\b\b\b\b\b\b\b\b\b\b\b\b\b\b\b\b\b\b\b\b\b\b\b\b\b\b\b                                   \b\b\b\b\b\b\b\b\b\b\b\b\b\b\b\b\b\b\b\b\b\b\b\b\b\b\b\b\b\b\b\b\b\b\b 84% 1 - NSRLJP_202408/NSRLFile.txt\b\b\b\b\b\b\b\b\b\b\b\b\b\b\b\b\b\b\b\b\b\b\b\b\b\b\b\b\b\b\b\b\b\b\b                                   \b\b\b\b\b\b\b\b\b\b\b\b\b\b\b\b\b\b\b\b\b\b\b\b\b\b\b\b\b\b\b\b\b\b\b 85% 1 - NSRLJP_202408/NSRLFile.txt\b\b\b\b\b\b\b\b\b\b\b\b\b\b\b\b\b\b\b\b\b\b\b\b\b\b\b\b\b\b\b\b\b\b\b                                   \b\b\b\b\b\b\b\b\b\b\b\b\b\b\b\b\b\b\b\b\b\b\b\b\b\b\b\b\b\b\b\b\b\b\b 86% 1 - NSRLJP_202408/NSRLFile.txt\b\b\b\b\b\b\b\b\b\b\b\b\b\b\b\b\b\b\b\b\b\b\b\b\b\b\b\b\b\b\b\b\b\b\b                                   \b\b\b\b\b\b\b\b\b\b\b\b\b\b\b\b\b\b\b\b\b\b\b\b\b\b\b\b\b\b\b\b\b\b\b 87% 1 - NSRLJP_202408/NSRLFile.txt\b\b\b\b\b\b\b\b\b\b\b\b\b\b\b\b\b\b\b\b\b\b\b\b\b\b\b\b\b\b\b\b\b\b\b                                   \b\b\b\b\b\b\b\b\b\b\b\b\b\b\b\b\b\b\b\b\b\b\b\b\b\b\b\b\b\b\b\b\b\b\b 88% 1 - NSRLJP_202408/NSRLFile.txt\b\b\b\b\b\b\b\b\b\b\b\b\b\b\b\b\b\b\b\b\b\b\b\b\b\b\b\b\b\b\b\b\b\b\b                                   \b\b\b\b\b\b\b\b\b\b\b\b\b\b\b\b\b\b\b\b\b\b\b\b\b\b\b\b\b\b\b\b\b\b\b 89% 1 - NSRLJP_202408/NSRLFile.txt\b\b\b\b\b\b\b\b\b\b\b\b\b\b\b\b\b\b\b\b\b\b\b\b\b\b\b\b\b\b\b\b\b\b\b                                   \b\b\b\b\b\b\b\b\b\b\b\b\b\b\b\b\b\b\b\b\b\b\b\b\b\b\b\b\b\b\b\b\b\b\b 90% 1 - NSRLJP_202408/NSRLFile.txt\b\b\b\b\b\b\b\b\b\b\b\b\b\b\b\b\b\b\b\b\b\b\b\b\b\b\b\b\b\b\b\b\b\b\b                                   \b\b\b\b\b\b\b\b\b\b\b\b\b\b\b\b\b\b\b\b\b\b\b\b\b\b\b\b\b\b\b\b\b\b\b 91% 1 - NSRLJP_202408/NSRLFile.txt\b\b\b\b\b\b\b\b\b\b\b\b\b\b\b\b\b\b\b\b\b\b\b\b\b\b\b\b\b\b\b\b\b\b\b                                   \b\b\b\b\b\b\b\b\b\b\b\b\b\b\b\b\b\b\b\b\b\b\b\b\b\b\b\b\b\b\b\b\b\b\b 92% 1 - NSRLJP_202408/NSRLFile.txt\b\b\b\b\b\b\b\b\b\b\b\b\b\b\b\b\b\b\b\b\b\b\b\b\b\b\b\b\b\b\b\b\b\b\b                                   \b\b\b\b\b\b\b\b\b\b\b\b\b\b\b\b\b\b\b\b\b\b\b\b\b\b\b\b\b\b\b\b\b\b\b 93% 1 - NSRLJP_202408/NSRLFile.txt\b\b\b\b\b\b\b\b\b\b\b\b\b\b\b\b\b\b\b\b\b\b\b\b\b\b\b\b\b\b\b\b\b\b\b                                   \b\b\b\b\b\b\b\b\b\b\b\b\b\b\b\b\b\b\b\b\b\b\b\b\b\b\b\b\b\b\b\b\b\b\b 94% 1 - NSRLJP_202408/NSRLFile.txt\b\b\b\b\b\b\b\b\b\b\b\b\b\b\b\b\b\b\b\b\b\b\b\b\b\b\b\b\b\b\b\b\b\b\b                                   \b\b\b\b\b\b\b\b\b\b\b\b\b\b\b\b\b\b\b\b\b\b\b\b\b\b\b\b\b\b\b\b\b\b\b 95% 1 - NSRLJP_202408/NSRLFile.txt\b\b\b\b\b\b\b\b\b\b\b\b\b\b\b\b\b\b\b\b\b\b\b\b\b\b\b\b\b\b\b\b\b\b\b                                   \b\b\b\b\b\b\b\b\b\b\b\b\b\b\b\b\b\b\b\b\b\b\b\b\b\b\b\b\b\b\b\b\b\b\b 96% 1 - NSRLJP_202408/NSRLFile.txt\b\b\b\b\b\b\b\b\b\b\b\b\b\b\b\b\b\b\b\b\b\b\b\b\b\b\b\b\b\b\b\b\b\b\b                                   \b\b\b\b\b\b\b\b\b\b\b\b\b\b\b\b\b\b\b\b\b\b\b\b\b\b\b\b\b\b\b\b\b\b\b 97% 1 - NSRLJP_202408/NSRLFile.txt\b\b\b\b\b\b\b\b\b\b\b\b\b\b\b\b\b\b\b\b\b\b\b\b\b\b\b\b\b\b\b\b\b\b\b                                   \b\b\b\b\b\b\b\b\b\b\b\b\b\b\b\b\b\b\b\b\b\b\b\b\b\b\b\b\b\b\b\b\b\b\b 98% 1 - NSRLJP_202408/NSRLFile.txt\b\b\b\b\b\b\b\b\b\b\b\b\b\b\b\b\b\b\b\b\b\b\b\b\b\b\b\b\b\b\b\b\b\b\b                                   \b\b\b\b\b\b\b\b\b\b\b\b\b\b\b\b\b\b\b\b\b\b\b\b\b\b\b\b\b\b\b\b\b\b\b 99% 1 - NSRLJP_202408/NSRLFile.txt\b\b\b\b\b\b\b\b\b\b\b\b\b\b\b\b\b\b\b\b\b\b\b\b\b\b\b\b\b\b\b\b\b\b\b                                   \b\b\b\b\b\b\b\b\b\b\b\b\b\b\b\b\b\b\b\b\b\b\b\b\b\b\b\b\b\b\b\b\b\b\b 99% 2 - NSRLJP_202408/NSRLMfg.txt\b\b\b\b\b\b\b\b\b\b\b\b\b\b\b\b\b\b\b\b\b\b\b\b\b\b\b\b\b\b\b\b\b\b                                  \b\b\b\b\b\b\b\b\b\b\b\b\b\b\b\b\b\b\b\b\b\b\b\b\b\b\b\b\b\b\b\b\b\bEverything is Ok\n",
            "\n",
            "Folders: 1\n",
            "Files: 4\n",
            "Size:       886062202\n",
            "Compressed: 319470599\n"
          ]
        }
      ]
    },
    {
      "cell_type": "markdown",
      "source": [
        "## データセットをduckdbにimport"
      ],
      "metadata": {
        "id": "wKdfBjAJv5Pd"
      }
    },
    {
      "cell_type": "code",
      "source": [
        "!pip install -qq duckdb"
      ],
      "metadata": {
        "id": "gqhsOvSJAQGd"
      },
      "execution_count": null,
      "outputs": []
    },
    {
      "cell_type": "code",
      "source": [
        "#!/usr/bin/env python\n",
        "# encoding: utf-8\n",
        "\n",
        "import duckdb\n",
        "db = duckdb.connect(\"duck.db\")\n",
        "db.sql(\"\"\"\n",
        "-- 1. メーカーマスタテーブルの作成\n",
        "DROP TABLE IF EXISTS NSRLMfg;\n",
        "CREATE TABLE IF NOT EXISTS NSRLMfg (\n",
        "    MfgCode TEXT PRIMARY KEY,\n",
        "    MfgName TEXT NOT NULL\n",
        ");\n",
        "\n",
        "-- 2. OSマスタテーブルの作成\n",
        "DROP TABLE IF EXISTS NSRLOS;\n",
        "CREATE TABLE IF NOT EXISTS NSRLOS (\n",
        "    OpSystemCode TEXT PRIMARY KEY,\n",
        "    OpSystemName TEXT NOT NULL,\n",
        "    OpSystemVersion TEXT,\n",
        "    MfgCode TEXT,\n",
        ");\n",
        "\n",
        "-- 3. 製品マスタテーブルの作成\n",
        "DROP TABLE IF EXISTS NSRLProd;\n",
        "CREATE TABLE IF NOT EXISTS NSRLProd (\n",
        "    ProductCode TEXT PRIMARY KEY,\n",
        "    ProductName TEXT NOT NULL,\n",
        "    ProductVersion TEXT,\n",
        "    OpSystemCode TEXT,\n",
        "    MfgCode TEXT,\n",
        "    Language TEXT,\n",
        "    ApplicationType TEXT,\n",
        ");\n",
        "\n",
        "-- 4. NSRLファイル情報テーブルの作成\n",
        "DROP TABLE IF EXISTS NSRLFile;\n",
        "CREATE TABLE IF NOT EXISTS NSRLFile (\n",
        "    SHA1 TEXT PRIMARY KEY,\n",
        "    MD5 TEXT NOT NULL,\n",
        "    CRC32 TEXT NOT NULL,\n",
        "    FileName TEXT NOT NULL,\n",
        "    FileSize TEXT NOT NULL,\n",
        "    ProductCode TEXT,\n",
        "    OpSystemCode TEXT,\n",
        "    SpecialCode TEXT,\n",
        ");\n",
        "\n",
        "-- 5. インデックスの作成\n",
        "CREATE INDEX IF NOT EXISTS idx_md5 ON NSRLFile (MD5);\n",
        "\n",
        "-- 6. データのインポート\n",
        "COPY NSRLMfg FROM './NSRLJP_202408/NSRLMfg.csv';\n",
        "COPY NSRLProd FROM './NSRLJP_202408/NSRLProd.csv';\n",
        "COPY NSRLOS FROM './NSRLJP_202408/NSRLOS.csv';\n",
        "COPY NSRLFile FROM './NSRLJP_202408/NSRLFile.csv';\n",
        "\"\"\")"
      ],
      "metadata": {
        "colab": {
          "base_uri": "https://localhost:8080/",
          "height": 49,
          "referenced_widgets": [
            "f97bc2c6f71d47a1b5c993acd427170d",
            "f2ff253dc5944a54b95d50ff0a7c31e2",
            "8beaf052d70a4d1c9250d7b0437d0341"
          ]
        },
        "id": "ZeESE44-t0UA",
        "outputId": "c17c58ed-ab2b-482b-87b6-71c28bf529c3"
      },
      "execution_count": null,
      "outputs": [
        {
          "output_type": "display_data",
          "data": {
            "text/plain": [
              "FloatProgress(value=0.0, layout=Layout(width='auto'), style=ProgressStyle(bar_color='black'))"
            ],
            "application/vnd.jupyter.widget-view+json": {
              "version_major": 2,
              "version_minor": 0,
              "model_id": "f97bc2c6f71d47a1b5c993acd427170d"
            }
          },
          "metadata": {}
        }
      ]
    },
    {
      "cell_type": "markdown",
      "source": [
        "## データが入っているか確認"
      ],
      "metadata": {
        "id": "DuupqlHUACZz"
      }
    },
    {
      "cell_type": "code",
      "source": [
        "db.sql(\"\"\"\n",
        "SELECT\n",
        "    *\n",
        "FROM\n",
        "    NSRLFile\n",
        "LEFT JOIN\n",
        "    NSRLProd ON NSRLFile.ProductCode = NSRLProd.ProductCode\n",
        "LEFT JOIN\n",
        "    NSRLOS ON NSRLFile.OpSystemCode = NSRLOS.OpSystemCode\n",
        "LEFT JOIN\n",
        "    NSRLMfg ON NSRLOS.MfgCode = NSRLMfg.MfgCode\n",
        "WHERE\n",
        "    SHA1 = '003f1b9a60927b2c429412cb4698907e0a0c68ce'\n",
        "AND\n",
        "    NSRLFile.OpSystemCode = '1010'\n",
        "\"\"\")"
      ],
      "metadata": {
        "colab": {
          "base_uri": "https://localhost:8080/"
        },
        "id": "B1r-waY90iv0",
        "outputId": "d8a744ac-95f2-4ad9-a24b-ddbde28f04e4"
      },
      "execution_count": null,
      "outputs": [
        {
          "output_type": "execute_result",
          "data": {
            "text/plain": [
              "┌──────────────────────────────────────────┬──────────────────────────────────┬──────────┬─────────────┬──────────┬─────────────┬──────────────┬─────────────┬─────────────┬──────────────────┬────────────────┬──────────────┬─────────┬────────────┬────────────────────┬──────────────┬──────────────┬─────────────────┬─────────┬─────────┬───────────┐\n",
              "│                   SHA1                   │               MD5                │  CRC32   │  FileName   │ FileSize │ ProductCode │ OpSystemCode │ SpecialCode │ ProductCode │   ProductName    │ ProductVersion │ OpSystemCode │ MfgCode │  Language  │  ApplicationType   │ OpSystemCode │ OpSystemName │ OpSystemVersion │ MfgCode │ MfgCode │  MfgName  │\n",
              "│                 varchar                  │             varchar              │ varchar  │   varchar   │ varchar  │   varchar   │   varchar    │   varchar   │   varchar   │     varchar      │    varchar     │   varchar    │ varchar │  varchar   │      varchar       │   varchar    │   varchar    │     varchar     │ varchar │ varchar │  varchar  │\n",
              "├──────────────────────────────────────────┼──────────────────────────────────┼──────────┼─────────────┼──────────┼─────────────┼──────────────┼─────────────┼─────────────┼──────────────────┼────────────────┼──────────────┼─────────┼────────────┼────────────────────┼──────────────┼──────────────┼─────────────────┼─────────┼─────────┼───────────┤\n",
              "│ 003f1b9a60927b2c429412cb4698907e0a0c68ce │ 220a7215a63faa737f49f2d5e6a6f8ca │ 5E9769BF │ Desktop.ini │ 798      │ 50047       │ 1010         │ NULL        │ 50047       │ \"Windows 10 x86\" │ \"2015-\"        │ \"1010\"       │ \"5001\"  │ \"Japanese\" │ \"Operating System\" │ 1010         │ Windows 10   │ 10              │ 5001    │ 5001    │ Microsoft │\n",
              "└──────────────────────────────────────────┴──────────────────────────────────┴──────────┴─────────────┴──────────┴─────────────┴──────────────┴─────────────┴─────────────┴──────────────────┴────────────────┴──────────────┴─────────┴────────────┴────────────────────┴──────────────┴──────────────┴─────────────────┴─────────┴─────────┴───────────┘"
            ]
          },
          "metadata": {},
          "execution_count": 76
        }
      ]
    },
    {
      "cell_type": "markdown",
      "source": [
        "# ApacheSparkの利用"
      ],
      "metadata": {
        "id": "zwrWbiGtAmx3"
      }
    },
    {
      "cell_type": "markdown",
      "source": [
        "## OpenJDK 17 (Java7)のインストール"
      ],
      "metadata": {
        "id": "dY9aDPm7CVh5"
      }
    },
    {
      "cell_type": "code",
      "source": [
        "# Java https://jdk.java.net/archive/\n",
        "!wget https://download.java.net/java/GA/jdk17/0d483333a00540d886896bac774ff48b/35/GPL/openjdk-17_linux-x64_bin.tar.gz\n",
        "!tar xzf openjdk-17_linux-x64_bin.tar.gz\n",
        "%env JAVA_HOME=/content/jdk-17"
      ],
      "metadata": {
        "colab": {
          "base_uri": "https://localhost:8080/"
        },
        "id": "SpVhRqevuoZt",
        "outputId": "d63ece80-2111-4702-bf20-316d7743bfe4"
      },
      "execution_count": null,
      "outputs": [
        {
          "output_type": "stream",
          "name": "stdout",
          "text": [
            "--2025-03-16 13:20:35--  https://download.java.net/java/GA/jdk17/0d483333a00540d886896bac774ff48b/35/GPL/openjdk-17_linux-x64_bin.tar.gz\n",
            "Resolving download.java.net (download.java.net)... 23.2.72.114\n",
            "Connecting to download.java.net (download.java.net)|23.2.72.114|:443... connected.\n",
            "HTTP request sent, awaiting response... 200 OK\n",
            "Length: 186661523 (178M) [application/x-gzip]\n",
            "Saving to: ‘openjdk-17_linux-x64_bin.tar.gz.4’\n",
            "\n",
            "openjdk-17_linux-x6 100%[===================>] 178.01M   113MB/s    in 1.6s    \n",
            "\n",
            "2025-03-16 13:20:36 (113 MB/s) - ‘openjdk-17_linux-x64_bin.tar.gz.4’ saved [186661523/186661523]\n",
            "\n",
            "env: JAVA_HOME=/content/jdk-17\n"
          ]
        }
      ]
    },
    {
      "cell_type": "markdown",
      "source": [
        "## PySparkのインストール"
      ],
      "metadata": {
        "id": "xTldIJaWFFln"
      }
    },
    {
      "cell_type": "code",
      "source": [
        "!pip install -qq pyspark==3.5.5"
      ],
      "metadata": {
        "id": "3xXdg2S7B4vb"
      },
      "execution_count": null,
      "outputs": []
    },
    {
      "cell_type": "markdown",
      "source": [
        "## SparkSessionの作成、icebergテーブルの作成とデータのアップロード"
      ],
      "metadata": {
        "id": "jbHUUz3dH9Kv"
      }
    },
    {
      "cell_type": "code",
      "execution_count": null,
      "metadata": {
        "id": "6ROFmITotcAq"
      },
      "outputs": [],
      "source": [
        "#!/usr/bin/env python\n",
        "# encoding: utf-8\n",
        "\n",
        "import os\n",
        "from pyspark.sql import SparkSession\n",
        "\n",
        "CATALOG_NAME = \"catalog_iceberg\"\n",
        "WAREHOUSE_URL = \"s3a://datalakehouse/iceberg\"\n",
        "\n",
        "spark: SparkSession = (\n",
        "    SparkSession.builder.master(\"local[*,3]\")\n",
        "    .appName(\"app_nsrljp\")\n",
        "    # .config(\"spark.driver.memory\", \"2g\")\n",
        "    # .config(\"spark.executor.memory\", \"2g\")\n",
        "    # .config(\"spark.log.level\", \"DEBUG\")\n",
        "    .config(\n",
        "        \"spark.jars.packages\",\n",
        "        f\"org.apache.iceberg:iceberg-spark-runtime-3.5_2.12:1.8.1\"\n",
        "        f\",org.apache.hadoop:hadoop-aws:3.3.4\",\n",
        "    )\n",
        "    .config(\n",
        "        \"spark.sql.extensions\",\n",
        "        \"org.apache.iceberg.spark.extensions.IcebergSparkSessionExtensions\",\n",
        "    )\n",
        "    .config(\n",
        "        f\"spark.sql.catalog.{CATALOG_NAME}\", \"org.apache.iceberg.spark.SparkCatalog\"\n",
        "    )\n",
        "    .config(\n",
        "        f\"spark.sql.catalog.{CATALOG_NAME}.type\", \"hadoop\"\n",
        "    )  # https://iceberg.apache.org/docs/1.5.0/spark-configuration/\n",
        "    .config(f\"spark.sql.catalog.{CATALOG_NAME}.warehouse\", f\"{WAREHOUSE_URL}\")\n",
        "    .config(f\"spark.sql.defaultCatalog\", f\"{CATALOG_NAME}\")\n",
        "    .config(\"spark.hadoop.fs.s3a.endpoint.region\", S3A_REGION or \"\")\n",
        "    .config(\"spark.hadoop.fs.s3a.endpoint\", S3A_ENDPOINT or \"\")\n",
        "    .config(\"spark.hadoop.fs.s3a.access.key\", S3A_ACCESS_KEY or \"\")\n",
        "    .config(\"spark.hadoop.fs.s3a.secret.key\", S3A_SECRET_KEY or \"\")\n",
        "    .config(\"spark.hadoop.fs.s3a.impl\", \"org.apache.hadoop.fs.s3a.S3AFileSystem\")\n",
        "    .config(\"spark.hadoop.fs.s3a.path.style.access\", True)\n",
        "    .getOrCreate()\n",
        ")\n",
        "\n",
        "DATABASE_NAME = \"NSRLJP\"\n",
        "\n",
        "spark.sql(f\"\"\"DROP TABLE IF EXISTS {CATALOG_NAME}.{DATABASE_NAME}.NSRLMfg PURGE\"\"\")\n",
        "\n",
        "spark.sql(\n",
        "    f\"\"\"\n",
        "CREATE TABLE IF NOT EXISTS {CATALOG_NAME}.{DATABASE_NAME}.NSRLMfg (\n",
        "    MfgCode STRING,\n",
        "    MfgName STRING\n",
        ") USING ICEBERG\n",
        "LOCATION '{WAREHOUSE_URL}/{DATABASE_NAME}/NSRLMfg/'\n",
        "\"\"\"\n",
        ")\n",
        "\n",
        "spark.sql(f\"\"\"DROP TABLE IF EXISTS {CATALOG_NAME}.{DATABASE_NAME}.NSRLOS PURGE\"\"\")\n",
        "\n",
        "spark.sql(\n",
        "    f\"\"\"\n",
        "CREATE TABLE IF NOT EXISTS {CATALOG_NAME}.{DATABASE_NAME}.NSRLOS (\n",
        "    OpSystemCode STRING,\n",
        "    OpSystemName STRING,\n",
        "    OpSystemVersion STRING,\n",
        "    MfgCode STRING\n",
        ") USING ICEBERG\n",
        "LOCATION '{WAREHOUSE_URL}/{DATABASE_NAME}/NSRLOS/'\n",
        "\"\"\"\n",
        ")\n",
        "\n",
        "spark.sql(f\"\"\"DROP TABLE IF EXISTS {CATALOG_NAME}.{DATABASE_NAME}.NSRLProd PURGE\"\"\")\n",
        "\n",
        "spark.sql(\n",
        "    f\"\"\"\n",
        "CREATE TABLE IF NOT EXISTS {CATALOG_NAME}.{DATABASE_NAME}.NSRLProd (\n",
        "    ProductCode STRING,\n",
        "    ProductName STRING,\n",
        "    ProductVersion STRING,\n",
        "    OpSystemCode STRING,\n",
        "    MfgCode STRING,\n",
        "    Language STRING,\n",
        "    ApplicationType STRING\n",
        ") USING ICEBERG\n",
        "LOCATION '{WAREHOUSE_URL}/{DATABASE_NAME}/NSRLProd/'\n",
        "\"\"\"\n",
        ")\n",
        "\n",
        "spark.sql(f\"\"\"DROP TABLE IF EXISTS {CATALOG_NAME}.{DATABASE_NAME}.NSRLFile PURGE\"\"\")\n",
        "\n",
        "spark.sql(\n",
        "    f\"\"\"\n",
        "CREATE TABLE IF NOT EXISTS {CATALOG_NAME}.{DATABASE_NAME}.NSRLFile (\n",
        "    `SHA-1` STRING,\n",
        "    MD5 STRING,\n",
        "    CRC32 STRING,\n",
        "    FileName STRING,\n",
        "    FileSize STRING,\n",
        "    ProductCode STRING,\n",
        "    OpSystemCode STRING,\n",
        "    SpecialCode STRING\n",
        ") USING ICEBERG\n",
        "PARTITIONED BY (OpSystemCode)\n",
        "LOCATION '{WAREHOUSE_URL}/{DATABASE_NAME}/NSRLFile/'\n",
        "\"\"\"\n",
        ")\n",
        "\n",
        "spark.read.option(\"inferSchema\", True).option(\"header\", True).csv(\n",
        "    \"./NSRLJP_202408/NSRLMfg.csv\"\n",
        ").writeTo(f\"{CATALOG_NAME}.{DATABASE_NAME}.NSRLMfg\").overwritePartitions()\n",
        "\n",
        "spark.read.option(\"inferSchema\", True).option(\"header\", True).csv(\n",
        "    \"./NSRLJP_202408/NSRLOS.csv\"\n",
        ").writeTo(f\"{CATALOG_NAME}.{DATABASE_NAME}.NSRLOS\").overwritePartitions()\n",
        "\n",
        "spark.read.option(\"inferSchema\", True).option(\"header\", True).csv(\n",
        "    \"./NSRLJP_202408/NSRLProd.csv\"\n",
        ").writeTo(f\"{CATALOG_NAME}.{DATABASE_NAME}.NSRLProd\").overwritePartitions()\n",
        "\n",
        "spark.read.option(\"inferSchema\", True).option(\"header\", True).csv(\n",
        "    \"./NSRLJP_202408/NSRLFile.csv\"\n",
        ").writeTo(f\"{CATALOG_NAME}.{DATABASE_NAME}.NSRLFile\").overwritePartitions()"
      ]
    },
    {
      "cell_type": "markdown",
      "source": [
        "`You are using approximately 326.79 MiB of the 20 GiB limit of free combined Object Storage and Archive Storage. Upgrade to use unlimited storage.`"
      ],
      "metadata": {
        "id": "YjyDzqlsntVO"
      }
    },
    {
      "cell_type": "markdown",
      "source": [
        "## PySparkによるクエリ"
      ],
      "metadata": {
        "id": "fk3SWgbdy2Cb"
      }
    },
    {
      "cell_type": "code",
      "source": [
        "# 通常のクエリ\n",
        "spark.sql(\n",
        "    f\"\"\"\n",
        "SELECT\n",
        "    *\n",
        "FROM\n",
        "    {CATALOG_NAME}.{DATABASE_NAME}.NSRLFile\n",
        "LEFT JOIN\n",
        "    {CATALOG_NAME}.{DATABASE_NAME}.NSRLProd ON {CATALOG_NAME}.{DATABASE_NAME}.NSRLFile.ProductCode = {CATALOG_NAME}.{DATABASE_NAME}.NSRLProd.ProductCode\n",
        "LEFT JOIN\n",
        "    {CATALOG_NAME}.{DATABASE_NAME}.NSRLOS ON {CATALOG_NAME}.{DATABASE_NAME}.NSRLFile.OpSystemCode = {CATALOG_NAME}.{DATABASE_NAME}.NSRLOS.OpSystemCode\n",
        "LEFT JOIN\n",
        "    {CATALOG_NAME}.{DATABASE_NAME}.NSRLMfg ON {CATALOG_NAME}.{DATABASE_NAME}.NSRLOS.MfgCode = {CATALOG_NAME}.{DATABASE_NAME}.NSRLMfg.MfgCode\n",
        "WHERE\n",
        "    `SHA-1` = '003f1b9a60927b2c429412cb4698907e0a0c68ce'\n",
        "\"\"\"\n",
        ").show()"
      ],
      "metadata": {
        "colab": {
          "base_uri": "https://localhost:8080/"
        },
        "id": "5gGIjzjEM9T9",
        "outputId": "162a63c7-6ab7-4412-95c8-20862941f0e6"
      },
      "execution_count": null,
      "outputs": [
        {
          "output_type": "stream",
          "name": "stdout",
          "text": [
            "+--------------------+--------------------+--------+-----------+--------+-----------+------------+-----------+-----------+--------------+--------------+------------+-------+--------+----------------+------------+------------+---------------+-------+-------+---------+\n",
            "|               SHA-1|                 MD5|   CRC32|   FileName|FileSize|ProductCode|OpSystemCode|SpecialCode|ProductCode|   ProductName|ProductVersion|OpSystemCode|MfgCode|Language| ApplicationType|OpSystemCode|OpSystemName|OpSystemVersion|MfgCode|MfgCode|  MfgName|\n",
            "+--------------------+--------------------+--------+-----------+--------+-----------+------------+-----------+-----------+--------------+--------------+------------+-------+--------+----------------+------------+------------+---------------+-------+-------+---------+\n",
            "|003f1b9a60927b2c4...|220a7215a63faa737...|5E9769BF|Desktop.ini|     798|      50047|        1010|       NULL|      50047|Windows 10 x86|         2015-|        1010|   5001|Japanese|Operating System|        1010|  Windows 10|             10|   5001|   5001|Microsoft|\n",
            "+--------------------+--------------------+--------+-----------+--------+-----------+------------+-----------+-----------+--------------+--------------+------------+-------+--------+----------------+------------+------------+---------------+-------+-------+---------+\n",
            "\n"
          ]
        }
      ]
    },
    {
      "cell_type": "code",
      "source": [
        "# パーティション（フォルダ）による最適化が走るクエリ\n",
        "spark.sql(\n",
        "    f\"\"\"\n",
        "SELECT\n",
        "    *\n",
        "FROM\n",
        "    {CATALOG_NAME}.{DATABASE_NAME}.NSRLFile\n",
        "LEFT JOIN\n",
        "    {CATALOG_NAME}.{DATABASE_NAME}.NSRLProd ON {CATALOG_NAME}.{DATABASE_NAME}.NSRLFile.ProductCode = {CATALOG_NAME}.{DATABASE_NAME}.NSRLProd.ProductCode\n",
        "LEFT JOIN\n",
        "    {CATALOG_NAME}.{DATABASE_NAME}.NSRLOS ON {CATALOG_NAME}.{DATABASE_NAME}.NSRLFile.OpSystemCode = {CATALOG_NAME}.{DATABASE_NAME}.NSRLOS.OpSystemCode\n",
        "LEFT JOIN\n",
        "    {CATALOG_NAME}.{DATABASE_NAME}.NSRLMfg ON {CATALOG_NAME}.{DATABASE_NAME}.NSRLOS.MfgCode = {CATALOG_NAME}.{DATABASE_NAME}.NSRLMfg.MfgCode\n",
        "WHERE\n",
        "    {CATALOG_NAME}.{DATABASE_NAME}.NSRLFile.`SHA-1` = '003f1b9a60927b2c429412cb4698907e0a0c68ce'\n",
        "AND\n",
        "    {CATALOG_NAME}.{DATABASE_NAME}.NSRLFile.OpSystemCode = '1010'\n",
        "\"\"\"\n",
        ").show()"
      ],
      "metadata": {
        "colab": {
          "base_uri": "https://localhost:8080/"
        },
        "id": "tUAn9thlpy-e",
        "outputId": "3c6832ff-6bf2-4be1-9f13-b548bc67578a"
      },
      "execution_count": null,
      "outputs": [
        {
          "output_type": "stream",
          "name": "stdout",
          "text": [
            "+--------------------+--------------------+--------+-----------+--------+-----------+------------+-----------+-----------+--------------+--------------+------------+-------+--------+----------------+------------+------------+---------------+-------+-------+---------+\n",
            "|               SHA-1|                 MD5|   CRC32|   FileName|FileSize|ProductCode|OpSystemCode|SpecialCode|ProductCode|   ProductName|ProductVersion|OpSystemCode|MfgCode|Language| ApplicationType|OpSystemCode|OpSystemName|OpSystemVersion|MfgCode|MfgCode|  MfgName|\n",
            "+--------------------+--------------------+--------+-----------+--------+-----------+------------+-----------+-----------+--------------+--------------+------------+-------+--------+----------------+------------+------------+---------------+-------+-------+---------+\n",
            "|003f1b9a60927b2c4...|220a7215a63faa737...|5E9769BF|Desktop.ini|     798|      50047|        1010|       NULL|      50047|Windows 10 x86|         2015-|        1010|   5001|Japanese|Operating System|        1010|  Windows 10|             10|   5001|   5001|Microsoft|\n",
            "+--------------------+--------------------+--------+-----------+--------+-----------+------------+-----------+-----------+--------------+--------------+------------+-------+--------+----------------+------------+------------+---------------+-------+-------+---------+\n",
            "\n"
          ]
        }
      ]
    },
    {
      "cell_type": "markdown",
      "source": [
        "## DuckDBによるクエリ"
      ],
      "metadata": {
        "id": "TwXdczvmy5hA"
      }
    },
    {
      "cell_type": "code",
      "source": [
        "# Extensionsをロード\n",
        "import duckdb\n",
        "duckdb.sql(\"\"\"\n",
        "INSTALL httpfs;\n",
        "INSTALL iceberg;\n",
        "LOAD iceberg;\n",
        "LOAD httpfs;\n",
        "\"\"\")\n",
        "\n",
        "# S3用クレデンシャルを作成\n",
        "\n",
        "duckdb.sql(f\"\"\"\n",
        "DROP SECRET IF EXISTS oci_storage;\n",
        "CREATE SECRET IF NOT EXISTS  oci_storage (\n",
        "    TYPE s3,\n",
        "    REGION '{S3A_REGION}',\n",
        "    ENDPOINT '{S3A_ENDPOINT}',\n",
        "    KEY_ID '{S3A_ACCESS_KEY}',\n",
        "    SECRET '{S3A_SECRET_KEY}',\n",
        "    URL_STYLE 'path'\n",
        ");\n",
        "\"\"\")"
      ],
      "metadata": {
        "colab": {
          "base_uri": "https://localhost:8080/"
        },
        "id": "S7SNsTQVrHDB",
        "outputId": "cdedb505-1a3f-43f6-d372-1268842d3251"
      },
      "execution_count": null,
      "outputs": [
        {
          "output_type": "execute_result",
          "data": {
            "text/plain": [
              "┌─────────┐\n",
              "│ Success │\n",
              "│ boolean │\n",
              "├─────────┤\n",
              "│ true    │\n",
              "└─────────┘"
            ]
          },
          "metadata": {},
          "execution_count": 112
        }
      ]
    },
    {
      "cell_type": "code",
      "source": [
        "# 通常のクエリ\n",
        "duckdb.sql(\"\"\"\n",
        "WITH NSRLFile AS (\n",
        "    SELECT\n",
        "        *\n",
        "    FROM\n",
        "        iceberg_scan(\n",
        "            's3://datalakehouse/iceberg/NSRLJP/NSRLFile',\n",
        "            allow_moved_paths = true\n",
        "        )\n",
        "), NSRLProd AS (\n",
        "    SELECT\n",
        "        *\n",
        "    FROM\n",
        "        iceberg_scan(\n",
        "            's3://datalakehouse/iceberg/NSRLJP/NSRLProd',\n",
        "            allow_moved_paths = true\n",
        "        )\n",
        "), NSRLOS AS (\n",
        "    SELECT\n",
        "        *\n",
        "    FROM\n",
        "        iceberg_scan(\n",
        "            's3://datalakehouse/iceberg/NSRLJP/NSRLOS',\n",
        "            allow_moved_paths = true\n",
        "        )\n",
        "), NSRLMfg AS (\n",
        "    SELECT\n",
        "        *\n",
        "    FROM\n",
        "        iceberg_scan(\n",
        "            's3://datalakehouse/iceberg/NSRLJP/NSRLMfg',\n",
        "            allow_moved_paths = true\n",
        "        )\n",
        ")\n",
        "SELECT\n",
        "    *\n",
        "FROM\n",
        "    NSRLFile\n",
        "LEFT JOIN\n",
        "    NSRLProd ON NSRLFile.ProductCode = NSRLProd.ProductCode\n",
        "LEFT JOIN\n",
        "    NSRLOS ON NSRLFile.OpSystemCode = NSRLOS.OpSystemCode\n",
        "LEFT JOIN\n",
        "    NSRLMfg ON NSRLOS.MfgCode = NSRLMfg.MfgCode\n",
        "WHERE\n",
        "    NSRLFile.\"SHA-1\" = '003f1b9a60927b2c429412cb4698907e0a0c68ce'\n",
        "\"\"\")"
      ],
      "metadata": {
        "colab": {
          "base_uri": "https://localhost:8080/",
          "height": 283,
          "referenced_widgets": [
            "301a18fc6f394ffda55ba574d32ab499",
            "0011590cfa1d49799c4000085f6972b6",
            "041705fc600e40dbb32a26356988b02a"
          ]
        },
        "id": "h9fCs_mT4rg7",
        "outputId": "2f7d2ade-adb1-4938-8901-7d8ed5a5d49a"
      },
      "execution_count": null,
      "outputs": [
        {
          "output_type": "display_data",
          "data": {
            "text/plain": [
              "FloatProgress(value=0.0, layout=Layout(width='auto'), style=ProgressStyle(bar_color='black'))"
            ],
            "application/vnd.jupyter.widget-view+json": {
              "version_major": 2,
              "version_minor": 0,
              "model_id": "301a18fc6f394ffda55ba574d32ab499"
            }
          },
          "metadata": {}
        },
        {
          "output_type": "execute_result",
          "data": {
            "text/plain": [
              "┌──────────────────────────────────────────┬──────────────────────────────────┬──────────┬─────────────┬──────────┬─────────────┬──────────────┬─────────────┬─────────────┬────────────────┬────────────────┬──────────────┬─────────┬──────────┬──────────────────┬──────────────┬──────────────┬─────────────────┬─────────┬─────────┬───────────┐\n",
              "│                  SHA-1                   │               MD5                │  CRC32   │  FileName   │ FileSize │ ProductCode │ OpSystemCode │ SpecialCode │ ProductCode │  ProductName   │ ProductVersion │ OpSystemCode │ MfgCode │ Language │ ApplicationType  │ OpSystemCode │ OpSystemName │ OpSystemVersion │ MfgCode │ MfgCode │  MfgName  │\n",
              "│                 varchar                  │             varchar              │ varchar  │   varchar   │ varchar  │   varchar   │   varchar    │   varchar   │   varchar   │    varchar     │    varchar     │   varchar    │ varchar │ varchar  │     varchar      │   varchar    │   varchar    │     varchar     │ varchar │ varchar │  varchar  │\n",
              "├──────────────────────────────────────────┼──────────────────────────────────┼──────────┼─────────────┼──────────┼─────────────┼──────────────┼─────────────┼─────────────┼────────────────┼────────────────┼──────────────┼─────────┼──────────┼──────────────────┼──────────────┼──────────────┼─────────────────┼─────────┼─────────┼───────────┤\n",
              "│ 003f1b9a60927b2c429412cb4698907e0a0c68ce │ 220a7215a63faa737f49f2d5e6a6f8ca │ 5E9769BF │ Desktop.ini │ 798      │ 50047       │ 1010         │ NULL        │ 50047       │ Windows 10 x86 │ 2015-          │ 1010         │ 5001    │ Japanese │ Operating System │ 1010         │ Windows 10   │ 10              │ 5001    │ 5001    │ Microsoft │\n",
              "└──────────────────────────────────────────┴──────────────────────────────────┴──────────┴─────────────┴──────────┴─────────────┴──────────────┴─────────────┴─────────────┴────────────────┴────────────────┴──────────────┴─────────┴──────────┴──────────────────┴──────────────┴──────────────┴─────────────────┴─────────┴─────────┴───────────┘"
            ]
          },
          "metadata": {},
          "execution_count": 121
        }
      ]
    },
    {
      "cell_type": "code",
      "source": [
        "# パーティション（フォルダ）による最適化が走るクエリ\n",
        "duckdb.sql(\"\"\"\n",
        "WITH NSRLFile AS (\n",
        "    SELECT\n",
        "        *\n",
        "    FROM\n",
        "        iceberg_scan(\n",
        "            's3://datalakehouse/iceberg/NSRLJP/NSRLFile',\n",
        "            allow_moved_paths = true\n",
        "        )\n",
        "), NSRLProd AS (\n",
        "    SELECT\n",
        "        *\n",
        "    FROM\n",
        "        iceberg_scan(\n",
        "            's3://datalakehouse/iceberg/NSRLJP/NSRLProd',\n",
        "            allow_moved_paths = true\n",
        "        )\n",
        "), NSRLOS AS (\n",
        "    SELECT\n",
        "        *\n",
        "    FROM\n",
        "        iceberg_scan(\n",
        "            's3://datalakehouse/iceberg/NSRLJP/NSRLOS',\n",
        "            allow_moved_paths = true\n",
        "        )\n",
        "), NSRLMfg AS (\n",
        "    SELECT\n",
        "        *\n",
        "    FROM\n",
        "        iceberg_scan(\n",
        "            's3://datalakehouse/iceberg/NSRLJP/NSRLMfg',\n",
        "            allow_moved_paths = true\n",
        "        )\n",
        ")\n",
        "SELECT\n",
        "    *\n",
        "FROM\n",
        "    NSRLFile\n",
        "LEFT JOIN\n",
        "    NSRLProd ON NSRLFile.ProductCode = NSRLProd.ProductCode\n",
        "LEFT JOIN\n",
        "    NSRLOS ON NSRLFile.OpSystemCode = NSRLOS.OpSystemCode\n",
        "LEFT JOIN\n",
        "    NSRLMfg ON NSRLOS.MfgCode = NSRLMfg.MfgCode\n",
        "WHERE\n",
        "    NSRLFile.\"SHA-1\" = '003f1b9a60927b2c429412cb4698907e0a0c68ce'\n",
        "AND\n",
        "    NSRLFile.OpSystemCode = '1010'\n",
        "\"\"\")"
      ],
      "metadata": {
        "colab": {
          "base_uri": "https://localhost:8080/",
          "height": 283,
          "referenced_widgets": [
            "cb07f87a35ef49b9897adbd089bc6ccb",
            "5cf260364217438791819a0e81ab2cd8",
            "24752109e57344d1817713c003190329"
          ]
        },
        "id": "9i0S4Ds_zE3N",
        "outputId": "f6c108f2-a803-4dda-e52c-c3385c8b27af"
      },
      "execution_count": null,
      "outputs": [
        {
          "output_type": "display_data",
          "data": {
            "text/plain": [
              "FloatProgress(value=0.0, layout=Layout(width='auto'), style=ProgressStyle(bar_color='black'))"
            ],
            "application/vnd.jupyter.widget-view+json": {
              "version_major": 2,
              "version_minor": 0,
              "model_id": "cb07f87a35ef49b9897adbd089bc6ccb"
            }
          },
          "metadata": {}
        },
        {
          "output_type": "execute_result",
          "data": {
            "text/plain": [
              "┌──────────────────────────────────────────┬──────────────────────────────────┬──────────┬─────────────┬──────────┬─────────────┬──────────────┬─────────────┬─────────────┬────────────────┬────────────────┬──────────────┬─────────┬──────────┬──────────────────┬──────────────┬──────────────┬─────────────────┬─────────┬─────────┬───────────┐\n",
              "│                  SHA-1                   │               MD5                │  CRC32   │  FileName   │ FileSize │ ProductCode │ OpSystemCode │ SpecialCode │ ProductCode │  ProductName   │ ProductVersion │ OpSystemCode │ MfgCode │ Language │ ApplicationType  │ OpSystemCode │ OpSystemName │ OpSystemVersion │ MfgCode │ MfgCode │  MfgName  │\n",
              "│                 varchar                  │             varchar              │ varchar  │   varchar   │ varchar  │   varchar   │   varchar    │   varchar   │   varchar   │    varchar     │    varchar     │   varchar    │ varchar │ varchar  │     varchar      │   varchar    │   varchar    │     varchar     │ varchar │ varchar │  varchar  │\n",
              "├──────────────────────────────────────────┼──────────────────────────────────┼──────────┼─────────────┼──────────┼─────────────┼──────────────┼─────────────┼─────────────┼────────────────┼────────────────┼──────────────┼─────────┼──────────┼──────────────────┼──────────────┼──────────────┼─────────────────┼─────────┼─────────┼───────────┤\n",
              "│ 003f1b9a60927b2c429412cb4698907e0a0c68ce │ 220a7215a63faa737f49f2d5e6a6f8ca │ 5E9769BF │ Desktop.ini │ 798      │ 50047       │ 1010         │ NULL        │ 50047       │ Windows 10 x86 │ 2015-          │ 1010         │ 5001    │ Japanese │ Operating System │ 1010         │ Windows 10   │ 10              │ 5001    │ 5001    │ Microsoft │\n",
              "└──────────────────────────────────────────┴──────────────────────────────────┴──────────┴─────────────┴──────────┴─────────────┴──────────────┴─────────────┴─────────────┴────────────────┴────────────────┴──────────────┴─────────┴──────────┴──────────────────┴──────────────┴──────────────┴─────────────────┴─────────┴─────────┴───────────┘"
            ]
          },
          "metadata": {},
          "execution_count": 122
        }
      ]
    },
    {
      "cell_type": "code",
      "source": [],
      "metadata": {
        "id": "VAjci4kU60l-"
      },
      "execution_count": null,
      "outputs": []
    }
  ]
}