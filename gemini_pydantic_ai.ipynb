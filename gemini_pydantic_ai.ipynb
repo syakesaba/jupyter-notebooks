{
  "nbformat": 4,
  "nbformat_minor": 0,
  "metadata": {
    "colab": {
      "provenance": [],
      "include_colab_link": true
    },
    "kernelspec": {
      "name": "python3",
      "display_name": "Python 3"
    },
    "language_info": {
      "name": "python"
    }
  },
  "cells": [
    {
      "cell_type": "markdown",
      "metadata": {
        "id": "view-in-github",
        "colab_type": "text"
      },
      "source": [
        "<a href=\"https://colab.research.google.com/github/syakesaba/jupyter-notebooks/blob/main/gemini_pydantic_ai.ipynb\" target=\"_parent\"><img src=\"https://colab.research.google.com/assets/colab-badge.svg\" alt=\"Open In Colab\"/></a>"
      ]
    },
    {
      "cell_type": "markdown",
      "source": [
        "# 初回実行必要"
      ],
      "metadata": {
        "id": "QPedvJQbzqvc"
      }
    },
    {
      "cell_type": "code",
      "source": [
        "!pip install -qq pydantic_ai nest_asyncio\n",
        "import nest_asyncio\n",
        "nest_asyncio.apply() # Google Colab自体がasyncio配下で動いているのでネストさせる。\n",
        "from google.colab import userdata\n",
        "GOOGLE_API_KEY=userdata.get(\"GOOGLE_API_KEY\") # Secrets（🔑）からGOOGLE_API_KEYをNotebook access可能にする\n",
        "import os\n",
        "os.environ[\"GEMINI_API_KEY\"] = GOOGLE_API_KEY"
      ],
      "metadata": {
        "id": "CgPmAsSvPZYS"
      },
      "execution_count": 3,
      "outputs": []
    },
    {
      "cell_type": "markdown",
      "source": [
        "# 通常のプロンプト\n"
      ],
      "metadata": {
        "id": "ZwWD7D-65zLK"
      }
    },
    {
      "cell_type": "code",
      "source": [
        "from pydantic_ai import Agent\n",
        "from pydantic_ai.models.gemini import GeminiModel\n",
        "from pydantic import BaseModel\n",
        "\n",
        "model = GeminiModel(\"gemini-2.0-flash\")\n",
        "\n",
        "# デフォルトでは文字列が返ってくる上に、最後に改行が入ってくる\n",
        "agent = Agent(model=model)\n",
        "result = await agent.run(\"1+1=?\")\n",
        "print(result.data)\n",
        "\n",
        "# === 応答の型の変更 ===\n",
        "\n",
        "# 強制的に数字で返させることも可能\n",
        "agent = Agent(model=model, result_type=int)\n",
        "result = await agent.run(\"1+1=?\")\n",
        "print(result.data) # 2 が数字で返ってくる\n",
        "agent = Agent(model=model, result_type=int)\n",
        "result = await agent.run(\"水曜日の次は何曜日？\")\n",
        "print(result.data) # これもなんとかして数字で返そうとしてくる。日曜日は0、月曜日は1、といった塩梅である。\n",
        "\n",
        "# run実行時にさらに強制的に文字列で返させることも可能\n",
        "agent = Agent(model=model, result_type=int)\n",
        "result = await agent.run(\"土曜日の次は何曜日？\", result_type=str)\n",
        "print(result.data) # 文字列で返される。最後に改行が入ってくる\n",
        "\n",
        "# 構造体も可能。この場合、変数名が意味を持つので注意が必要。\n",
        "class Answer(BaseModel):\n",
        "    曜日: str\n",
        "    日付: int\n",
        "agent = Agent(model=model, result_type=Answer)\n",
        "result = await agent.run(\"土曜日が12日だとして、その4日後は何曜日の何日？\")\n",
        "print(result.data.曜日, result.data.日付)"
      ],
      "metadata": {
        "colab": {
          "base_uri": "https://localhost:8080/"
        },
        "id": "xzDUxVEBQKoP",
        "outputId": "5aeca410-0855-4193-ed67-cd3d239f7978"
      },
      "execution_count": 4,
      "outputs": [
        {
          "output_type": "stream",
          "name": "stdout",
          "text": [
            "1 + 1 = 2\n",
            "\n",
            "2\n",
            "4\n",
            "土曜日の次は日曜日です。\n",
            "\n",
            "水曜日 16\n"
          ]
        }
      ]
    },
    {
      "cell_type": "code",
      "source": [
        "from pydantic_ai import Agent, ModelRetry\n",
        "from pydantic_ai.models.gemini import GeminiModel\n",
        "\n",
        "from pydantic import BaseModel, StringConstraints\n",
        "from typing import Annotated\n",
        "\n",
        "model = GeminiModel(\"gemini-2.0-flash\")\n",
        "\n",
        "# === 応答の型の変更 (制限付き応答) ===\n",
        "\n",
        "class Answer(BaseModel):\n",
        "    曜日: Annotated[str, StringConstraints(max_length=2)] # 曜日を2文字以内で表現するように制限\n",
        "    日付: int\n",
        "\n",
        "agent = Agent(model=model, result_type=Answer)\n",
        "result = await agent.run(\"土曜日が12日だとして、その4日後は何曜日の何日？\")\n",
        "print(result.data.曜日, result.data.日付)\n",
        "\n",
        "class Answer(BaseModel):\n",
        "    曜日: Annotated[str, StringConstraints(pattern=\"^.曜日$\")] # \"水曜日\" という表現に制限\n",
        "    日付: int\n",
        "\n",
        "agent = Agent(model=model, result_type=Answer)\n",
        "result = await agent.run(\"土曜日が12日だとして、その4日後は何曜日の何日？\")\n",
        "print(result.data.曜日, result.data.日付)"
      ],
      "metadata": {
        "colab": {
          "base_uri": "https://localhost:8080/"
        },
        "id": "C4lZkKwO6jtr",
        "outputId": "d96d37b9-c84c-4c16-818b-4a1af8bbac8a"
      },
      "execution_count": 6,
      "outputs": [
        {
          "output_type": "stream",
          "name": "stdout",
          "text": [
            "水 16\n",
            "水曜日 16\n"
          ]
        }
      ]
    },
    {
      "cell_type": "markdown",
      "source": [
        "# システムプロンプト"
      ],
      "metadata": {
        "id": "aVTSNqpYzPcH"
      }
    },
    {
      "cell_type": "code",
      "source": [
        "from pydantic_ai import Agent, RunContext\n",
        "from pydantic_ai.models.gemini import GeminiModel\n",
        "\n",
        "model = GeminiModel(\"gemini-2.0-flash\")\n",
        "\n",
        "# デコレータを使い、動的にシステムプロンプトを付与する場合\n",
        "agent = Agent(model=model)\n",
        "@agent.system_prompt\n",
        "async def 入れ知恵(ctx: RunContext[None]) -> str:\n",
        "    return \"あなたはカラスの専門家です。\"\n",
        "result = await agent.run(\"多くのカラスは黒いですか？\")\n",
        "print(result.data)\n",
        "\n",
        "# 静的にエージェントにシステムプロンプトを付与する場合\n",
        "agent = Agent(model=model, system_prompt=\"あなたは逆のことを伝えるAIエージェントです。\")\n",
        "result = await agent.run(\"多くのカラスは黒いですか？\")\n",
        "print(result.data)\n",
        "\n"
      ],
      "metadata": {
        "colab": {
          "base_uri": "https://localhost:8080/"
        },
        "id": "cL_NAQCxWW3f",
        "outputId": "4f993dea-4046-49f4-e6ed-c09f77142601"
      },
      "execution_count": 7,
      "outputs": [
        {
          "output_type": "stream",
          "name": "stdout",
          "text": [
            "はい、多くのカラスは黒いです。\n",
            "\n",
            "ただし、「カラス」と呼ばれる鳥は世界中に様々な種類がおり、その全てが黒いわけではありません。\n",
            "\n",
            "*   **ハシブトガラス、ハシボソガラス**: 日本でよく見られるカラスで、全身が黒い羽毛に覆われています。\n",
            "*   **ミヤマガラス**: こちらも日本で見られますが、成鳥になると嘴の根元が白っぽくなります。\n",
            "*   **ワタリガラス**: 世界最大級のカラスで、全身が黒く、金属光沢があります。\n",
            "*   **ニュウギニアガラス**: 全身が黒いですが、目の周りの皮膚が青色をしています。\n",
            "*   **カササギ**: 白と黒のツートンカラーのカラスで、ユーラシア大陸に広く分布しています。\n",
            "*   **アオカケス**: 青い羽毛を持つ美しいカラスで、北米に生息しています。\n",
            "\n",
            "このように、カラスの種類によって体の色は様々です。しかし、一般的に「カラス」としてイメージされるのは、全身が黒いハシブトガラスやハシボソガラスであることが多いため、「多くのカラスは黒い」と言えます。\n",
            "いいえ、カラスは黒くないものはたくさんいます。\n"
          ]
        }
      ]
    },
    {
      "cell_type": "markdown",
      "source": [
        "# Deps"
      ],
      "metadata": {
        "id": "5DFhZgypzScR"
      }
    },
    {
      "cell_type": "code",
      "source": [
        "from pydantic import BaseModel\n",
        "from pydantic_ai import Agent, RunContext\n",
        "from pydantic_ai.models.gemini import GeminiModel\n",
        "\n",
        "model = GeminiModel(\"gemini-2.0-flash\")\n",
        "\n",
        "class Species(BaseModel):\n",
        "    名前: str\n",
        "    色: str\n",
        "\n",
        "class Answer(BaseModel):\n",
        "    回答: bool\n",
        "    補足事項: str\n",
        "\n",
        "agent = Agent(model=model, deps_type=Species, result_type=Answer)\n",
        "@agent.system_prompt\n",
        "async def 入れ知恵(ctx: RunContext[Species]) -> str:\n",
        "    return f\"あなたは{ctx.deps.名前}の専門家です。\" # 変数化することで、この関数の単体テストがしやすくなる。\n",
        "\n",
        "species = Species(名前=\"カラス\", 色=\"黒い\")\n",
        "result = await agent.run(f\"多くの{species.名前}は{species.色}ですか？\", deps=species) #\n",
        "print(result.data.回答)\n",
        "print(result.data.補足事項)\n",
        "\n",
        "species = Species(名前=\"サイコロ\", 色=\"白い\") # 変数化することで、プロンプトの再利用もしやすくなる。\n",
        "result = await agent.run(f\"多くの{species.名前}は{species.色}ですか？\", deps=species) #\n",
        "print(result.data.回答)\n",
        "print(result.data.補足事項)"
      ],
      "metadata": {
        "id": "DjwwXd2fxc8M",
        "colab": {
          "base_uri": "https://localhost:8080/"
        },
        "outputId": "d121b474-c6bf-46a1-9e7e-aebb083ec438"
      },
      "execution_count": 8,
      "outputs": [
        {
          "output_type": "stream",
          "name": "stdout",
          "text": [
            "True\n",
            "はい、ほとんどのカラスは黒いです。\n",
            "True\n",
            "多くのサイコロは白いです。\n"
          ]
        }
      ]
    },
    {
      "cell_type": "markdown",
      "source": [
        "# Tool"
      ],
      "metadata": {
        "id": "Pq1M9PjczU8S"
      }
    },
    {
      "cell_type": "code",
      "source": [
        "import datetime\n",
        "import zoneinfo\n",
        "from typing import Annotated\n",
        "from pydantic_ai import Agent, RunContext\n",
        "from pydantic_ai.models.gemini import GeminiModel\n",
        "from pydantic import BaseModel, StringConstraints\n",
        "\n",
        "model = GeminiModel(\"gemini-2.0-flash\")\n",
        "\n",
        "agent = Agent(model=model)\n",
        "@agent.tool_plain\n",
        "def get_today_date() -> str:\n",
        "    \"\"\"get today date as format \"%04Y-%02m-%02d\" in UTC\"\"\"\n",
        "    now = datetime.datetime.now(tz=datetime.timezone.utc)\n",
        "    return now.strftime(\"%04Y-%02m-%02d\")\n",
        "\n",
        "result = await agent.run(\"今日はUTCで何日？\")\n",
        "print(result.data)\n",
        "\n",
        "# === toolとdepsの組み合わせ ===\n",
        "\n",
        "class Timezone(BaseModel):\n",
        "    tzname: Annotated[str, StringConstraints(pattern=\"|\".join(zoneinfo.available_timezones()))]\n",
        "\n",
        "agent = Agent(model=model, deps_type=Timezone)\n",
        "\n",
        "@agent.tool\n",
        "def get_now_time(ctx: RunContext[Timezone]) -> str:\n",
        "    \"\"\"get now time as format \"%02H-%02M-%02S\" \"\"\"\n",
        "    now = datetime.datetime.now(tz=zoneinfo.ZoneInfo(ctx.deps.tzname))\n",
        "    return now.strftime(\"%02H-%02M-%02S\")\n",
        "\n",
        "tz = Timezone(tzname=\"Asia/Tokyo\")\n",
        "result = await agent.run(\"今何時ですか？\", deps=tz)\n",
        "print(result.data) # JSTで帰って来る\n",
        "\n",
        "tz = Timezone(tzname=\"UTC\")\n",
        "result = await agent.run(\"今何時ですか？\", deps=tz)\n",
        "print(result.data) # UTCで帰って来る\n"
      ],
      "metadata": {
        "colab": {
          "base_uri": "https://localhost:8080/"
        },
        "id": "OMZmbC8TuqrH",
        "outputId": "6bbdd962-15ce-4bb9-bcc2-59ae2147af23"
      },
      "execution_count": 9,
      "outputs": [
        {
          "output_type": "stream",
          "name": "stdout",
          "text": [
            "今日はUTCで2025-03-26です。\n",
            "\n",
            "現在、20時24分30秒です。\n",
            "現在、11時24分31秒です。\n"
          ]
        }
      ]
    },
    {
      "cell_type": "markdown",
      "source": [
        "# Message History"
      ],
      "metadata": {
        "id": "4zZhAa9MzX8d"
      }
    },
    {
      "cell_type": "code",
      "source": [
        "from pydantic_ai import Agent\n",
        "from pydantic_ai.models.gemini import GeminiModel\n",
        "from pydantic_ai.messages import (\n",
        "    ModelRequest,\n",
        "    ModelResponse,\n",
        "    UserPromptPart,\n",
        "    SystemPromptPart,\n",
        "    TextPart\n",
        ")\n",
        "\n",
        "model = GeminiModel(\"gemini-2.0-flash\")\n",
        "\n",
        "# === 連続的な会話のプロンプト ===\n",
        "\n",
        "agent = Agent(model=model, system_prompt=\"あなたは数学者です。\")\n",
        "result = await agent.run(\"1+1=?\")\n",
        "messages = result.all_messages()\n",
        "result = await agent.run(\"それに2を掛けると？\", message_history=messages,)\n",
        "print(result.data)\n",
        "\n",
        "# Langchainのように途中の会話を改ざんすることも可能 詳細は https://ai.pydantic.dev/api/messages/\n",
        "forged_messages = [\n",
        "    ModelRequest(parts=[SystemPromptPart(content=\"あなたはしりとりのエキスパートです。\"), UserPromptPart(content=\"しりとり\")]),\n",
        "    ModelResponse(parts=[TextPart(content=\"りんり\"),]),\n",
        "    ModelRequest(parts=[UserPromptPart(content=\"りか\")]),\n",
        "    ModelResponse(parts=[TextPart(content=\"かりん\"),]),\n",
        "]\n",
        "result = await agent.run(\"「かりん」は「ん」で終わります。あなたの負けです\", message_history=forged_messages)\n",
        "print(result.data)"
      ],
      "metadata": {
        "id": "j2p0e24sA0Md",
        "colab": {
          "base_uri": "https://localhost:8080/"
        },
        "outputId": "b54bee0f-aeae-4e59-d2d2-61004a0c8f69"
      },
      "execution_count": 10,
      "outputs": [
        {
          "output_type": "stream",
          "name": "stdout",
          "text": [
            "2に2を掛けると4になります。\n",
            "\n",
            "大変失礼いたしました。「かりん」で終わってしまいましたね。私の負けです。\n",
            "\n",
            "改めて、しりとりをお願いします。\n",
            "何か言葉を頂けますでしょうか？\n",
            "\n"
          ]
        }
      ]
    },
    {
      "cell_type": "markdown",
      "source": [
        "Multi-Agent-Systems"
      ],
      "metadata": {
        "id": "W-eB7pKuza0Q"
      }
    },
    {
      "cell_type": "code",
      "source": [
        "import random\n",
        "from typing import Annotated, Optional\n",
        "from pydantic_ai import Agent, RunContext\n",
        "from pydantic_ai.models.gemini import GeminiModel\n",
        "from pydantic import BaseModel, StringConstraints\n",
        "from dataclasses import dataclass\n",
        "\n",
        "model = GeminiModel(\"gemini-2.0-flash\")\n",
        "\n",
        "# 呼び出すAgentが固定的である場合、オーケストレーターは不要\n",
        "\n",
        "@dataclass\n",
        "class JankenResult:\n",
        "    result: Annotated[str, StringConstraints(pattern=\"^(グー|チョキ|パー)$\")] | None\n",
        "\n",
        "@dataclass\n",
        "class JankenResults:\n",
        "    mario: JankenResult\n",
        "    luigi: JankenResult\n",
        "\n",
        "mario = Agent(\n",
        "    model=model, name=\"Mario\",\n",
        "    system_prompt=\"あなたはジャンケンをするAIエージェントです。\"\n",
        "                  \"'get_janken' toolを使用し、ジャンケンで「グー」、「チョキ」、「パー」のどれかをランダムに出します。\",\n",
        "    deps_type=None, result_type=JankenResult\n",
        ")\n",
        "luigi = Agent(\n",
        "    model=model, name=\"Luigi\",\n",
        "    system_prompt=\"あなたはジャンケンをするAIエージェントです。\"\n",
        "                  \"'get_janken' toolを使用し、ジャンケンで「グー」、「チョキ」、「パー」のどれかをランダムに出します。\",\n",
        "    deps_type=None, result_type=JankenResult\n",
        ")\n",
        "peach = Agent(\n",
        "    model=model, name=\"Peach\",\n",
        "    system_prompt=\"あなたはジャンケン勝負の結果を出力するAIエージェントです。\"\n",
        "                  \"'prompt_janken' toolを使用し、ジャンケン勝負の結果と勝敗を出力してください。\",\n",
        "    deps_type=JankenResults, result_type=str\n",
        ")\n",
        "\n",
        "yoshi = Agent(\n",
        "    model=model, name=\"Yoshi\",\n",
        "    system_prompt=\"あなたは親切なAIエージェントです。\"\n",
        "                  \"get_janken_results' toolを使用し結果を教えてください。\",\n",
        "    deps_type=None, result_type=str\n",
        ")\n",
        "\n",
        "@mario.tool\n",
        "def get_janken(ctx: RunContext[None]) -> str:\n",
        "    return random.choice([\"グー\", \"チョキ\", \"パー\"])\n",
        "\n",
        "@luigi.tool\n",
        "def get_janken(ctx: RunContext[None]) -> str:\n",
        "    return random.choice([\"グー\", \"チョキ\", \"パー\"])\n",
        "\n",
        "@peach.tool\n",
        "async def prompt_janken(ctx: RunContext[None]) -> str:\n",
        "    mario_response = await mario.run(\n",
        "        f'ジャンケン、',\n",
        "        usage=ctx.usage,\n",
        "    )\n",
        "    luigi_response = await luigi.run(\n",
        "        f'ジャンケン、',\n",
        "        usage=ctx.usage,\n",
        "    )\n",
        "    jankenResults = JankenResults(mario=mario_response.data, luigi=luigi_response.data)\n",
        "    print(jankenResults)\n",
        "    if jankenResults.mario.result == \"グー\" and jankenResults.luigi.result == \"グー\":\n",
        "        return \"双方グーで引き分けです。\"\n",
        "    elif jankenResults.mario.result == \"グー\" and jankenResults.luigi.result == \"チョキ\":\n",
        "        return \"Marioがグーで勝ちです。\"\n",
        "    elif jankenResults.mario.result == \"グー\" and jankenResults.luigi.result == \"パー\":\n",
        "        return \"Luigiがパーで勝ちです。\"\n",
        "    elif jankenResults.mario.result == \"チョキ\" and jankenResults.luigi.result == \"グー\":\n",
        "        return \"Luigiがグーで勝ちです。\"\n",
        "    elif jankenResults.mario.result == \"チョキ\" and jankenResults.luigi.result == \"チョキ\":\n",
        "        return \"双方チョキで引き分けです。\"\n",
        "    elif jankenResults.mario.result == \"チョキ\" and jankenResults.luigi.result == \"パー\":\n",
        "        return \"Marioがチョキで勝ちです。\"\n",
        "    elif jankenResults.mario.result == \"パー\" and jankenResults.luigi.result == \"グー\":\n",
        "        return \"Marioがパーで勝ちです。\"\n",
        "    elif jankenResults.mario.result == \"パー\" and jankenResults.luigi.result == \"チョキ\":\n",
        "        return \"Luigiがチョキで勝ちです。\"\n",
        "    elif jankenResults.mario.result == \"パー\" and jankenResults.luigi.result == \"パー\":\n",
        "        return \"双方パーで引き分けです。\"\n",
        "    else:\n",
        "        return \"不明な結果です。\"\n",
        "\n",
        "@yoshi.tool\n",
        "async def get_janken_results(ctx: RunContext[None]) -> str:\n",
        "    response = await peach.run(\"ジャンケン勝負の結果と勝敗を出力してください\", usage=ctx.usage)\n",
        "    return response.data\n",
        "\n",
        "result = await yoshi.run(\"どちらがどの手を出したかと、勝敗を教えて下さい。\", deps=None, result_type=str)\n",
        "print(result.data)"
      ],
      "metadata": {
        "id": "fy3vrm8q9k66",
        "colab": {
          "base_uri": "https://localhost:8080/"
        },
        "outputId": "a6400599-bd78-40fe-845c-b2d1a25c7585"
      },
      "execution_count": 11,
      "outputs": [
        {
          "output_type": "stream",
          "name": "stdout",
          "text": [
            "JankenResults(mario=JankenResult(result='グー'), luigi=JankenResult(result='グー'))\n",
            "双方グーで引き分けです。\n",
            "\n"
          ]
        }
      ]
    },
    {
      "cell_type": "markdown",
      "source": [
        "# Image and Audio\n",
        "\n",
        "---\n",
        "\n"
      ],
      "metadata": {
        "id": "K2GAdGMi5tCy"
      }
    },
    {
      "cell_type": "code",
      "source": [
        "# 画像認識\n",
        "import httpx\n",
        "from pydantic_ai import Agent, BinaryContent\n",
        "from pydantic_ai.models.gemini import GeminiModel\n",
        "\n",
        "image_response = httpx.get('http://www.sakado-jigenji.jp/images/k_logo.png')\n",
        "model = GeminiModel(\"gemini-2.0-flash\")\n",
        "agent = Agent(model=model)\n",
        "result = await agent.run(\n",
        "    [\n",
        "        'これは何？',\n",
        "        BinaryContent(data=image_response.content, media_type='image/png'),  # だいたいの画像に対応している\n",
        "    ]\n",
        ")\n",
        "print(result.data)\n",
        "\n",
        "# 音声認識\n",
        "\n",
        "import httpx\n",
        "from pydantic_ai import Agent, BinaryContent\n",
        "from pydantic_ai.models.gemini import GeminiModel\n",
        "\n",
        "audio_response = httpx.get('http://www.sakado-jigenji.jp/dl/pannyashingyou16.mp3')\n",
        "model = GeminiModel(\"gemini-2.0-flash\")\n",
        "agent = Agent(model=model)\n",
        "result = await agent.run(\n",
        "    [\n",
        "        '文字起こししてください',\n",
        "        BinaryContent(data=audio_response.content, media_type='audio/mpeg'), # mp3, wavに対応しているみたい。\n",
        "    ]\n",
        ")\n",
        "print(result.data)\n"
      ],
      "metadata": {
        "id": "2YO9PsLokdk2",
        "colab": {
          "base_uri": "https://localhost:8080/"
        },
        "outputId": "dd74c297-440a-4888-ad9c-fa9cb20ce45b"
      },
      "execution_count": 14,
      "outputs": [
        {
          "output_type": "stream",
          "name": "stdout",
          "text": [
            "これは、真言宗智山派の慈眼寺（ジゲンジ）というお寺の看板です。\n",
            "無瀬深迦般若波羅蜜多経。\n",
            "観自在菩薩行深般若波羅蜜多時照見五蘊皆空度一切苦厄舎利子、色不異空、空不異色、色即是空、空即是色、受想行識亦復如是舎利子是諸法空相不生不滅不垢不浄不増不減是故空中無色無受想行識無眼耳鼻舌身意無色声香味触法無眼界乃至無意識界無無明亦無無明盡乃至無老死亦無老死盡無苦集滅道無智亦無得以無所得故。\n",
            "菩提薩埵依般若波羅蜜多故心無圭礙無圭礙故無有恐怖遠離一切顛倒夢想究竟涅槃三世諸仏依般若波羅蜜多故得阿耨多羅三藐三菩提故知般若波羅蜜多是大神呪是大明呪是無上呪是無等等呪能除一切苦真実不虚故説般若波羅蜜多呪即説呪曰羯諦羯諦波羅羯諦波羅僧羯諦菩提薩婆訶般若心経。\n",
            "\n"
          ]
        }
      ]
    },
    {
      "cell_type": "code",
      "source": [],
      "metadata": {
        "id": "clIxyze2cHFj"
      },
      "execution_count": null,
      "outputs": []
    }
  ]
}