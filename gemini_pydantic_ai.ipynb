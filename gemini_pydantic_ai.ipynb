{
  "nbformat": 4,
  "nbformat_minor": 0,
  "metadata": {
    "colab": {
      "provenance": [],
      "include_colab_link": true
    },
    "kernelspec": {
      "name": "python3",
      "display_name": "Python 3"
    },
    "language_info": {
      "name": "python"
    }
  },
  "cells": [
    {
      "cell_type": "markdown",
      "metadata": {
        "id": "view-in-github",
        "colab_type": "text"
      },
      "source": [
        "<a href=\"https://colab.research.google.com/github/syakesaba/jupyter-notebooks/blob/main/gemini_pydantic_ai.ipynb\" target=\"_parent\"><img src=\"https://colab.research.google.com/assets/colab-badge.svg\" alt=\"Open In Colab\"/></a>"
      ]
    },
    {
      "cell_type": "markdown",
      "source": [
        "# 初回実行必要"
      ],
      "metadata": {
        "id": "QPedvJQbzqvc"
      }
    },
    {
      "cell_type": "code",
      "source": [
        "!pip install -qq pydantic_ai nest_asyncio\n",
        "import nest_asyncio\n",
        "nest_asyncio.apply() # Google Colab自体がasyncio配下で動いているのでネストさせる。\n",
        "from google.colab import userdata\n",
        "GOOGLE_API_KEY=userdata.get(\"GOOGLE_API_KEY\") # Secrets（🔑）からGOOGLE_API_KEYをNotebook access可能にする"
      ],
      "metadata": {
        "id": "CgPmAsSvPZYS",
        "colab": {
          "base_uri": "https://localhost:8080/"
        },
        "outputId": "e06e25e9-4a28-4412-c761-1124b9cf067e"
      },
      "execution_count": null,
      "outputs": [
        {
          "output_type": "stream",
          "name": "stdout",
          "text": [
            "\u001b[?25l   \u001b[90m━━━━━━━━━━━━━━━━━━━━━━━━━━━━━━━━━━━━━━━━\u001b[0m \u001b[32m0.0/112.7 kB\u001b[0m \u001b[31m?\u001b[0m eta \u001b[36m-:--:--\u001b[0m\r\u001b[2K   \u001b[90m━━━━━━━━━━━━━━━━━━━━━━━━━━━━━━━━━━━━━━━━\u001b[0m \u001b[32m112.7/112.7 kB\u001b[0m \u001b[31m6.6 MB/s\u001b[0m eta \u001b[36m0:00:00\u001b[0m\n",
            "\u001b[?25h\u001b[?25l   \u001b[90m━━━━━━━━━━━━━━━━━━━━━━━━━━━━━━━━━━━━━━━━\u001b[0m \u001b[32m0.0/243.4 kB\u001b[0m \u001b[31m?\u001b[0m eta \u001b[36m-:--:--\u001b[0m\r\u001b[2K   \u001b[90m━━━━━━━━━━━━━━━━━━━━━━━━━━━━━━━━━━━━━━━━\u001b[0m \u001b[32m243.4/243.4 kB\u001b[0m \u001b[31m13.7 MB/s\u001b[0m eta \u001b[36m0:00:00\u001b[0m\n",
            "\u001b[2K   \u001b[90m━━━━━━━━━━━━━━━━━━━━━━━━━━━━━━━━━━━━━━━━\u001b[0m \u001b[32m253.9/253.9 kB\u001b[0m \u001b[31m16.7 MB/s\u001b[0m eta \u001b[36m0:00:00\u001b[0m\n",
            "\u001b[2K   \u001b[90m━━━━━━━━━━━━━━━━━━━━━━━━━━━━━━━━━━━━━━━━\u001b[0m \u001b[32m128.5/128.5 kB\u001b[0m \u001b[31m8.3 MB/s\u001b[0m eta \u001b[36m0:00:00\u001b[0m\n",
            "\u001b[2K   \u001b[90m━━━━━━━━━━━━━━━━━━━━━━━━━━━━━━━━━━━━━━━━\u001b[0m \u001b[32m121.9/121.9 kB\u001b[0m \u001b[31m8.2 MB/s\u001b[0m eta \u001b[36m0:00:00\u001b[0m\n",
            "\u001b[2K   \u001b[90m━━━━━━━━━━━━━━━━━━━━━━━━━━━━━━━━━━━━━━━━\u001b[0m \u001b[32m271.6/271.6 kB\u001b[0m \u001b[31m17.3 MB/s\u001b[0m eta \u001b[36m0:00:00\u001b[0m\n",
            "\u001b[2K   \u001b[90m━━━━━━━━━━━━━━━━━━━━━━━━━━━━━━━━━━━━━━━━\u001b[0m \u001b[32m472.8/472.8 kB\u001b[0m \u001b[31m28.4 MB/s\u001b[0m eta \u001b[36m0:00:00\u001b[0m\n",
            "\u001b[2K   \u001b[90m━━━━━━━━━━━━━━━━━━━━━━━━━━━━━━━━━━━━━━━━\u001b[0m \u001b[32m65.0/65.0 kB\u001b[0m \u001b[31m4.7 MB/s\u001b[0m eta \u001b[36m0:00:00\u001b[0m\n",
            "\u001b[2K   \u001b[90m━━━━━━━━━━━━━━━━━━━━━━━━━━━━━━━━━━━━━━━━\u001b[0m \u001b[32m3.3/3.3 MB\u001b[0m \u001b[31m61.2 MB/s\u001b[0m eta \u001b[36m0:00:00\u001b[0m\n",
            "\u001b[2K   \u001b[90m━━━━━━━━━━━━━━━━━━━━━━━━━━━━━━━━━━━━━━━━\u001b[0m \u001b[32m75.6/75.6 kB\u001b[0m \u001b[31m4.4 MB/s\u001b[0m eta \u001b[36m0:00:00\u001b[0m\n",
            "\u001b[?25h\u001b[31mERROR: pip's dependency resolver does not currently take into account all the packages that are installed. This behaviour is the source of the following dependency conflicts.\n",
            "opentelemetry-sdk 1.16.0 requires opentelemetry-api==1.16.0, but you have opentelemetry-api 1.30.0 which is incompatible.\u001b[0m\u001b[31m\n",
            "\u001b[0m"
          ]
        }
      ]
    },
    {
      "cell_type": "markdown",
      "source": [
        "# 通常のプロンプト\n"
      ],
      "metadata": {
        "id": "ZwWD7D-65zLK"
      }
    },
    {
      "cell_type": "code",
      "source": [
        "from pydantic_ai import Agent\n",
        "from pydantic_ai.models.gemini import GeminiModel\n",
        "from pydantic import BaseModel\n",
        "\n",
        "model = GeminiModel(\"gemini-2.0-flash\", api_key=GOOGLE_API_KEY)\n",
        "\n",
        "# デフォルトでは文字列が返ってくる上に、最後に改行が入ってくる\n",
        "agent = Agent(model=model)\n",
        "result = await agent.run(\"1+1=?\")\n",
        "print(result.data)\n",
        "\n",
        "# === 応答の型の変更 ===\n",
        "\n",
        "# 強制的に数字で返させることも可能\n",
        "agent = Agent(model=model, result_type=int)\n",
        "result = await agent.run(\"1+1=?\")\n",
        "print(result.data) # 2 が数字で返ってくる\n",
        "agent = Agent(model=model, result_type=int)\n",
        "result = await agent.run(\"水曜日の次は何曜日？\")\n",
        "print(result.data) # これもなんとかして数字で返そうとしてくる。日曜日は0、月曜日は1、といった塩梅である。\n",
        "\n",
        "# run実行時にさらに強制的に文字列で返させることも可能\n",
        "agent = Agent(model=model, result_type=int)\n",
        "result = await agent.run(\"土曜日の次は何曜日？\", result_type=str)\n",
        "print(result.data) # 文字列で返される。最後に改行が入ってくる\n",
        "\n",
        "# 構造体も可能。この場合、変数名が意味を持つので注意が必要。\n",
        "class Answer(BaseModel):\n",
        "    曜日: str\n",
        "    日付: int\n",
        "agent = Agent(model=model, result_type=Answer)\n",
        "result = await agent.run(\"土曜日が12日だとして、その4日後は何曜日の何日？\")\n",
        "print(result.data.曜日, result.data.日付)"
      ],
      "metadata": {
        "colab": {
          "base_uri": "https://localhost:8080/"
        },
        "id": "xzDUxVEBQKoP",
        "outputId": "72f23374-3903-446d-e21c-20f71193559a"
      },
      "execution_count": null,
      "outputs": [
        {
          "output_type": "stream",
          "name": "stdout",
          "text": [
            "1 + 1 = 2\n",
            "\n",
            "2\n",
            "4\n",
            "土曜日の次は日曜日です。\n",
            "\n",
            "曜日='水曜日' 日付=16\n"
          ]
        }
      ]
    },
    {
      "cell_type": "code",
      "source": [
        "from pydantic_ai import Agent, ModelRetry\n",
        "from pydantic_ai.models.gemini import GeminiModel\n",
        "\n",
        "from pydantic import BaseModel, StringConstraints\n",
        "from typing import Annotated\n",
        "\n",
        "model = GeminiModel(\"gemini-2.0-flash\", api_key=GOOGLE_API_KEY)\n",
        "\n",
        "# === 応答の型の変更 (制限付き応答) ===\n",
        "\n",
        "class Answer(BaseModel):\n",
        "    曜日: Annotated[str, StringConstraints(max_length=2)] # 曜日を2文字以内で表現するように制限\n",
        "    日付: int\n",
        "\n",
        "agent = Agent(model=model, result_type=Answer)\n",
        "result = await agent.run(\"土曜日が12日だとして、その4日後は何曜日の何日？\")\n",
        "print(result.data.曜日, result.data.日付)\n",
        "\n",
        "class Answer(BaseModel):\n",
        "    曜日: Annotated[str, StringConstraints(pattern=\"^.曜日$\")] # \"水曜日\" という表現に制限\n",
        "    日付: int\n",
        "\n",
        "agent = Agent(model=model, result_type=Answer)\n",
        "result = await agent.run(\"土曜日が12日だとして、その4日後は何曜日の何日？\")\n",
        "print(result.data.曜日, result.data.日付)"
      ],
      "metadata": {
        "colab": {
          "base_uri": "https://localhost:8080/"
        },
        "id": "C4lZkKwO6jtr",
        "outputId": "38bcfcb4-9223-4d36-cbf0-529e867529ea"
      },
      "execution_count": null,
      "outputs": [
        {
          "output_type": "stream",
          "name": "stdout",
          "text": [
            "水 16\n",
            "水曜日 16\n"
          ]
        }
      ]
    },
    {
      "cell_type": "markdown",
      "source": [
        "# システムプロンプト"
      ],
      "metadata": {
        "id": "aVTSNqpYzPcH"
      }
    },
    {
      "cell_type": "code",
      "source": [
        "from pydantic_ai import Agent, RunContext\n",
        "from pydantic_ai.models.gemini import GeminiModel\n",
        "\n",
        "model = GeminiModel(\"gemini-2.0-flash\", api_key=GOOGLE_API_KEY)\n",
        "\n",
        "# デコレータを使い、動的にシステムプロンプトを付与する場合\n",
        "agent = Agent(model=model)\n",
        "@agent.system_prompt\n",
        "async def 入れ知恵(ctx: RunContext[None]) -> str:\n",
        "    return \"あなたはカラスの専門家です。\"\n",
        "result = await agent.run(\"多くのカラスは黒いですか？\")\n",
        "print(result.data)\n",
        "\n",
        "# 静的にエージェントにシステムプロンプトを付与する場合\n",
        "agent = Agent(model=model, system_prompt=\"あなたは逆のことを伝えるAIエージェントです。\")\n",
        "result = await agent.run(\"多くのカラスは黒いですか？\")\n",
        "print(result.data)\n",
        "\n"
      ],
      "metadata": {
        "colab": {
          "base_uri": "https://localhost:8080/"
        },
        "id": "cL_NAQCxWW3f",
        "outputId": "264c2280-26f6-452b-8559-0cc29969802e"
      },
      "execution_count": null,
      "outputs": [
        {
          "output_type": "stream",
          "name": "stdout",
          "text": [
            "はい、その通りです。世界中に様々な種類のカラスがいますが、その多くは全身が黒い羽毛で覆われています。\n",
            "\n",
            "特に、日本でよく見かける「ハシブトガラス」や「ハシボソガラス」は、どちらも全身が黒いことで知られています。これらのカラスは、都市部から農村部まで、幅広い環境に適応して生息しています。\n",
            "\n",
            "ただし、カラスの中には、一部が白い模様を持つものや、光の加減で青や紫に見えるものもいます。また、幼鳥の頃は羽の色が少し異なる場合もあります。\n",
            "\n",
            "もし、特定の種類のカラスについて知りたいことがあれば、お気軽にご質問ください。\n",
            "\n",
            "いいえ、カラスは色がありません。\n"
          ]
        }
      ]
    },
    {
      "cell_type": "markdown",
      "source": [
        "# Deps"
      ],
      "metadata": {
        "id": "5DFhZgypzScR"
      }
    },
    {
      "cell_type": "code",
      "source": [
        "from pydantic import BaseModel\n",
        "from pydantic_ai import Agent, RunContext\n",
        "from pydantic_ai.models.gemini import GeminiModel\n",
        "\n",
        "model = GeminiModel(\"gemini-2.0-flash\", api_key=GOOGLE_API_KEY)\n",
        "\n",
        "class Species(BaseModel):\n",
        "    名前: str\n",
        "    色: str\n",
        "\n",
        "class Answer(BaseModel):\n",
        "    回答: bool\n",
        "    補足事項: str\n",
        "\n",
        "agent = Agent(model=model, deps_type=Species, result_type=Answer)\n",
        "@agent.system_prompt\n",
        "async def 入れ知恵(ctx: RunContext[Species]) -> str:\n",
        "    return f\"あなたは{ctx.deps.名前}の専門家です。\" # 変数化することで、この関数の単体テストがしやすくなる。\n",
        "\n",
        "species = Species(名前=\"カラス\", 色=\"黒い\")\n",
        "result = await agent.run(f\"多くの{species.名前}は{species.色}ですか？\", deps=species) #\n",
        "print(result.data.回答)\n",
        "print(result.data.補足事項)\n",
        "\n",
        "species = Species(名前=\"サイコロ\", 色=\"白い\") # 変数化することで、プロンプトの再利用もしやすくなる。\n",
        "result = await agent.run(f\"多くの{species.名前}は{species.色}ですか？\", deps=species) #\n",
        "print(result.data.回答)\n",
        "print(result.data.補足事項)"
      ],
      "metadata": {
        "id": "DjwwXd2fxc8M",
        "colab": {
          "base_uri": "https://localhost:8080/"
        },
        "outputId": "9be05f87-4fd5-4113-bd9d-1ea644a6d705"
      },
      "execution_count": null,
      "outputs": [
        {
          "output_type": "stream",
          "name": "stdout",
          "text": [
            "True\n",
            "はい、そうです。\n",
            "True\n",
            "多くのサイコロは白いです。\n"
          ]
        }
      ]
    },
    {
      "cell_type": "markdown",
      "source": [
        "# Tool"
      ],
      "metadata": {
        "id": "Pq1M9PjczU8S"
      }
    },
    {
      "cell_type": "code",
      "source": [
        "import datetime\n",
        "import zoneinfo\n",
        "from typing import Annotated\n",
        "from pydantic_ai import Agent, RunContext\n",
        "from pydantic_ai.models.gemini import GeminiModel\n",
        "from pydantic import BaseModel, StringConstraints\n",
        "\n",
        "model = GeminiModel(\"gemini-2.0-flash\", api_key=GOOGLE_API_KEY)\n",
        "\n",
        "agent = Agent(model=model)\n",
        "@agent.tool_plain\n",
        "def get_today_date() -> str:\n",
        "    \"\"\"get today date as format \"%04Y-%02m-%02d\" in UTC\"\"\"\n",
        "    now = datetime.datetime.now(tz=datetime.timezone.utc)\n",
        "    return now.strftime(\"%04Y-%02m-%02d\")\n",
        "\n",
        "result = await agent.run(\"今日はUTCで何日？\")\n",
        "print(result.data)\n",
        "\n",
        "# === toolとdepsの組み合わせ ===\n",
        "\n",
        "class Timezone(BaseModel):\n",
        "    tzname: Annotated[str, StringConstraints(pattern=\"|\".join(zoneinfo.available_timezones()))]\n",
        "\n",
        "agent = Agent(model=model, deps_type=Timezone)\n",
        "\n",
        "@agent.tool\n",
        "def get_now_time(ctx: RunContext[Timezone]) -> str:\n",
        "    \"\"\"get now time as format \"%02H-%02M-%02S\" \"\"\"\n",
        "    now = datetime.datetime.now(tz=zoneinfo.ZoneInfo(ctx.deps.tzname))\n",
        "    return now.strftime(\"%02H-%02M-%02S\")\n",
        "\n",
        "tz = Timezone(tzname=\"Asia/Tokyo\")\n",
        "result = await agent.run(\"今何時ですか？\", deps=tz)\n",
        "print(result.data) # JSTで帰って来る\n",
        "\n",
        "tz = Timezone(tzname=\"UTC\")\n",
        "result = await agent.run(\"今何時ですか？\", deps=tz)\n",
        "print(result.data) # UTCで帰って来る\n"
      ],
      "metadata": {
        "colab": {
          "base_uri": "https://localhost:8080/"
        },
        "id": "OMZmbC8TuqrH",
        "outputId": "72783a55-a65f-4ed3-eb37-46213532847c"
      },
      "execution_count": null,
      "outputs": [
        {
          "output_type": "stream",
          "name": "stdout",
          "text": [
            "今日はUTCで2025-03-01です。\n",
            "現在13時36分20秒です。\n",
            "現在、04時36分22秒です。\n"
          ]
        }
      ]
    },
    {
      "cell_type": "markdown",
      "source": [
        "# Message History"
      ],
      "metadata": {
        "id": "4zZhAa9MzX8d"
      }
    },
    {
      "cell_type": "code",
      "source": [
        "from pydantic_ai import Agent\n",
        "from pydantic_ai.models.gemini import GeminiModel\n",
        "from pydantic_ai.messages import (\n",
        "    ModelRequest,\n",
        "    ModelResponse,\n",
        "    UserPromptPart,\n",
        "    SystemPromptPart,\n",
        "    TextPart\n",
        ")\n",
        "\n",
        "model = GeminiModel(\"gemini-2.0-flash\", api_key=GOOGLE_API_KEY)\n",
        "\n",
        "# === 連続的な会話のプロンプト ===\n",
        "\n",
        "agent = Agent(model=model, system_prompt=\"あなたは数学者です。\")\n",
        "result = await agent.run(\"1+1=?\")\n",
        "messages = result.all_messages()\n",
        "result = await agent.run(\"それに2を掛けると？\", message_history=messages,)\n",
        "print(result.data)\n",
        "\n",
        "# Langchainのように途中の会話を改ざんすることも可能 詳細は https://ai.pydantic.dev/api/messages/\n",
        "forged_messages = [\n",
        "    ModelRequest(parts=[SystemPromptPart(content=\"あなたはしりとりのエキスパートです。\"), UserPromptPart(content=\"しりとり\")]),\n",
        "    ModelResponse(parts=[TextPart(content=\"りんり\"),]),\n",
        "    ModelRequest(parts=[UserPromptPart(content=\"りか\")]),\n",
        "    ModelResponse(parts=[TextPart(content=\"かりん\"),]),\n",
        "]\n",
        "result = await agent.run(\"「かりん」は「ん」で終わります。あなたの負けです\", message_history=forged_messages)\n",
        "print(result.data)"
      ],
      "metadata": {
        "id": "j2p0e24sA0Md",
        "colab": {
          "base_uri": "https://localhost:8080/"
        },
        "outputId": "1caa923d-bc0a-4a7f-d9aa-f4117c2cfc39"
      },
      "execution_count": null,
      "outputs": [
        {
          "output_type": "stream",
          "name": "stdout",
          "text": [
            "(1 + 1) * 2 = 2 * 2 = 4\n",
            "\n",
            "したがって、1 + 1 に 2 を掛けると 4 になります。\n",
            "\n",
            "4 に 2 を掛けると、8 になります。\n",
            "\n",
            "大変失礼いたしました。「かりん」で終わってしまいましたね。私の負けです。\n",
            "\n"
          ]
        }
      ]
    },
    {
      "cell_type": "markdown",
      "source": [
        "Multi-Agent-Systems"
      ],
      "metadata": {
        "id": "W-eB7pKuza0Q"
      }
    },
    {
      "cell_type": "code",
      "source": [
        "import random\n",
        "from typing import Annotated, Optional\n",
        "from pydantic_ai import Agent, RunContext\n",
        "from pydantic_ai.models.gemini import GeminiModel\n",
        "from pydantic import BaseModel, StringConstraints\n",
        "from dataclasses import dataclass\n",
        "\n",
        "model = GeminiModel(\"gemini-2.0-flash\", api_key=GOOGLE_API_KEY)\n",
        "\n",
        "# 呼び出すAgentが固定的である場合、オーケストレーターは不要\n",
        "\n",
        "@dataclass\n",
        "class JankenResult:\n",
        "    result: Annotated[str, StringConstraints(pattern=\"^(グー|チョキ|パー)$\")] | None\n",
        "\n",
        "@dataclass\n",
        "class JankenResults:\n",
        "    mario: JankenResult\n",
        "    luigi: JankenResult\n",
        "\n",
        "mario = Agent(\n",
        "    model=model, name=\"Mario\",\n",
        "    system_prompt=\"あなたはジャンケンをするAIエージェントです。\"\n",
        "                  \"'get_janken' toolを使用し、ジャンケンで「グー」、「チョキ」、「パー」のどれかをランダムに出します。\",\n",
        "    deps_type=None, result_type=JankenResult\n",
        ")\n",
        "luigi = Agent(\n",
        "    model=model, name=\"Luigi\",\n",
        "    system_prompt=\"あなたはジャンケンをするAIエージェントです。\"\n",
        "                  \"'get_janken' toolを使用し、ジャンケンで「グー」、「チョキ」、「パー」のどれかをランダムに出します。\",\n",
        "    deps_type=None, result_type=JankenResult\n",
        ")\n",
        "peach = Agent(\n",
        "    model=model, name=\"Peach\",\n",
        "    system_prompt=\"あなたはジャンケン勝負の結果を出力するAIエージェントです。\"\n",
        "                  \"'prompt_janken' toolを使用し、ジャンケン勝負の結果と勝敗を出力してください。\",\n",
        "    deps_type=JankenResults, result_type=str\n",
        ")\n",
        "\n",
        "yoshi = Agent(\n",
        "    model=model, name=\"Yoshi\",\n",
        "    system_prompt=\"あなたは親切なAIエージェントです。\"\n",
        "                  \"get_janken_results' toolを使用し結果を教えてください。\",\n",
        "    deps_type=None, result_type=str\n",
        ")\n",
        "\n",
        "@mario.tool\n",
        "def get_janken(ctx: RunContext[None]) -> str:\n",
        "    return random.choice([\"グー\", \"チョキ\", \"パー\"])\n",
        "\n",
        "@luigi.tool\n",
        "def get_janken(ctx: RunContext[None]) -> str:\n",
        "    return random.choice([\"グー\", \"チョキ\", \"パー\"])\n",
        "\n",
        "@peach.tool\n",
        "async def prompt_janken(ctx: RunContext[None]) -> str:\n",
        "    mario_response = await mario.run(\n",
        "        f'ジャンケン、',\n",
        "        usage=ctx.usage,\n",
        "    )\n",
        "    luigi_response = await luigi.run(\n",
        "        f'ジャンケン、',\n",
        "        usage=ctx.usage,\n",
        "    )\n",
        "    jankenResults = JankenResults(mario=mario_response.data, luigi=luigi_response.data)\n",
        "    print(jankenResults)\n",
        "    if jankenResults.mario.result == \"グー\" and jankenResults.luigi.result == \"グー\":\n",
        "        return \"双方グーで引き分けです。\"\n",
        "    elif jankenResults.mario.result == \"グー\" and jankenResults.luigi.result == \"チョキ\":\n",
        "        return \"Marioがグーで勝ちです。\"\n",
        "    elif jankenResults.mario.result == \"グー\" and jankenResults.luigi.result == \"パー\":\n",
        "        return \"Luigiがパーで勝ちです。\"\n",
        "    elif jankenResults.mario.result == \"チョキ\" and jankenResults.luigi.result == \"グー\":\n",
        "        return \"Luigiがグーで勝ちです。\"\n",
        "    elif jankenResults.mario.result == \"チョキ\" and jankenResults.luigi.result == \"チョキ\":\n",
        "        return \"双方チョキで引き分けです。\"\n",
        "    elif jankenResults.mario.result == \"チョキ\" and jankenResults.luigi.result == \"パー\":\n",
        "        return \"Marioがチョキで勝ちです。\"\n",
        "    elif jankenResults.mario.result == \"パー\" and jankenResults.luigi.result == \"グー\":\n",
        "        return \"Marioがパーで勝ちです。\"\n",
        "    elif jankenResults.mario.result == \"パー\" and jankenResults.luigi.result == \"チョキ\":\n",
        "        return \"Luigiがチョキで勝ちです。\"\n",
        "    elif jankenResults.mario.result == \"パー\" and jankenResults.luigi.result == \"パー\":\n",
        "        return \"双方パーで引き分けです。\"\n",
        "    else:\n",
        "        return \"不明な結果です。\"\n",
        "\n",
        "@yoshi.tool\n",
        "async def get_janken_results(ctx: RunContext[None]) -> str:\n",
        "    response = await peach.run(\"ジャンケン勝負の結果と勝敗を出力してください\", usage=ctx.usage)\n",
        "    return response.data\n",
        "\n",
        "result = await yoshi.run(\"どちらがどの手を出したかと、勝敗を教えて下さい。\", deps=None, result_type=str)\n",
        "print(result.data)"
      ],
      "metadata": {
        "id": "fy3vrm8q9k66",
        "colab": {
          "base_uri": "https://localhost:8080/"
        },
        "outputId": "a7d12c06-1db7-4c0e-e05a-9faec70d6972"
      },
      "execution_count": null,
      "outputs": [
        {
          "output_type": "stream",
          "name": "stdout",
          "text": [
            "JankenResults(mario=JankenResult(result='チョキ'), luigi=JankenResult(result='パー'))\n",
            "マリオがチョキを出して勝ちました。\n",
            "\n"
          ]
        }
      ]
    },
    {
      "cell_type": "markdown",
      "source": [
        "# Image and Audio\n",
        "\n",
        "---\n",
        "\n"
      ],
      "metadata": {
        "id": "K2GAdGMi5tCy"
      }
    },
    {
      "cell_type": "code",
      "source": [
        "# 画像認識\n",
        "import httpx\n",
        "from pydantic_ai import Agent, BinaryContent\n",
        "from pydantic_ai.models.gemini import GeminiModel\n",
        "\n",
        "image_response = httpx.get('http://www.sakado-jigenji.jp/images/k_logo.png')\n",
        "model = GeminiModel(\"gemini-2.0-flash\", api_key=GOOGLE_API_KEY)\n",
        "agent = Agent(model=model)\n",
        "result = agent.run_sync(\n",
        "    [\n",
        "        'これは何？',\n",
        "        BinaryContent(data=image_response.content, media_type='image/png'),  # だいたいの画像に対応している\n",
        "    ]\n",
        ")\n",
        "print(result.data)\n",
        "\n",
        "# 音声認識\n",
        "\n",
        "import httpx\n",
        "from pydantic_ai import Agent, BinaryContent\n",
        "from pydantic_ai.models.gemini import GeminiModel\n",
        "\n",
        "audio_response = httpx.get('http://www.sakado-jigenji.jp/dl/pannyashingyou16.mp3')\n",
        "model = GeminiModel(\"gemini-2.0-flash\", api_key=GOOGLE_API_KEY)\n",
        "agent = Agent(model=model)\n",
        "result = agent.run_sync(\n",
        "    [\n",
        "        '文字起こししてください',\n",
        "        BinaryContent(data=audio_response.content, media_type='audio/mpeg'), # mp3, wavに対応しているみたい。\n",
        "    ]\n",
        ")\n",
        "print(result.data)\n"
      ],
      "metadata": {
        "id": "2YO9PsLokdk2",
        "colab": {
          "base_uri": "https://localhost:8080/"
        },
        "outputId": "367a2732-0a6a-4bee-b678-cdcba7857f00"
      },
      "execution_count": null,
      "outputs": [
        {
          "output_type": "stream",
          "name": "stdout",
          "text": [
            "この画像は、由城山 慈眼寺 という寺の標識のようです。\n",
            "ぶせずのぎゃーにゃーはらみーたーしんぎょう、かんじざいぼーさーぎょうじんぎゃーはらみーたーじしょーけんごううんかいくうどーいっさいくーやくしゃーりーしーしきふいくうーいくうーしきしきそくぜーくーくうそくぜーしきじゅそうぎょうしきやくぶにょーぜーしゃーりーしーぜしょーほーくうそうふしょうふめつふじょうふぞうふしょーふげんぜーこーくうじゅうふーしきむじゅうそうぎょうしきむげん じんみぜしんにーむしきしょーこーみそくほーむげんげないしーむいしきげんむむみょうやくむむみょうじんないしむろうしやくむろうしじんむくうじゅめつどうむちやくむとくいーむしょうとっこーぼーだいさったーえーはんにゃーはらみーたーこーしんむけいげーむけいげーこーむふーおんにっさいてんどうむそーくーよーねーはんさんぜしょうぶつえーはんにゃーはらみーたーこーとくあーのくたらさんみゃくさんぼーだいこーちーはんにゃーはらみーたーぜーたいしーじゅぜだいみょうしゅーぜーむじょうしゅーぜーむとーどーしゅーのうじょういっさいくーしんじつーふーこーこーせつはんにゃーはらみーたーしゅーそくせつーしゅうわつぎゃーてーぎゃーてーはーらぎゃーてーはーらそうぎゃーてーぼーじそわーかー　はんにゃーしんぎょう\n",
            "\n"
          ]
        }
      ]
    },
    {
      "cell_type": "code",
      "source": [],
      "metadata": {
        "id": "clIxyze2cHFj"
      },
      "execution_count": null,
      "outputs": []
    }
  ]
}